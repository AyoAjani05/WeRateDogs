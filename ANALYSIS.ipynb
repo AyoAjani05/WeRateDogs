{
  "cells": [
    {
      "cell_type": "markdown",
      "metadata": {
        "id": "view-in-github",
        "colab_type": "text"
      },
      "source": [
        "<a href=\"https://colab.research.google.com/github/AyoAjani05/WeRateDogs/blob/main/ANALYSIS.ipynb\" target=\"_parent\"><img src=\"https://colab.research.google.com/assets/colab-badge.svg\" alt=\"Open In Colab\"/></a>"
      ]
    },
    {
      "cell_type": "markdown",
      "metadata": {
        "id": "_622-ZRev4Qf"
      },
      "source": [
        "Predicting the next nigerian Presidential Election using keywords to scrape data from Nairaland"
      ],
      "id": "_622-ZRev4Qf"
    },
    {
      "cell_type": "code",
      "execution_count": null,
      "metadata": {
        "collapsed": true,
        "id": "gEYm8xkAXVKm"
      },
      "outputs": [],
      "source": [
        "from google.colab import drive\n",
        "drive.mount('/content/drive')"
      ],
      "id": "gEYm8xkAXVKm"
    },
    {
      "cell_type": "code",
      "execution_count": null,
      "metadata": {
        "id": "TBaiiOf4nmOd"
      },
      "outputs": [],
      "source": [
        "import nltk\n",
        "nltk.download('punkt')"
      ],
      "id": "TBaiiOf4nmOd"
    },
    {
      "cell_type": "code",
      "execution_count": null,
      "metadata": {
        "id": "BF1f2yETenCo"
      },
      "outputs": [],
      "source": [
        "import zipfile #getting the data from a zip file\n",
        "\n",
        "with zipfile.ZipFile(\"drive/MyDrive/Nairaland Politics/Politics 40.zip\", 'r') as file:\n",
        "  file.extractall()"
      ],
      "id": "BF1f2yETenCo"
    },
    {
      "cell_type": "markdown",
      "metadata": {
        "id": "oBn-acMPISKu"
      },
      "source": [
        "# for ayo\n",
        "\n",
        "```\n",
        "import zipfile #getting the data from a zip file\n",
        "\n",
        "with zipfile.ZipFile(\"drive/folders/1G4HGO65JtjI3r1AYltw66yV8K7PpGt4b/Politics 40.zip\", 'r') as file:\n",
        "  file.extractall()\n",
        "```\n",
        "#honour jesus you will have to supply the path from your drive"
      ],
      "id": "oBn-acMPISKu"
    },
    {
      "cell_type": "markdown",
      "metadata": {
        "id": "YsjOx-EGcdG8"
      },
      "source": [
        "from google.colab import files\n",
        "uploaded = files.upload()"
      ],
      "id": "YsjOx-EGcdG8"
    },
    {
      "cell_type": "code",
      "execution_count": null,
      "metadata": {
        "colab": {
          "background_save": true
        },
        "id": "Xd-AawKZdI3H"
      },
      "outputs": [],
      "source": [
        "from google.colab import files \n",
        "uploaded = files.upload()\n",
        "# what are you uploading?"
      ],
      "id": "Xd-AawKZdI3H"
    },
    {
      "cell_type": "code",
      "execution_count": 1,
      "metadata": {
        "id": "36WnWBLwoLM_"
      },
      "outputs": [],
      "source": [
        "#IMPORTING THE LIBRARIES\n",
        "import plotly.express as px\n",
        "import pandas as pd\n",
        "import numpy as np\n",
        "import matplotlib.pyplot as plt\n",
        "import seaborn as sns\n",
        "import re\n",
        "from string import punctuation\n",
        "from nltk.tokenize import TweetTokenizer, sent_tokenize\n",
        "from nltk.stem import WordNetLemmatizer\n",
        "plt.rcParams['figure.figsize'] = (12, 8)"
      ],
      "id": "36WnWBLwoLM_"
    },
    {
      "cell_type": "code",
      "execution_count": 2,
      "metadata": {
        "colab": {
          "base_uri": "https://localhost:8080/",
          "height": 226
        },
        "id": "59d6b10f",
        "outputId": "1bb48d3e-46e8-4911-f5da-977b69bbbdff",
        "scrolled": true
      },
      "outputs": [
        {
          "output_type": "stream",
          "name": "stdout",
          "text": [
            "CPU times: user 2.28 s, sys: 1.06 s, total: 3.34 s\n",
            "Wall time: 2.31 s\n"
          ]
        },
        {
          "output_type": "execute_result",
          "data": {
            "text/plain": [
              "                                               Title  \\\n",
              "0  It's A Lie, Emefiele Is Still In His Office Wo...   \n",
              "1  Asiwaju Tinubu Explained The Rumor Against Aji...   \n",
              "\n",
              "                                                Text  \\\n",
              "0  The Central Bank Of Nigeria, CBN has refuted\\n...   \n",
              "1  The National leader of the All Progressives Co...   \n",
              "\n",
              "                                           Text_link   Username  Post  Views  \\\n",
              "0  https://www.nairaland.com/5060082/lie-emefiele...  hinwazaka    84  28426   \n",
              "1  https://www.nairaland.com/5061375/asiwaju-tinu...   Adekkatv     1    174   \n",
              "\n",
              "  Date_joined         Date_posted  \\\n",
              "0  2015-07-18 2019-03-04 17:58:00   \n",
              "1  2018-12-21 2019-03-05 23:23:00   \n",
              "\n",
              "                                        Cleaned_Text Vader_Sentiment  \\\n",
              "0  The Central Bank Of Nigeria, CBN has refuted c...        Negative   \n",
              "1  The National leader of the All Progressives Co...        Positive   \n",
              "\n",
              "  TextBlob_Sentiment  \n",
              "0           Positive  \n",
              "1           Positive  "
            ],
            "text/html": [
              "\n",
              "  <div id=\"df-d35bbf1b-7391-48d2-8c1b-dfdfe0cc7441\">\n",
              "    <div class=\"colab-df-container\">\n",
              "      <div>\n",
              "<style scoped>\n",
              "    .dataframe tbody tr th:only-of-type {\n",
              "        vertical-align: middle;\n",
              "    }\n",
              "\n",
              "    .dataframe tbody tr th {\n",
              "        vertical-align: top;\n",
              "    }\n",
              "\n",
              "    .dataframe thead th {\n",
              "        text-align: right;\n",
              "    }\n",
              "</style>\n",
              "<table border=\"1\" class=\"dataframe\">\n",
              "  <thead>\n",
              "    <tr style=\"text-align: right;\">\n",
              "      <th></th>\n",
              "      <th>Title</th>\n",
              "      <th>Text</th>\n",
              "      <th>Text_link</th>\n",
              "      <th>Username</th>\n",
              "      <th>Post</th>\n",
              "      <th>Views</th>\n",
              "      <th>Date_joined</th>\n",
              "      <th>Date_posted</th>\n",
              "      <th>Cleaned_Text</th>\n",
              "      <th>Vader_Sentiment</th>\n",
              "      <th>TextBlob_Sentiment</th>\n",
              "    </tr>\n",
              "  </thead>\n",
              "  <tbody>\n",
              "    <tr>\n",
              "      <th>0</th>\n",
              "      <td>It's A Lie, Emefiele Is Still In His Office Wo...</td>\n",
              "      <td>The Central Bank Of Nigeria, CBN has refuted\\n...</td>\n",
              "      <td>https://www.nairaland.com/5060082/lie-emefiele...</td>\n",
              "      <td>hinwazaka</td>\n",
              "      <td>84</td>\n",
              "      <td>28426</td>\n",
              "      <td>2015-07-18</td>\n",
              "      <td>2019-03-04 17:58:00</td>\n",
              "      <td>The Central Bank Of Nigeria, CBN has refuted c...</td>\n",
              "      <td>Negative</td>\n",
              "      <td>Positive</td>\n",
              "    </tr>\n",
              "    <tr>\n",
              "      <th>1</th>\n",
              "      <td>Asiwaju Tinubu Explained The Rumor Against Aji...</td>\n",
              "      <td>The National leader of the All Progressives Co...</td>\n",
              "      <td>https://www.nairaland.com/5061375/asiwaju-tinu...</td>\n",
              "      <td>Adekkatv</td>\n",
              "      <td>1</td>\n",
              "      <td>174</td>\n",
              "      <td>2018-12-21</td>\n",
              "      <td>2019-03-05 23:23:00</td>\n",
              "      <td>The National leader of the All Progressives Co...</td>\n",
              "      <td>Positive</td>\n",
              "      <td>Positive</td>\n",
              "    </tr>\n",
              "  </tbody>\n",
              "</table>\n",
              "</div>\n",
              "      <button class=\"colab-df-convert\" onclick=\"convertToInteractive('df-d35bbf1b-7391-48d2-8c1b-dfdfe0cc7441')\"\n",
              "              title=\"Convert this dataframe to an interactive table.\"\n",
              "              style=\"display:none;\">\n",
              "        \n",
              "  <svg xmlns=\"http://www.w3.org/2000/svg\" height=\"24px\"viewBox=\"0 0 24 24\"\n",
              "       width=\"24px\">\n",
              "    <path d=\"M0 0h24v24H0V0z\" fill=\"none\"/>\n",
              "    <path d=\"M18.56 5.44l.94 2.06.94-2.06 2.06-.94-2.06-.94-.94-2.06-.94 2.06-2.06.94zm-11 1L8.5 8.5l.94-2.06 2.06-.94-2.06-.94L8.5 2.5l-.94 2.06-2.06.94zm10 10l.94 2.06.94-2.06 2.06-.94-2.06-.94-.94-2.06-.94 2.06-2.06.94z\"/><path d=\"M17.41 7.96l-1.37-1.37c-.4-.4-.92-.59-1.43-.59-.52 0-1.04.2-1.43.59L10.3 9.45l-7.72 7.72c-.78.78-.78 2.05 0 2.83L4 21.41c.39.39.9.59 1.41.59.51 0 1.02-.2 1.41-.59l7.78-7.78 2.81-2.81c.8-.78.8-2.07 0-2.86zM5.41 20L4 18.59l7.72-7.72 1.47 1.35L5.41 20z\"/>\n",
              "  </svg>\n",
              "      </button>\n",
              "      \n",
              "  <style>\n",
              "    .colab-df-container {\n",
              "      display:flex;\n",
              "      flex-wrap:wrap;\n",
              "      gap: 12px;\n",
              "    }\n",
              "\n",
              "    .colab-df-convert {\n",
              "      background-color: #E8F0FE;\n",
              "      border: none;\n",
              "      border-radius: 50%;\n",
              "      cursor: pointer;\n",
              "      display: none;\n",
              "      fill: #1967D2;\n",
              "      height: 32px;\n",
              "      padding: 0 0 0 0;\n",
              "      width: 32px;\n",
              "    }\n",
              "\n",
              "    .colab-df-convert:hover {\n",
              "      background-color: #E2EBFA;\n",
              "      box-shadow: 0px 1px 2px rgba(60, 64, 67, 0.3), 0px 1px 3px 1px rgba(60, 64, 67, 0.15);\n",
              "      fill: #174EA6;\n",
              "    }\n",
              "\n",
              "    [theme=dark] .colab-df-convert {\n",
              "      background-color: #3B4455;\n",
              "      fill: #D2E3FC;\n",
              "    }\n",
              "\n",
              "    [theme=dark] .colab-df-convert:hover {\n",
              "      background-color: #434B5C;\n",
              "      box-shadow: 0px 1px 3px 1px rgba(0, 0, 0, 0.15);\n",
              "      filter: drop-shadow(0px 1px 2px rgba(0, 0, 0, 0.3));\n",
              "      fill: #FFFFFF;\n",
              "    }\n",
              "  </style>\n",
              "\n",
              "      <script>\n",
              "        const buttonEl =\n",
              "          document.querySelector('#df-d35bbf1b-7391-48d2-8c1b-dfdfe0cc7441 button.colab-df-convert');\n",
              "        buttonEl.style.display =\n",
              "          google.colab.kernel.accessAllowed ? 'block' : 'none';\n",
              "\n",
              "        async function convertToInteractive(key) {\n",
              "          const element = document.querySelector('#df-d35bbf1b-7391-48d2-8c1b-dfdfe0cc7441');\n",
              "          const dataTable =\n",
              "            await google.colab.kernel.invokeFunction('convertToInteractive',\n",
              "                                                     [key], {});\n",
              "          if (!dataTable) return;\n",
              "\n",
              "          const docLinkHtml = 'Like what you see? Visit the ' +\n",
              "            '<a target=\"_blank\" href=https://colab.research.google.com/notebooks/data_table.ipynb>data table notebook</a>'\n",
              "            + ' to learn more about interactive tables.';\n",
              "          element.innerHTML = '';\n",
              "          dataTable['output_type'] = 'display_data';\n",
              "          await google.colab.output.renderOutput(dataTable, element);\n",
              "          const docLink = document.createElement('div');\n",
              "          docLink.innerHTML = docLinkHtml;\n",
              "          element.appendChild(docLink);\n",
              "        }\n",
              "      </script>\n",
              "    </div>\n",
              "  </div>\n",
              "  "
            ]
          },
          "metadata": {},
          "execution_count": 2
        }
      ],
      "source": [
        "%%time\n",
        "scrape = pd.read_parquet(\"Politics 40.parquet\")\n",
        "scrape.head(2)"
      ],
      "id": "59d6b10f"
    },
    {
      "cell_type": "markdown",
      "metadata": {
        "id": "B2OVahFcpITx"
      },
      "source": [
        "DATA CLEANING"
      ],
      "id": "B2OVahFcpITx"
    },
    {
      "cell_type": "code",
      "execution_count": 3,
      "metadata": {
        "id": "1x3PpzbyZ9tw"
      },
      "outputs": [],
      "source": [
        "def Post_selector(string=\"buhari\", data=scrape, column1 = 'Title', column2='Cleaned_Text', case=False):\n",
        "    df = data[(data[column1].str.contains(string, case=case) | data[column2].str.contains(string, case=case))].reset_index(drop=True)\n",
        "    return df"
      ],
      "id": "1x3PpzbyZ9tw"
    },
    {
      "cell_type": "code",
      "execution_count": 4,
      "metadata": {
        "colab": {
          "base_uri": "https://localhost:8080/"
        },
        "id": "0edbed53",
        "outputId": "6c23c7ef-60e7-451e-9a3d-c9da71fb045f"
      },
      "outputs": [
        {
          "output_type": "stream",
          "name": "stdout",
          "text": [
            "<class 'pandas.core.frame.DataFrame'>\n",
            "RangeIndex: 41717 entries, 0 to 41716\n",
            "Data columns (total 11 columns):\n",
            " #   Column              Non-Null Count  Dtype         \n",
            "---  ------              --------------  -----         \n",
            " 0   Title               41717 non-null  object        \n",
            " 1   Text                41717 non-null  object        \n",
            " 2   Text_link           41717 non-null  object        \n",
            " 3   Username            41717 non-null  object        \n",
            " 4   Post                41717 non-null  int64         \n",
            " 5   Views               41717 non-null  int64         \n",
            " 6   Date_joined         41717 non-null  datetime64[ns]\n",
            " 7   Date_posted         41717 non-null  datetime64[ns]\n",
            " 8   Cleaned_Text        41717 non-null  object        \n",
            " 9   Vader_Sentiment     41717 non-null  object        \n",
            " 10  TextBlob_Sentiment  41717 non-null  object        \n",
            "dtypes: datetime64[ns](2), int64(2), object(7)\n",
            "memory usage: 3.5+ MB\n"
          ]
        }
      ],
      "source": [
        "buhari = Post_selector()\n",
        "buhari.info()"
      ],
      "id": "0edbed53"
    },
    {
      "cell_type": "code",
      "execution_count": 5,
      "metadata": {
        "id": "602ee92c"
      },
      "outputs": [],
      "source": [
        "#@title \n",
        "def Sentiment(data= buhari, group=['Year_posted', 'Vader_Sentiment'], column='Title', ratio=False):\n",
        "    Sentiment_Count = data.groupby(group)[column].count()\n",
        "    if ratio:\n",
        "        Sentiment_Ratio = Sentiment_Count/ data.groupby(group[0])[column].count()\n",
        "    else:\n",
        "        Sentiment_Ratio = None\n",
        "    return Sentiment_Count, Sentiment_Ratio\n",
        "\n",
        "def Date_classifer(new='Year_Joined', data=buhari, column_selected='Date_joined', year=True, plot=True, plot_num=1, \n",
        "                   ratio=True, returns=False, legend=(1.15, 0.5), rot=45):\n",
        "    _data = data.copy()\n",
        "    if year:\n",
        "        _data[new] = _data[column_selected].dt.year\n",
        "        \n",
        "    Sentiment_Count, Sentiment_Ratio = Sentiment(group=[new, 'Vader_Sentiment'], ratio=ratio, data = _data)\n",
        "    if plot and plot_num==1:\n",
        "        sns.barplot(x = new, y= 'Title', hue='Vader_Sentiment', data=Sentiment_Count.reset_index())\n",
        "        plt.title(\"Sentiment Count\")\n",
        "        plt.xlabel(new)\n",
        "        plt.ylabel(\"Count\")\n",
        "        plt.xticks(rotation=rot)\n",
        "        plt.legend(bbox_to_anchor=legend)\n",
        "    elif plot and plot_num==2 and ratio:\n",
        "        sns.barplot(x = new, y= 'Title', hue='Vader_Sentiment', data=Sentiment_Ratio.reset_index())\n",
        "        plt.title(\"Sentiment Count\")\n",
        "        plt.xlabel(new)\n",
        "        plt.ylabel(\"Count\")\n",
        "        plt.xticks(rotation=rot)\n",
        "        plt.legend(bbox_to_anchor=legend)\n",
        "    if returns:\n",
        "        value = Sentiment_Count\n",
        "    else:\n",
        "        value = None\n",
        "    return value"
      ],
      "id": "602ee92c"
    },
    {
      "cell_type": "markdown",
      "metadata": {
        "id": "vBQflrJvpVp2"
      },
      "source": [
        "EDA (DATA VISUALIZATION)"
      ],
      "id": "vBQflrJvpVp2"
    },
    {
      "cell_type": "code",
      "execution_count": 6,
      "metadata": {
        "id": "sa34hpCTab3r",
        "colab": {
          "base_uri": "https://localhost:8080/",
          "height": 529
        },
        "outputId": "77ad9f93-a246-4229-c9a5-c23fb788fd5c"
      },
      "outputs": [
        {
          "output_type": "display_data",
          "data": {
            "text/plain": [
              "<Figure size 864x576 with 1 Axes>"
            ],
            "image/png": "[encoded data removed]"
          },
          "metadata": {
            "needs_background": "light"
          }
        }
      ],
      "source": [
        "Date_joined_Count = Date_classifer(returns=True)\n",
        "Date_joined_Count = Date_joined_Count.reset_index()"
      ],
      "id": "sa34hpCTab3r"
    },
    {
      "cell_type": "code",
      "execution_count": 7,
      "metadata": {
        "id": "FYMvJ7JBbBZy",
        "colab": {
          "base_uri": "https://localhost:8080/",
          "height": 529
        },
        "outputId": "c951a938-2702-4103-e916-d9aef9193218"
      },
      "outputs": [
        {
          "output_type": "display_data",
          "data": {
            "text/plain": [
              "<Figure size 864x576 with 1 Axes>"
            ],
            "image/png": "[encoded data removed]"
          },
          "metadata": {
            "needs_background": "light"
          }
        }
      ],
      "source": [
        "Date_classifer(plot_num=2)"
      ],
      "id": "FYMvJ7JBbBZy"
    },
    {
      "cell_type": "code",
      "execution_count": 8,
      "metadata": {
        "id": "gbl7bFGiYD2L",
        "colab": {
          "base_uri": "https://localhost:8080/",
          "height": 529
        },
        "outputId": "6af19d99-7150-4c2b-c81f-8e1babe9c635"
      },
      "outputs": [
        {
          "output_type": "display_data",
          "data": {
            "text/plain": [
              "<Figure size 864x576 with 1 Axes>"
            ],
            "image/png": "[encoded data removed]"
          },
          "metadata": {
            "needs_background": "light"
          }
        }
      ],
      "source": [
        "Date_classifer(column_selected='Date_posted', new='Year_posted')"
      ],
      "id": "gbl7bFGiYD2L"
    },
    {
      "cell_type": "code",
      "execution_count": 9,
      "metadata": {
        "id": "oz8AKDKoYzoV",
        "colab": {
          "base_uri": "https://localhost:8080/",
          "height": 529
        },
        "outputId": "5496c61e-6738-4714-e773-8108808c9603"
      },
      "outputs": [
        {
          "output_type": "display_data",
          "data": {
            "text/plain": [
              "<Figure size 864x576 with 1 Axes>"
            ],
            "image/png": "[encoded data removed]"
          },
          "metadata": {
            "needs_background": "light"
          }
        }
      ],
      "source": [
        "Date_posted_Count = Date_classifer(column_selected='Date_posted', plot_num=2, returns=True, \n",
        "                                   new='Year_posted')\n",
        "Date_posted_Count = Date_posted_Count.reset_index()"
      ],
      "id": "oz8AKDKoYzoV"
    },
    {
      "cell_type": "code",
      "source": [
        "#@title The Year When The Most Posts Were Made.\n",
        "array = Date_posted_Count.drop(columns='Vader_Sentiment').groupby('Year_posted').Title.sum()\n",
        "sns.barplot(x=array.index, y=array.values, color=sns.color_palette()[0]);"
      ],
      "metadata": {
        "colab": {
          "base_uri": "https://localhost:8080/",
          "height": 498
        },
        "id": "67EV2OAzJwgy",
        "outputId": "58825631-6ed1-40fe-a8c5-5b8c203644bf"
      },
      "id": "67EV2OAzJwgy",
      "execution_count": 10,
      "outputs": [
        {
          "output_type": "display_data",
          "data": {
            "text/plain": [
              "<Figure size 864x576 with 1 Axes>"
            ],
            "image/png": "[encoded data removed]"
          },
          "metadata": {
            "needs_background": "light"
          }
        }
      ]
    },
    {
      "cell_type": "code",
      "execution_count": 11,
      "metadata": {
        "id": "BNPlPsrfn0uK",
        "colab": {
          "base_uri": "https://localhost:8080/",
          "height": 542
        },
        "outputId": "404ecc90-cb82-46ca-d7b6-192469d8758e"
      },
      "outputs": [
        {
          "output_type": "display_data",
          "data": {
            "text/html": [
              "<html>\n",
              "<head><meta charset=\"utf-8\" /></head>\n",
              "<body>\n",
              "    <div>            <script src=\"https://cdnjs.cloudflare.com/ajax/libs/mathjax/2.7.5/MathJax.js?config=TeX-AMS-MML_SVG\"></script><script type=\"text/javascript\">if (window.MathJax) {MathJax.Hub.Config({SVG: {font: \"STIX-Web\"}});}</script>                <script type=\"text/javascript\">window.PlotlyConfig = {MathJaxConfig: 'local'};</script>\n",
              "        <script src=\"https://cdn.plot.ly/plotly-2.8.3.min.js\"></script>                <div id=\"94e15110-3166-4061-88a6-9b3671b6ee70\" class=\"plotly-graph-div\" style=\"height:525px; width:100%;\"></div>            <script type=\"text/javascript\">                                    window.PLOTLYENV=window.PLOTLYENV || {};                                    if (document.getElementById(\"94e15110-3166-4061-88a6-9b3671b6ee70\")) {                    Plotly.newPlot(                        \"94e15110-3166-4061-88a6-9b3671b6ee70\",                        [{\"hovertemplate\":\"x=%{x}<br>y=%{y}<extra></extra>\",\"legendgroup\":\"\",\"line\":{\"color\":\"#636efa\",\"dash\":\"solid\"},\"marker\":{\"symbol\":\"circle\"},\"mode\":\"lines\",\"name\":\"\",\"orientation\":\"v\",\"showlegend\":false,\"x\":[2007,2009,2010,2011,2012,2013,2014,2015,2016,2017,2018,2019],\"xaxis\":\"x\",\"y\":[0.0,0.25,0.3999999999999999,0.4285714285714286,0.30000000000000004,0.46153846153846145,1.1578947368421053,3.7073170731707314,0.6580310880829014,4.428125,17.096142774899253,0.3271720802977762],\"yaxis\":\"y\",\"type\":\"scatter\"}],                        {\"template\":{\"data\":{\"bar\":[{\"error_x\":{\"color\":\"#2a3f5f\"},\"error_y\":{\"color\":\"#2a3f5f\"},\"marker\":{\"line\":{\"color\":\"#E5ECF6\",\"width\":0.5},\"pattern\":{\"fillmode\":\"overlay\",\"size\":10,\"solidity\":0.2}},\"type\":\"bar\"}],\"barpolar\":[{\"marker\":{\"line\":{\"color\":\"#E5ECF6\",\"width\":0.5},\"pattern\":{\"fillmode\":\"overlay\",\"size\":10,\"solidity\":0.2}},\"type\":\"barpolar\"}],\"carpet\":[{\"aaxis\":{\"endlinecolor\":\"#2a3f5f\",\"gridcolor\":\"white\",\"linecolor\":\"white\",\"minorgridcolor\":\"white\",\"startlinecolor\":\"#2a3f5f\"},\"baxis\":{\"endlinecolor\":\"#2a3f5f\",\"gridcolor\":\"white\",\"linecolor\":\"white\",\"minorgridcolor\":\"white\",\"startlinecolor\":\"#2a3f5f\"},\"type\":\"carpet\"}],\"choropleth\":[{\"colorbar\":{\"outlinewidth\":0,\"ticks\":\"\"},\"type\":\"choropleth\"}],\"contour\":[{\"colorbar\":{\"outlinewidth\":0,\"ticks\":\"\"},\"colorscale\":[[0.0,\"#0d0887\"],[0.1111111111111111,\"#46039f\"],[0.2222222222222222,\"#7201a8\"],[0.3333333333333333,\"#9c179e\"],[0.4444444444444444,\"#bd3786\"],[0.5555555555555556,\"#d8576b\"],[0.6666666666666666,\"#ed7953\"],[0.7777777777777778,\"#fb9f3a\"],[0.8888888888888888,\"#fdca26\"],[1.0,\"#f0f921\"]],\"type\":\"contour\"}],\"contourcarpet\":[{\"colorbar\":{\"outlinewidth\":0,\"ticks\":\"\"},\"type\":\"contourcarpet\"}],\"heatmap\":[{\"colorbar\":{\"outlinewidth\":0,\"ticks\":\"\"},\"colorscale\":[[0.0,\"#0d0887\"],[0.1111111111111111,\"#46039f\"],[0.2222222222222222,\"#7201a8\"],[0.3333333333333333,\"#9c179e\"],[0.4444444444444444,\"#bd3786\"],[0.5555555555555556,\"#d8576b\"],[0.6666666666666666,\"#ed7953\"],[0.7777777777777778,\"#fb9f3a\"],[0.8888888888888888,\"#fdca26\"],[1.0,\"#f0f921\"]],\"type\":\"heatmap\"}],\"heatmapgl\":[{\"colorbar\":{\"outlinewidth\":0,\"ticks\":\"\"},\"colorscale\":[[0.0,\"#0d0887\"],[0.1111111111111111,\"#46039f\"],[0.2222222222222222,\"#7201a8\"],[0.3333333333333333,\"#9c179e\"],[0.4444444444444444,\"#bd3786\"],[0.5555555555555556,\"#d8576b\"],[0.6666666666666666,\"#ed7953\"],[0.7777777777777778,\"#fb9f3a\"],[0.8888888888888888,\"#fdca26\"],[1.0,\"#f0f921\"]],\"type\":\"heatmapgl\"}],\"histogram\":[{\"marker\":{\"pattern\":{\"fillmode\":\"overlay\",\"size\":10,\"solidity\":0.2}},\"type\":\"histogram\"}],\"histogram2d\":[{\"colorbar\":{\"outlinewidth\":0,\"ticks\":\"\"},\"colorscale\":[[0.0,\"#0d0887\"],[0.1111111111111111,\"#46039f\"],[0.2222222222222222,\"#7201a8\"],[0.3333333333333333,\"#9c179e\"],[0.4444444444444444,\"#bd3786\"],[0.5555555555555556,\"#d8576b\"],[0.6666666666666666,\"#ed7953\"],[0.7777777777777778,\"#fb9f3a\"],[0.8888888888888888,\"#fdca26\"],[1.0,\"#f0f921\"]],\"type\":\"histogram2d\"}],\"histogram2dcontour\":[{\"colorbar\":{\"outlinewidth\":0,\"ticks\":\"\"},\"colorscale\":[[0.0,\"#0d0887\"],[0.1111111111111111,\"#46039f\"],[0.2222222222222222,\"#7201a8\"],[0.3333333333333333,\"#9c179e\"],[0.4444444444444444,\"#bd3786\"],[0.5555555555555556,\"#d8576b\"],[0.6666666666666666,\"#ed7953\"],[0.7777777777777778,\"#fb9f3a\"],[0.8888888888888888,\"#fdca26\"],[1.0,\"#f0f921\"]],\"type\":\"histogram2dcontour\"}],\"mesh3d\":[{\"colorbar\":{\"outlinewidth\":0,\"ticks\":\"\"},\"type\":\"mesh3d\"}],\"parcoords\":[{\"line\":{\"colorbar\":{\"outlinewidth\":0,\"ticks\":\"\"}},\"type\":\"parcoords\"}],\"pie\":[{\"automargin\":true,\"type\":\"pie\"}],\"scatter\":[{\"marker\":{\"colorbar\":{\"outlinewidth\":0,\"ticks\":\"\"}},\"type\":\"scatter\"}],\"scatter3d\":[{\"line\":{\"colorbar\":{\"outlinewidth\":0,\"ticks\":\"\"}},\"marker\":{\"colorbar\":{\"outlinewidth\":0,\"ticks\":\"\"}},\"type\":\"scatter3d\"}],\"scattercarpet\":[{\"marker\":{\"colorbar\":{\"outlinewidth\":0,\"ticks\":\"\"}},\"type\":\"scattercarpet\"}],\"scattergeo\":[{\"marker\":{\"colorbar\":{\"outlinewidth\":0,\"ticks\":\"\"}},\"type\":\"scattergeo\"}],\"scattergl\":[{\"marker\":{\"colorbar\":{\"outlinewidth\":0,\"ticks\":\"\"}},\"type\":\"scattergl\"}],\"scattermapbox\":[{\"marker\":{\"colorbar\":{\"outlinewidth\":0,\"ticks\":\"\"}},\"type\":\"scattermapbox\"}],\"scatterpolar\":[{\"marker\":{\"colorbar\":{\"outlinewidth\":0,\"ticks\":\"\"}},\"type\":\"scatterpolar\"}],\"scatterpolargl\":[{\"marker\":{\"colorbar\":{\"outlinewidth\":0,\"ticks\":\"\"}},\"type\":\"scatterpolargl\"}],\"scatterternary\":[{\"marker\":{\"colorbar\":{\"outlinewidth\":0,\"ticks\":\"\"}},\"type\":\"scatterternary\"}],\"surface\":[{\"colorbar\":{\"outlinewidth\":0,\"ticks\":\"\"},\"colorscale\":[[0.0,\"#0d0887\"],[0.1111111111111111,\"#46039f\"],[0.2222222222222222,\"#7201a8\"],[0.3333333333333333,\"#9c179e\"],[0.4444444444444444,\"#bd3786\"],[0.5555555555555556,\"#d8576b\"],[0.6666666666666666,\"#ed7953\"],[0.7777777777777778,\"#fb9f3a\"],[0.8888888888888888,\"#fdca26\"],[1.0,\"#f0f921\"]],\"type\":\"surface\"}],\"table\":[{\"cells\":{\"fill\":{\"color\":\"#EBF0F8\"},\"line\":{\"color\":\"white\"}},\"header\":{\"fill\":{\"color\":\"#C8D4E3\"},\"line\":{\"color\":\"white\"}},\"type\":\"table\"}]},\"layout\":{\"annotationdefaults\":{\"arrowcolor\":\"#2a3f5f\",\"arrowhead\":0,\"arrowwidth\":1},\"autotypenumbers\":\"strict\",\"coloraxis\":{\"colorbar\":{\"outlinewidth\":0,\"ticks\":\"\"}},\"colorscale\":{\"diverging\":[[0,\"#8e0152\"],[0.1,\"#c51b7d\"],[0.2,\"#de77ae\"],[0.3,\"#f1b6da\"],[0.4,\"#fde0ef\"],[0.5,\"#f7f7f7\"],[0.6,\"#e6f5d0\"],[0.7,\"#b8e186\"],[0.8,\"#7fbc41\"],[0.9,\"#4d9221\"],[1,\"#276419\"]],\"sequential\":[[0.0,\"#0d0887\"],[0.1111111111111111,\"#46039f\"],[0.2222222222222222,\"#7201a8\"],[0.3333333333333333,\"#9c179e\"],[0.4444444444444444,\"#bd3786\"],[0.5555555555555556,\"#d8576b\"],[0.6666666666666666,\"#ed7953\"],[0.7777777777777778,\"#fb9f3a\"],[0.8888888888888888,\"#fdca26\"],[1.0,\"#f0f921\"]],\"sequentialminus\":[[0.0,\"#0d0887\"],[0.1111111111111111,\"#46039f\"],[0.2222222222222222,\"#7201a8\"],[0.3333333333333333,\"#9c179e\"],[0.4444444444444444,\"#bd3786\"],[0.5555555555555556,\"#d8576b\"],[0.6666666666666666,\"#ed7953\"],[0.7777777777777778,\"#fb9f3a\"],[0.8888888888888888,\"#fdca26\"],[1.0,\"#f0f921\"]]},\"colorway\":[\"#636efa\",\"#EF553B\",\"#00cc96\",\"#ab63fa\",\"#FFA15A\",\"#19d3f3\",\"#FF6692\",\"#B6E880\",\"#FF97FF\",\"#FECB52\"],\"font\":{\"color\":\"#2a3f5f\"},\"geo\":{\"bgcolor\":\"white\",\"lakecolor\":\"white\",\"landcolor\":\"#E5ECF6\",\"showlakes\":true,\"showland\":true,\"subunitcolor\":\"white\"},\"hoverlabel\":{\"align\":\"left\"},\"hovermode\":\"closest\",\"mapbox\":{\"style\":\"light\"},\"paper_bgcolor\":\"white\",\"plot_bgcolor\":\"#E5ECF6\",\"polar\":{\"angularaxis\":{\"gridcolor\":\"white\",\"linecolor\":\"white\",\"ticks\":\"\"},\"bgcolor\":\"#E5ECF6\",\"radialaxis\":{\"gridcolor\":\"white\",\"linecolor\":\"white\",\"ticks\":\"\"}},\"scene\":{\"xaxis\":{\"backgroundcolor\":\"#E5ECF6\",\"gridcolor\":\"white\",\"gridwidth\":2,\"linecolor\":\"white\",\"showbackground\":true,\"ticks\":\"\",\"zerolinecolor\":\"white\"},\"yaxis\":{\"backgroundcolor\":\"#E5ECF6\",\"gridcolor\":\"white\",\"gridwidth\":2,\"linecolor\":\"white\",\"showbackground\":true,\"ticks\":\"\",\"zerolinecolor\":\"white\"},\"zaxis\":{\"backgroundcolor\":\"#E5ECF6\",\"gridcolor\":\"white\",\"gridwidth\":2,\"linecolor\":\"white\",\"showbackground\":true,\"ticks\":\"\",\"zerolinecolor\":\"white\"}},\"shapedefaults\":{\"line\":{\"color\":\"#2a3f5f\"}},\"ternary\":{\"aaxis\":{\"gridcolor\":\"white\",\"linecolor\":\"white\",\"ticks\":\"\"},\"baxis\":{\"gridcolor\":\"white\",\"linecolor\":\"white\",\"ticks\":\"\"},\"bgcolor\":\"#E5ECF6\",\"caxis\":{\"gridcolor\":\"white\",\"linecolor\":\"white\",\"ticks\":\"\"}},\"title\":{\"x\":0.05},\"xaxis\":{\"automargin\":true,\"gridcolor\":\"white\",\"linecolor\":\"white\",\"ticks\":\"\",\"title\":{\"standoff\":15},\"zerolinecolor\":\"white\",\"zerolinewidth\":2},\"yaxis\":{\"automargin\":true,\"gridcolor\":\"white\",\"linecolor\":\"white\",\"ticks\":\"\",\"title\":{\"standoff\":15},\"zerolinecolor\":\"white\",\"zerolinewidth\":2}}},\"xaxis\":{\"anchor\":\"y\",\"domain\":[0.0,1.0],\"title\":{\"text\":\"x\"}},\"yaxis\":{\"anchor\":\"x\",\"domain\":[0.0,1.0],\"title\":{\"text\":\"y\"}},\"legend\":{\"tracegroupgap\":0},\"title\":{\"text\":\"Percentage Increase Per Year (Posts)\"}},                        {\"responsive\": true}                    ).then(function(){\n",
              "                            \n",
              "var gd = document.getElementById('94e15110-3166-4061-88a6-9b3671b6ee70');\n",
              "var x = new MutationObserver(function (mutations, observer) {{\n",
              "        var display = window.getComputedStyle(gd).display;\n",
              "        if (!display || display === 'none') {{\n",
              "            console.log([gd, 'removed!']);\n",
              "            Plotly.purge(gd);\n",
              "            observer.disconnect();\n",
              "        }}\n",
              "}});\n",
              "\n",
              "// Listen for the removal of the full notebook cells\n",
              "var notebookContainer = gd.closest('#notebook-container');\n",
              "if (notebookContainer) {{\n",
              "    x.observe(notebookContainer, {childList: true});\n",
              "}}\n",
              "\n",
              "// Listen for the clearing of the current output cell\n",
              "var outputEl = gd.closest('.output');\n",
              "if (outputEl) {{\n",
              "    x.observe(outputEl, {childList: true});\n",
              "}}\n",
              "\n",
              "                        })                };                            </script>        </div>\n",
              "</body>\n",
              "</html>"
            ]
          },
          "metadata": {}
        }
      ],
      "source": [
        "cum = np.cumsum(array.values)\n",
        "cum_percent = pd.DataFrame(cum).pct_change().fillna(0).values.reshape(12,)\n",
        "fig = px.line(x = array.index, y= cum_percent, title=\"Percentage Increase Per Year (Posts)\")\n",
        "fig.show()"
      ],
      "id": "BNPlPsrfn0uK"
    },
    {
      "cell_type": "code",
      "execution_count": 12,
      "metadata": {
        "id": "67e43699",
        "colab": {
          "base_uri": "https://localhost:8080/",
          "height": 498
        },
        "outputId": "c8503d86-0c2d-42d8-9d86-609d6cf88690"
      },
      "outputs": [
        {
          "output_type": "display_data",
          "data": {
            "text/plain": [
              "<Figure size 864x576 with 1 Axes>"
            ],
            "image/png": "[encoded data removed]"
          },
          "metadata": {
            "needs_background": "light"
          }
        }
      ],
      "source": [
        "#@title The Year When The Most People Joined Nairaland.\n",
        "array2 = Date_joined_Count.drop(columns='Vader_Sentiment').groupby(\"Year_Joined\").Title.sum()\n",
        "sns.barplot(x=array2.index, y=array2.values, color=sns.color_palette()[0]);"
      ],
      "id": "67e43699"
    },
    {
      "cell_type": "code",
      "execution_count": 13,
      "metadata": {
        "id": "a25b487e",
        "colab": {
          "base_uri": "https://localhost:8080/",
          "height": 542
        },
        "outputId": "62afd5eb-d661-4e6e-c924-fe4fe1533a76"
      },
      "outputs": [
        {
          "output_type": "display_data",
          "data": {
            "text/html": [
              "<html>\n",
              "<head><meta charset=\"utf-8\" /></head>\n",
              "<body>\n",
              "    <div>            <script src=\"https://cdnjs.cloudflare.com/ajax/libs/mathjax/2.7.5/MathJax.js?config=TeX-AMS-MML_SVG\"></script><script type=\"text/javascript\">if (window.MathJax) {MathJax.Hub.Config({SVG: {font: \"STIX-Web\"}});}</script>                <script type=\"text/javascript\">window.PlotlyConfig = {MathJaxConfig: 'local'};</script>\n",
              "        <script src=\"https://cdn.plot.ly/plotly-2.8.3.min.js\"></script>                <div id=\"7d3a2081-cbb9-4743-b486-7958c5fc7b6c\" class=\"plotly-graph-div\" style=\"height:525px; width:100%;\"></div>            <script type=\"text/javascript\">                                    window.PLOTLYENV=window.PLOTLYENV || {};                                    if (document.getElementById(\"7d3a2081-cbb9-4743-b486-7958c5fc7b6c\")) {                    Plotly.newPlot(                        \"7d3a2081-cbb9-4743-b486-7958c5fc7b6c\",                        [{\"hovertemplate\":\"x=%{x}<br>y=%{y}<extra></extra>\",\"legendgroup\":\"\",\"line\":{\"color\":\"#636efa\",\"dash\":\"solid\"},\"marker\":{\"symbol\":\"circle\"},\"mode\":\"lines\",\"name\":\"\",\"orientation\":\"v\",\"showlegend\":false,\"x\":[2005,2006,2007,2008,2009,2010,2011,2012,2013,2014,2015,2016,2017,2018,2019],\"xaxis\":\"x\",\"y\":[0.0,6.133333333333334,2.4361370716510904,0.3934723481414324,0.4209499024072869,0.3392857142857142,0.3073504273504273,0.48587866108786604,0.3972192889827526,0.24448923038166015,0.41224696356275303,0.41295778685587337,0.32731422774537156,0.48914704983185575,0.02704783412030376],\"yaxis\":\"y\",\"type\":\"scatter\"}],                        {\"template\":{\"data\":{\"bar\":[{\"error_x\":{\"color\":\"#2a3f5f\"},\"error_y\":{\"color\":\"#2a3f5f\"},\"marker\":{\"line\":{\"color\":\"#E5ECF6\",\"width\":0.5},\"pattern\":{\"fillmode\":\"overlay\",\"size\":10,\"solidity\":0.2}},\"type\":\"bar\"}],\"barpolar\":[{\"marker\":{\"line\":{\"color\":\"#E5ECF6\",\"width\":0.5},\"pattern\":{\"fillmode\":\"overlay\",\"size\":10,\"solidity\":0.2}},\"type\":\"barpolar\"}],\"carpet\":[{\"aaxis\":{\"endlinecolor\":\"#2a3f5f\",\"gridcolor\":\"white\",\"linecolor\":\"white\",\"minorgridcolor\":\"white\",\"startlinecolor\":\"#2a3f5f\"},\"baxis\":{\"endlinecolor\":\"#2a3f5f\",\"gridcolor\":\"white\",\"linecolor\":\"white\",\"minorgridcolor\":\"white\",\"startlinecolor\":\"#2a3f5f\"},\"type\":\"carpet\"}],\"choropleth\":[{\"colorbar\":{\"outlinewidth\":0,\"ticks\":\"\"},\"type\":\"choropleth\"}],\"contour\":[{\"colorbar\":{\"outlinewidth\":0,\"ticks\":\"\"},\"colorscale\":[[0.0,\"#0d0887\"],[0.1111111111111111,\"#46039f\"],[0.2222222222222222,\"#7201a8\"],[0.3333333333333333,\"#9c179e\"],[0.4444444444444444,\"#bd3786\"],[0.5555555555555556,\"#d8576b\"],[0.6666666666666666,\"#ed7953\"],[0.7777777777777778,\"#fb9f3a\"],[0.8888888888888888,\"#fdca26\"],[1.0,\"#f0f921\"]],\"type\":\"contour\"}],\"contourcarpet\":[{\"colorbar\":{\"outlinewidth\":0,\"ticks\":\"\"},\"type\":\"contourcarpet\"}],\"heatmap\":[{\"colorbar\":{\"outlinewidth\":0,\"ticks\":\"\"},\"colorscale\":[[0.0,\"#0d0887\"],[0.1111111111111111,\"#46039f\"],[0.2222222222222222,\"#7201a8\"],[0.3333333333333333,\"#9c179e\"],[0.4444444444444444,\"#bd3786\"],[0.5555555555555556,\"#d8576b\"],[0.6666666666666666,\"#ed7953\"],[0.7777777777777778,\"#fb9f3a\"],[0.8888888888888888,\"#fdca26\"],[1.0,\"#f0f921\"]],\"type\":\"heatmap\"}],\"heatmapgl\":[{\"colorbar\":{\"outlinewidth\":0,\"ticks\":\"\"},\"colorscale\":[[0.0,\"#0d0887\"],[0.1111111111111111,\"#46039f\"],[0.2222222222222222,\"#7201a8\"],[0.3333333333333333,\"#9c179e\"],[0.4444444444444444,\"#bd3786\"],[0.5555555555555556,\"#d8576b\"],[0.6666666666666666,\"#ed7953\"],[0.7777777777777778,\"#fb9f3a\"],[0.8888888888888888,\"#fdca26\"],[1.0,\"#f0f921\"]],\"type\":\"heatmapgl\"}],\"histogram\":[{\"marker\":{\"pattern\":{\"fillmode\":\"overlay\",\"size\":10,\"solidity\":0.2}},\"type\":\"histogram\"}],\"histogram2d\":[{\"colorbar\":{\"outlinewidth\":0,\"ticks\":\"\"},\"colorscale\":[[0.0,\"#0d0887\"],[0.1111111111111111,\"#46039f\"],[0.2222222222222222,\"#7201a8\"],[0.3333333333333333,\"#9c179e\"],[0.4444444444444444,\"#bd3786\"],[0.5555555555555556,\"#d8576b\"],[0.6666666666666666,\"#ed7953\"],[0.7777777777777778,\"#fb9f3a\"],[0.8888888888888888,\"#fdca26\"],[1.0,\"#f0f921\"]],\"type\":\"histogram2d\"}],\"histogram2dcontour\":[{\"colorbar\":{\"outlinewidth\":0,\"ticks\":\"\"},\"colorscale\":[[0.0,\"#0d0887\"],[0.1111111111111111,\"#46039f\"],[0.2222222222222222,\"#7201a8\"],[0.3333333333333333,\"#9c179e\"],[0.4444444444444444,\"#bd3786\"],[0.5555555555555556,\"#d8576b\"],[0.6666666666666666,\"#ed7953\"],[0.7777777777777778,\"#fb9f3a\"],[0.8888888888888888,\"#fdca26\"],[1.0,\"#f0f921\"]],\"type\":\"histogram2dcontour\"}],\"mesh3d\":[{\"colorbar\":{\"outlinewidth\":0,\"ticks\":\"\"},\"type\":\"mesh3d\"}],\"parcoords\":[{\"line\":{\"colorbar\":{\"outlinewidth\":0,\"ticks\":\"\"}},\"type\":\"parcoords\"}],\"pie\":[{\"automargin\":true,\"type\":\"pie\"}],\"scatter\":[{\"marker\":{\"colorbar\":{\"outlinewidth\":0,\"ticks\":\"\"}},\"type\":\"scatter\"}],\"scatter3d\":[{\"line\":{\"colorbar\":{\"outlinewidth\":0,\"ticks\":\"\"}},\"marker\":{\"colorbar\":{\"outlinewidth\":0,\"ticks\":\"\"}},\"type\":\"scatter3d\"}],\"scattercarpet\":[{\"marker\":{\"colorbar\":{\"outlinewidth\":0,\"ticks\":\"\"}},\"type\":\"scattercarpet\"}],\"scattergeo\":[{\"marker\":{\"colorbar\":{\"outlinewidth\":0,\"ticks\":\"\"}},\"type\":\"scattergeo\"}],\"scattergl\":[{\"marker\":{\"colorbar\":{\"outlinewidth\":0,\"ticks\":\"\"}},\"type\":\"scattergl\"}],\"scattermapbox\":[{\"marker\":{\"colorbar\":{\"outlinewidth\":0,\"ticks\":\"\"}},\"type\":\"scattermapbox\"}],\"scatterpolar\":[{\"marker\":{\"colorbar\":{\"outlinewidth\":0,\"ticks\":\"\"}},\"type\":\"scatterpolar\"}],\"scatterpolargl\":[{\"marker\":{\"colorbar\":{\"outlinewidth\":0,\"ticks\":\"\"}},\"type\":\"scatterpolargl\"}],\"scatterternary\":[{\"marker\":{\"colorbar\":{\"outlinewidth\":0,\"ticks\":\"\"}},\"type\":\"scatterternary\"}],\"surface\":[{\"colorbar\":{\"outlinewidth\":0,\"ticks\":\"\"},\"colorscale\":[[0.0,\"#0d0887\"],[0.1111111111111111,\"#46039f\"],[0.2222222222222222,\"#7201a8\"],[0.3333333333333333,\"#9c179e\"],[0.4444444444444444,\"#bd3786\"],[0.5555555555555556,\"#d8576b\"],[0.6666666666666666,\"#ed7953\"],[0.7777777777777778,\"#fb9f3a\"],[0.8888888888888888,\"#fdca26\"],[1.0,\"#f0f921\"]],\"type\":\"surface\"}],\"table\":[{\"cells\":{\"fill\":{\"color\":\"#EBF0F8\"},\"line\":{\"color\":\"white\"}},\"header\":{\"fill\":{\"color\":\"#C8D4E3\"},\"line\":{\"color\":\"white\"}},\"type\":\"table\"}]},\"layout\":{\"annotationdefaults\":{\"arrowcolor\":\"#2a3f5f\",\"arrowhead\":0,\"arrowwidth\":1},\"autotypenumbers\":\"strict\",\"coloraxis\":{\"colorbar\":{\"outlinewidth\":0,\"ticks\":\"\"}},\"colorscale\":{\"diverging\":[[0,\"#8e0152\"],[0.1,\"#c51b7d\"],[0.2,\"#de77ae\"],[0.3,\"#f1b6da\"],[0.4,\"#fde0ef\"],[0.5,\"#f7f7f7\"],[0.6,\"#e6f5d0\"],[0.7,\"#b8e186\"],[0.8,\"#7fbc41\"],[0.9,\"#4d9221\"],[1,\"#276419\"]],\"sequential\":[[0.0,\"#0d0887\"],[0.1111111111111111,\"#46039f\"],[0.2222222222222222,\"#7201a8\"],[0.3333333333333333,\"#9c179e\"],[0.4444444444444444,\"#bd3786\"],[0.5555555555555556,\"#d8576b\"],[0.6666666666666666,\"#ed7953\"],[0.7777777777777778,\"#fb9f3a\"],[0.8888888888888888,\"#fdca26\"],[1.0,\"#f0f921\"]],\"sequentialminus\":[[0.0,\"#0d0887\"],[0.1111111111111111,\"#46039f\"],[0.2222222222222222,\"#7201a8\"],[0.3333333333333333,\"#9c179e\"],[0.4444444444444444,\"#bd3786\"],[0.5555555555555556,\"#d8576b\"],[0.6666666666666666,\"#ed7953\"],[0.7777777777777778,\"#fb9f3a\"],[0.8888888888888888,\"#fdca26\"],[1.0,\"#f0f921\"]]},\"colorway\":[\"#636efa\",\"#EF553B\",\"#00cc96\",\"#ab63fa\",\"#FFA15A\",\"#19d3f3\",\"#FF6692\",\"#B6E880\",\"#FF97FF\",\"#FECB52\"],\"font\":{\"color\":\"#2a3f5f\"},\"geo\":{\"bgcolor\":\"white\",\"lakecolor\":\"white\",\"landcolor\":\"#E5ECF6\",\"showlakes\":true,\"showland\":true,\"subunitcolor\":\"white\"},\"hoverlabel\":{\"align\":\"left\"},\"hovermode\":\"closest\",\"mapbox\":{\"style\":\"light\"},\"paper_bgcolor\":\"white\",\"plot_bgcolor\":\"#E5ECF6\",\"polar\":{\"angularaxis\":{\"gridcolor\":\"white\",\"linecolor\":\"white\",\"ticks\":\"\"},\"bgcolor\":\"#E5ECF6\",\"radialaxis\":{\"gridcolor\":\"white\",\"linecolor\":\"white\",\"ticks\":\"\"}},\"scene\":{\"xaxis\":{\"backgroundcolor\":\"#E5ECF6\",\"gridcolor\":\"white\",\"gridwidth\":2,\"linecolor\":\"white\",\"showbackground\":true,\"ticks\":\"\",\"zerolinecolor\":\"white\"},\"yaxis\":{\"backgroundcolor\":\"#E5ECF6\",\"gridcolor\":\"white\",\"gridwidth\":2,\"linecolor\":\"white\",\"showbackground\":true,\"ticks\":\"\",\"zerolinecolor\":\"white\"},\"zaxis\":{\"backgroundcolor\":\"#E5ECF6\",\"gridcolor\":\"white\",\"gridwidth\":2,\"linecolor\":\"white\",\"showbackground\":true,\"ticks\":\"\",\"zerolinecolor\":\"white\"}},\"shapedefaults\":{\"line\":{\"color\":\"#2a3f5f\"}},\"ternary\":{\"aaxis\":{\"gridcolor\":\"white\",\"linecolor\":\"white\",\"ticks\":\"\"},\"baxis\":{\"gridcolor\":\"white\",\"linecolor\":\"white\",\"ticks\":\"\"},\"bgcolor\":\"#E5ECF6\",\"caxis\":{\"gridcolor\":\"white\",\"linecolor\":\"white\",\"ticks\":\"\"}},\"title\":{\"x\":0.05},\"xaxis\":{\"automargin\":true,\"gridcolor\":\"white\",\"linecolor\":\"white\",\"ticks\":\"\",\"title\":{\"standoff\":15},\"zerolinecolor\":\"white\",\"zerolinewidth\":2},\"yaxis\":{\"automargin\":true,\"gridcolor\":\"white\",\"linecolor\":\"white\",\"ticks\":\"\",\"title\":{\"standoff\":15},\"zerolinecolor\":\"white\",\"zerolinewidth\":2}}},\"xaxis\":{\"anchor\":\"y\",\"domain\":[0.0,1.0],\"title\":{\"text\":\"x\"}},\"yaxis\":{\"anchor\":\"x\",\"domain\":[0.0,1.0],\"title\":{\"text\":\"y\"}},\"legend\":{\"tracegroupgap\":0},\"title\":{\"text\":\"Percentage Increase Per Year\"}},                        {\"responsive\": true}                    ).then(function(){\n",
              "                            \n",
              "var gd = document.getElementById('7d3a2081-cbb9-4743-b486-7958c5fc7b6c');\n",
              "var x = new MutationObserver(function (mutations, observer) {{\n",
              "        var display = window.getComputedStyle(gd).display;\n",
              "        if (!display || display === 'none') {{\n",
              "            console.log([gd, 'removed!']);\n",
              "            Plotly.purge(gd);\n",
              "            observer.disconnect();\n",
              "        }}\n",
              "}});\n",
              "\n",
              "// Listen for the removal of the full notebook cells\n",
              "var notebookContainer = gd.closest('#notebook-container');\n",
              "if (notebookContainer) {{\n",
              "    x.observe(notebookContainer, {childList: true});\n",
              "}}\n",
              "\n",
              "// Listen for the clearing of the current output cell\n",
              "var outputEl = gd.closest('.output');\n",
              "if (outputEl) {{\n",
              "    x.observe(outputEl, {childList: true});\n",
              "}}\n",
              "\n",
              "                        })                };                            </script>        </div>\n",
              "</body>\n",
              "</html>"
            ]
          },
          "metadata": {}
        }
      ],
      "source": [
        "cum = np.cumsum(array2.values)\n",
        "cum_percent = pd.DataFrame(cum).pct_change().fillna(0).values[:15].reshape(15,)\n",
        "fig = px.line(x = array2.index[:15], y= cum_percent, title=\"Percentage Increase Per Year\")\n",
        "fig.show()"
      ],
      "id": "a25b487e"
    },
    {
      "cell_type": "code",
      "execution_count": 14,
      "metadata": {
        "id": "b6488525"
      },
      "outputs": [],
      "source": [
        "def Year_selector(data=buhari, column_selected='Date_joined', new='Month_Joined', year=2018, returns=True):\n",
        "    df = data[(data[column_selected].dt.year == year)].reset_index(drop=True).copy()\n",
        "    df[new] = df[column_selected].dt.month\n",
        "    Month = df.groupby([new, 'Vader_Sentiment'])['Title'].count()\n",
        "    sns.barplot(x = new, y= 'Title', hue='Vader_Sentiment', data=Month.reset_index())\n",
        "    plt.title(\"Sentiment Count\")\n",
        "    plt.xlabel(new)\n",
        "    plt.ylabel(\"Count\")\n",
        "    plt.xticks(rotation=45)\n",
        "    plt.legend(bbox_to_anchor=[1.3, 0.5])\n",
        "    if returns:\n",
        "        Month = Month\n",
        "    else:\n",
        "        Month = None\n",
        "    return Month"
      ],
      "id": "b6488525"
    },
    {
      "cell_type": "code",
      "execution_count": 15,
      "metadata": {
        "id": "bd0b8624",
        "colab": {
          "base_uri": "https://localhost:8080/",
          "height": 520
        },
        "outputId": "c39fc4a8-f3d4-4163-a89c-afd5396d7f8e"
      },
      "outputs": [
        {
          "output_type": "display_data",
          "data": {
            "text/plain": [
              "<Figure size 864x576 with 1 Axes>"
            ],
            "image/png": "[encoded data removed]"
          },
          "metadata": {
            "needs_background": "light"
          }
        }
      ],
      "source": [
        "Month_2018 = Year_selector()"
      ],
      "id": "bd0b8624"
    },
    {
      "cell_type": "code",
      "execution_count": 16,
      "metadata": {
        "id": "g-Pd1b8OO1bx",
        "colab": {
          "base_uri": "https://localhost:8080/"
        },
        "outputId": "ba935019-8097-420b-a952-e3537a3a8d2d"
      },
      "outputs": [
        {
          "output_type": "execute_result",
          "data": {
            "text/plain": [
              "Month_Joined  Vader_Sentiment\n",
              "1             Negative           552\n",
              "              Neutral             37\n",
              "              Positive           938\n",
              "2             Negative           254\n",
              "              Neutral             37\n",
              "              Positive           465\n",
              "3             Negative           345\n",
              "              Neutral             57\n",
              "              Positive           677\n",
              "4             Negative           440\n",
              "Name: Title, dtype: int64"
            ]
          },
          "metadata": {},
          "execution_count": 16
        }
      ],
      "source": [
        "Month_2018.head(10)"
      ],
      "id": "g-Pd1b8OO1bx"
    },
    {
      "cell_type": "code",
      "execution_count": 17,
      "metadata": {
        "id": "4f18e067",
        "colab": {
          "base_uri": "https://localhost:8080/",
          "height": 520
        },
        "outputId": "2640cae6-6317-4d41-b642-f3e15e5e3254"
      },
      "outputs": [
        {
          "output_type": "display_data",
          "data": {
            "text/plain": [
              "<Figure size 864x576 with 1 Axes>"
            ],
            "image/png": "[encoded data removed]"
          },
          "metadata": {
            "needs_background": "light"
          }
        }
      ],
      "source": [
        "Month_2017 = Year_selector(year=2017)"
      ],
      "id": "4f18e067"
    },
    {
      "cell_type": "code",
      "execution_count": 18,
      "metadata": {
        "id": "wa8VuJSxb0pI",
        "colab": {
          "base_uri": "https://localhost:8080/"
        },
        "outputId": "4fe4fb17-cedf-4298-fa3f-3cfc4dc050dd"
      },
      "outputs": [
        {
          "output_type": "stream",
          "name": "stdout",
          "text": [
            "<class 'pandas.core.frame.DataFrame'>\n",
            "RangeIndex: 13415 entries, 0 to 13414\n",
            "Data columns (total 11 columns):\n",
            " #   Column              Non-Null Count  Dtype         \n",
            "---  ------              --------------  -----         \n",
            " 0   Title               13415 non-null  object        \n",
            " 1   Text                13415 non-null  object        \n",
            " 2   Text_link           13415 non-null  object        \n",
            " 3   Username            13415 non-null  object        \n",
            " 4   Post                13415 non-null  int64         \n",
            " 5   Views               13415 non-null  int64         \n",
            " 6   Date_joined         13415 non-null  datetime64[ns]\n",
            " 7   Date_posted         13415 non-null  datetime64[ns]\n",
            " 8   Cleaned_Text        13415 non-null  object        \n",
            " 9   Vader_Sentiment     13415 non-null  object        \n",
            " 10  TextBlob_Sentiment  13415 non-null  object        \n",
            "dtypes: datetime64[ns](2), int64(2), object(7)\n",
            "memory usage: 1.1+ MB\n"
          ]
        }
      ],
      "source": [
        "atiku = Post_selector(string='atiku')\n",
        "atiku.info()"
      ],
      "id": "wa8VuJSxb0pI"
    },
    {
      "cell_type": "code",
      "execution_count": 22,
      "metadata": {
        "id": "Fz1VpvlohPih",
        "colab": {
          "base_uri": "https://localhost:8080/"
        },
        "outputId": "b657c1e9-dd1f-4d67-cc2e-6d33cf83c66c"
      },
      "outputs": [
        {
          "output_type": "stream",
          "name": "stderr",
          "text": [
            "<ipython-input-3-a3f7c78e33c2>:2: UserWarning:\n",
            "\n",
            "This pattern has match groups. To actually get the groups, use str.extract.\n",
            "\n"
          ]
        },
        {
          "output_type": "stream",
          "name": "stdout",
          "text": [
            "<class 'pandas.core.frame.DataFrame'>\n",
            "RangeIndex: 4673 entries, 0 to 4672\n",
            "Data columns (total 11 columns):\n",
            " #   Column              Non-Null Count  Dtype         \n",
            "---  ------              --------------  -----         \n",
            " 0   Title               4673 non-null   object        \n",
            " 1   Text                4673 non-null   object        \n",
            " 2   Text_link           4673 non-null   object        \n",
            " 3   Username            4673 non-null   object        \n",
            " 4   Post                4673 non-null   int64         \n",
            " 5   Views               4673 non-null   int64         \n",
            " 6   Date_joined         4673 non-null   datetime64[ns]\n",
            " 7   Date_posted         4673 non-null   datetime64[ns]\n",
            " 8   Cleaned_Text        4673 non-null   object        \n",
            " 9   Vader_Sentiment     4673 non-null   object        \n",
            " 10  TextBlob_Sentiment  4673 non-null   object        \n",
            "dtypes: datetime64[ns](2), int64(2), object(7)\n",
            "memory usage: 401.7+ KB\n"
          ]
        }
      ],
      "source": [
        "obi = Post_selector(\"(^obi | obi | obi[.,/\\'\\\"]+| obi+)\")\n",
        "obi.info()"
      ],
      "id": "Fz1VpvlohPih"
    },
    {
      "cell_type": "code",
      "execution_count": null,
      "metadata": {
        "id": "xG7O46mAcTro"
      },
      "outputs": [],
      "source": [
        "atiku_sent = Date_classifer(data=atiku, legend=(1.3, 0.5), returns=True)"
      ],
      "id": "xG7O46mAcTro"
    },
    {
      "cell_type": "code",
      "execution_count": null,
      "metadata": {
        "id": "pQpLBBw13Epg"
      },
      "outputs": [],
      "source": [
        "atiku_ratio = (atiku.query('Vader_Sentiment == \"Positive\"| Vader_Sentiment == \"Neutral\"')\\\n",
        "               .Username.nunique()/ atiku.Username.nunique()) * 100\n",
        "buhari_ratio = (buhari.query('Vader_Sentiment == \"Positive\"| Vader_Sentiment == \"Neutral\"')\\\n",
        "                .Username.nunique()/buhari.Username.nunique()) * 100\n",
        "obi_ratio = (obi.query('Vader_Sentiment == \"Positive\"| Vader_Sentiment == \"Neutral\"')\\\n",
        "             .Username.nunique()/obi.Username.nunique()) * 100    "
      ],
      "id": "pQpLBBw13Epg"
    },
    {
      "cell_type": "code",
      "execution_count": null,
      "metadata": {
        "id": "WOu7cUWwg-85"
      },
      "outputs": [],
      "source": [
        "print(f'atiku\\'s Positivity Ratio: \\t{atiku_ratio}')\n",
        "print(f'buhari\\'s Positivity Ratio: \\t{buhari_ratio}')\n",
        "print(f'obi\\'s Positivity Ratio: \\t{obi_ratio}')"
      ],
      "id": "WOu7cUWwg-85"
    },
    {
      "cell_type": "code",
      "execution_count": null,
      "metadata": {
        "id": "j9i9-SPXkmyv"
      },
      "outputs": [],
      "source": [
        "from sklearn.preprocessing import Normalizer\n",
        "sc = Normalizer()\n",
        "atiku['Standard_Views'] = sc.fit_transform(np.array(atiku.Views).reshape(-1, 1))\n",
        "buhari['Standard_Views'] = sc.fit_transform(np.array(buhari.Views).reshape(-1, 1))\n",
        "obi['Standard_Views'] = sc.fit_transform(np.array(obi.Views).reshape(-1, 1))"
      ],
      "id": "j9i9-SPXkmyv"
    },
    {
      "cell_type": "code",
      "execution_count": null,
      "metadata": {
        "id": "_xusr8AeiZe-"
      },
      "outputs": [],
      "source": [
        "# buhari_views_normalized = (buhari.groupby('Vader_Sentiment')['Standard_Views']\\\n",
        "#                            .sum()/buhari.count()[0]) * 100\n",
        "atiku_views_normalized = (atiku.groupby('Vader_Sentiment')['Standard_Views']\\\n",
        "                          .sum()/atiku.count()[0]) * 100\n",
        "atiku_views_normalized = (obi.groupby('Vader_Sentiment')['Standard_Views']\\\n",
        "                          .sum()/obi.count()[0]) * 100\n",
        "buhari_views_normalized/ buhari_views_normalized.sum()"
      ],
      "id": "_xusr8AeiZe-"
    },
    {
      "cell_type": "code",
      "execution_count": null,
      "metadata": {
        "id": "6JuDslopi-J4"
      },
      "outputs": [],
      "source": [
        "(atiku.groupby('Vader_Sentiment')['Standard_Views'].sum()/atiku.count()[0]) * 100"
      ],
      "id": "6JuDslopi-J4"
    },
    {
      "cell_type": "code",
      "execution_count": null,
      "metadata": {
        "id": "7kOMaTL28T-3"
      },
      "outputs": [],
      "source": [
        "(obi.groupby('Vader_Sentiment')['Standard_Views'].sum()/obi.count()[0]) * 100"
      ],
      "id": "7kOMaTL28T-3"
    },
    {
      "cell_type": "code",
      "execution_count": null,
      "metadata": {
        "id": "dbfe4879"
      },
      "outputs": [],
      "source": [
        "%%time\n",
        "class TitleCleaner:\n",
        "    def __init__(self, Text, symbols =list('!#$%&()*+-;<=>?@[\\\\]^_`{|}~…—–'), quotation = ['‘',  '“', '”', '’'],\n",
        "                token_limit = None, filename=\"Stopwords.txt\"):\n",
        "        self.text = Text\n",
        "        self.symbols = symbols\n",
        "        self.quotation = quotation\n",
        "        self.token_limit = token_limit\n",
        "        self.original_length = None\n",
        "        self.tw = None\n",
        "        self.filename = filename\n",
        "        self.processed_words = None\n",
        "        self.processed_length = None\n",
        "        \n",
        "    def Standardize_quote(self, text):\n",
        "        for item in self.quotation:\n",
        "            text = text.replace(item, \"'\")\n",
        "        for item in self.symbols:\n",
        "            text = text.replace(item, \"\")\n",
        "        return text\n",
        "        \n",
        "        \n",
        "    def Text_cleaner(self, text):\n",
        "        text = self.Standardize_quote(text)\n",
        "        return ' '.join(re.sub(\"(@[A-Za-z0-9]+)|([^0-9A-Za-z \\t])\\\n",
        "                                        |(\\w+:\\/\\/\\S+)|(\\.{2,})|(\\-)|(\\w+:\\S+)\", \" \", text).split())\n",
        "    \n",
        "    def Applier(self):\n",
        "        self.text = self.text.apply(lambda x: self.Text_cleaner(x)).str.strip()\n",
        "        return self.text\n",
        "    \n",
        "    def Tokenize(self):\n",
        "        text = self.Applier()\n",
        "        if self.token_limit:\n",
        "            data = \",\".join(text.to_list())[:self.token_limit]\n",
        "        else:\n",
        "            data = \",\".join(text.to_list())\n",
        "        nlp = TweetTokenizer()\n",
        "        doc = nlp.tokenize(data)\n",
        "        self.original_length = len(doc)\n",
        "        return doc\n",
        "        \n",
        "    def Punc_removal(self):\n",
        "        doc = self.Tokenize()\n",
        "        Total_words = [str(item).strip() for item in doc if str(item) not in punctuation]\n",
        "        self.tw = Total_words\n",
        "        return self.tw\n",
        "    \n",
        "    def Words_classes(self):\n",
        "        Total_words = self.Punc_removal()\n",
        "        Stopwords = self.Open_file()\n",
        "        Total_words = [str(word).strip() for word in Total_words if word.lower() not in Stopwords]\n",
        "        clean_words = pd.Series([str(item).strip() for item in Total_words if \\\n",
        "                                 str(item).isalnum()]).apply(self.exclamation_extractor)\n",
        "        unprocessed_words = pd.Series([str(item).strip() for item in Total_words \\\n",
        "                                       if not str(item).isalnum()]).apply(self.exclamation_extractor)\n",
        "        return clean_words, unprocessed_words\n",
        "    \n",
        "    def exclamation_extractor(self, text):\n",
        "        if text[-2:] == \"'s\":\n",
        "            text = text[:-2]\n",
        "        else:\n",
        "            text = text\n",
        "        return text\n",
        "    \n",
        "    def Open_file(self):\n",
        "        with open(self.filename) as file:\n",
        "            text = file.read().split()\n",
        "        return text\n",
        "    \n",
        "    def Word_processing(self):\n",
        "        clean_words, processed_words = self.Words_classes()\n",
        "        pass"
      ],
      "id": "dbfe4879"
    },
    {
      "cell_type": "code",
      "execution_count": null,
      "metadata": {
        "id": "cac25394"
      },
      "outputs": [],
      "source": [
        "%%time\n",
        "Title = TitleCleaner(scrape.Title)\n",
        "Title2 = TitleCleaner(scrape.Text)\n",
        "\n",
        "Text = Title.Words_classes()"
      ],
      "id": "cac25394"
    },
    {
      "cell_type": "code",
      "execution_count": null,
      "metadata": {
        "id": "l82YunxeUZN5"
      },
      "outputs": [],
      "source": [
        "Text[0].value_counts()"
      ],
      "id": "l82YunxeUZN5"
    },
    {
      "cell_type": "code",
      "execution_count": null,
      "metadata": {
        "id": "IHUyLYd7eP6E"
      },
      "outputs": [],
      "source": [
        "%%time\n",
        "file = [\n",
        "  \"Abia\",\n",
        "  \"Adamawa\",\n",
        "  \"Akwa Ibom\",\n",
        "  \"Anambra\",\n",
        "  \"Bauchi\",\n",
        "  \"Bayelsa\",\n",
        "  \"Benue\",\n",
        "  \"Borno\",\n",
        "  \"Cross River\",\n",
        "  \"Delta\",\n",
        "  \"Ebonyi\",\n",
        "  \"Edo\",\n",
        "  \"Ekiti\",\n",
        "  \"Enugu\",\n",
        "  \"FCT - Abuja\",\n",
        "  \"Gombe\",\n",
        "  \"Imo\",\n",
        "  \"Jigawa\",\n",
        "  \"Kaduna\",\n",
        "  \"Kano\",\n",
        "  \"Katsina\",\n",
        "  \"Kebbi\",\n",
        "  \"Kogi\",\n",
        "  \"Kwara\",\n",
        "  \"Lagos\",\n",
        "  \"Nasarawa\",\n",
        "  \"Niger\",\n",
        "  \"Ogun\",\n",
        "  \"Ondo\",\n",
        "  \"Osun\",\n",
        "  \"Oyo\",\n",
        "  \"Plateau\",\n",
        "  \"Rivers\",\n",
        "  \"Sokoto\",\n",
        "  \"Taraba\",\n",
        "  \"Yobe\",\n",
        "  \"Zamfara\"\n",
        "]\n",
        "file = [item.lower() for item in file]\n",
        "item = '(' + \" |\".join(file) + ')'"
      ],
      "id": "IHUyLYd7eP6E"
    },
    {
      "cell_type": "code",
      "execution_count": null,
      "metadata": {
        "id": "Ww51gxcyaXRe"
      },
      "outputs": [],
      "source": [
        "%%time\n",
        "states = scrape.Cleaned_Text.str.extractall(item, flags=re.IGNORECASE)\n",
        "states[0] = states[0].str.lower()\n",
        "states = states[0].reset_index(drop=True)\n",
        "states.value_counts()[:5]"
      ],
      "id": "Ww51gxcyaXRe"
    },
    {
      "cell_type": "code",
      "execution_count": null,
      "metadata": {
        "id": "ALe2ftQ3et5K"
      },
      "outputs": [],
      "source": [
        "%%time\n",
        "Cleaned_text = Title2.Applier()\n",
        "Cleaned_text"
      ],
      "id": "ALe2ftQ3et5K"
    },
    {
      "cell_type": "code",
      "execution_count": null,
      "metadata": {
        "id": "YIlXys1Nbrhq"
      },
      "outputs": [],
      "source": [
        "%%time\n",
        "Cleaned_sent_text = list(Cleaned_text.apply(sent_tokenize))\n",
        "Cleaned_sent_text = [i for text in Cleaned_sent_text for i in text]\n",
        "Cleaned_sent_text = pd.Series(Cleaned_sent_text)\n",
        "Cleaned_sent_text[0]"
      ],
      "id": "YIlXys1Nbrhq"
    },
    {
      "cell_type": "code",
      "execution_count": null,
      "metadata": {
        "id": "JNAKjZVmpWTq"
      },
      "outputs": [],
      "source": [
        "%%time\n",
        "State_sent = Cleaned_sent_text[Cleaned_sent_text.str.contains(item, case=False)].reset_index(drop=True)\n",
        "State_sent"
      ],
      "id": "JNAKjZVmpWTq"
    },
    {
      "cell_type": "code",
      "execution_count": null,
      "metadata": {
        "id": "BkRGGqJPv4rx"
      },
      "outputs": [],
      "source": [
        "%%time\n",
        "!pip install vaderSentiment\n",
        "from vaderSentiment.vaderSentiment import SentimentIntensityAnalyzer\n",
        "sid_obj = SentimentIntensityAnalyzer()\n",
        "\n",
        "def SentimentAnalyzer(text):\n",
        "    sentiment_dict = sid_obj.polarity_scores(text)\n",
        "    if sentiment_dict['compound'] >= 0.05 :\n",
        "        text = \"Positive\"\n",
        " \n",
        "    elif sentiment_dict['compound'] <= - 0.05 :\n",
        "        text = \"Negative\"\n",
        " \n",
        "    else :\n",
        "        text = \"Neutral\"\n",
        "    return text"
      ],
      "id": "BkRGGqJPv4rx"
    },
    {
      "cell_type": "code",
      "execution_count": null,
      "metadata": {
        "id": "Csr1q8SKvRFI"
      },
      "outputs": [],
      "source": [
        "%%time\n",
        "State_sent_sentiment = State_sent.apply(SentimentAnalyzer)"
      ],
      "id": "Csr1q8SKvRFI"
    },
    {
      "cell_type": "code",
      "execution_count": null,
      "metadata": {
        "id": "KILHpnyXmxRP"
      },
      "outputs": [],
      "source": [
        "df = pd.DataFrame([State_sent, State_sent_sentiment]).transpose()\n",
        "df.columns = ['Text', 'Sentiment']\n",
        "df.head()"
      ],
      "id": "KILHpnyXmxRP"
    },
    {
      "cell_type": "code",
      "execution_count": null,
      "metadata": {
        "id": "fHCDwTdhvukP"
      },
      "outputs": [],
      "source": [
        "file.remove(\"fct - abuja\")"
      ],
      "id": "fHCDwTdhvukP"
    },
    {
      "cell_type": "code",
      "execution_count": null,
      "metadata": {
        "id": "5Fu8T8s1o4RN"
      },
      "outputs": [],
      "source": [
        "%%time\n",
        "L = []\n",
        "for i in file:\n",
        "  j = df[df['Text'].str.contains(i, case=False)]\n",
        "  k = j.groupby(\"Sentiment\").Text.count()['Positive']/j.count()[0]\n",
        "  L.append(k)"
      ],
      "id": "5Fu8T8s1o4RN"
    },
    {
      "cell_type": "code",
      "execution_count": null,
      "metadata": {
        "id": "4ns8AqbQrKQg"
      },
      "outputs": [],
      "source": [
        "len(L), len(file)"
      ],
      "id": "4ns8AqbQrKQg"
    },
    {
      "cell_type": "code",
      "execution_count": null,
      "metadata": {
        "id": "pP8RQn-Wu3y_"
      },
      "outputs": [],
      "source": [
        "state_sent_positive = pd.DataFrame([L, file]).transpose().sort_values(by=0, ascending=False).reset_index(drop=True)\n",
        "state_sent_positive.head()"
      ],
      "id": "pP8RQn-Wu3y_"
    },
    {
      "cell_type": "code",
      "execution_count": null,
      "metadata": {
        "id": "1wfp14V_nzsq"
      },
      "outputs": [],
      "source": [
        "state_sent_positive.tail()"
      ],
      "id": "1wfp14V_nzsq"
    },
    {
      "cell_type": "code",
      "execution_count": null,
      "metadata": {
        "id": "ygVd5jxkxA2q"
      },
      "outputs": [],
      "source": [
        "import requests\n",
        "from bs4 import BeautifulSoup\n",
        "\n",
        "req = requests.get(\"https://aboutnigerians.com/list-of-18-registered-political-parties-in-nigeria/\")\n",
        "html = BeautifulSoup(req.content, 'html')"
      ],
      "id": "ygVd5jxkxA2q"
    },
    {
      "cell_type": "code",
      "execution_count": null,
      "metadata": {
        "id": "mbUOuqs905TT"
      },
      "outputs": [],
      "source": [
        "table = [i.text.split(\"\\n\")[1:-1] for i in html.find_all(\"table\")[0].find_all('tbody')[0].find_all(\"tr\")]\n",
        "table"
      ],
      "id": "mbUOuqs905TT"
    },
    {
      "cell_type": "code",
      "execution_count": null,
      "metadata": {
        "id": "BDE1lcZr07Oc"
      },
      "outputs": [],
      "source": [
        "%%time\n",
        "political_parties = Cleaned_text.str.extractall('('+\" |\".join([i[1] for i in table]) + ')', flags=re.IGNORECASE)\n",
        "political_parties[0].reset_index(drop=True).str.lower().value_counts()"
      ],
      "id": "BDE1lcZr07Oc"
    },
    {
      "cell_type": "code",
      "execution_count": null,
      "metadata": {
        "id": "G3qWlieB341p"
      },
      "outputs": [],
      "source": [
        "political_parties_acc = Cleaned_text.str.extract('('+\" |\".join([i[2] for i in table][1:]) + ')', flags=re.IGNORECASE)\n",
        "political_parties_acc[0].reset_index(drop=True).str.lower().value_counts()"
      ],
      "id": "G3qWlieB341p"
    },
    {
      "cell_type": "code",
      "execution_count": null,
      "metadata": {
        "id": "qmxPdkg3186q"
      },
      "outputs": [],
      "source": [
        "%%time\n",
        "for j, k in zip([i[1] for i in table][1:], [i[2] for i in table][1:]):\n",
        "  Cleaned_text = Cleaned_text.str.replace(k, j, case=False)"
      ],
      "id": "qmxPdkg3186q"
    },
    {
      "cell_type": "code",
      "execution_count": null,
      "metadata": {
        "id": "Ep79c3Oz9hJI"
      },
      "outputs": [],
      "source": [
        "%%time\n",
        "political_parties = Cleaned_text.str.extractall('('+\" |\".join([i[2] for i in table][1:]) + ')',\n",
        "                                           flags=re.IGNORECASE)\n",
        "political_parties[0].reset_index(drop=True).str.lower().value_counts()"
      ],
      "id": "Ep79c3Oz9hJI"
    },
    {
      "cell_type": "code",
      "execution_count": null,
      "metadata": {
        "id": "JeivKvoC9wxN"
      },
      "outputs": [],
      "source": [
        "%%time\n",
        "Cleaned_text.str.extractall('('+\" |\".join([i[1] for i in table][1:]) + ')',\n",
        "                                           flags=re.IGNORECASE)"
      ],
      "id": "JeivKvoC9wxN"
    },
    {
      "cell_type": "code",
      "execution_count": null,
      "metadata": {
        "id": "eio5YHFUrkxI"
      },
      "outputs": [],
      "source": [
        "%%time\n",
        "x = list(Cleaned_text.apply(sent_tokenize))\n",
        "x = pd.Series([i for text in x for i in text])\n",
        "len(x)"
      ],
      "id": "eio5YHFUrkxI"
    },
    {
      "cell_type": "code",
      "execution_count": null,
      "metadata": {
        "id": "Q4bzmJqhs4i5"
      },
      "outputs": [],
      "source": [
        "%%time\n",
        "y = x[x.str.contains('('+\" |\".join([i[1] for i in table][1:]) + ')',\n",
        "                              case=False)].reset_index(drop=True)\n",
        "y"
      ],
      "id": "Q4bzmJqhs4i5"
    },
    {
      "cell_type": "code",
      "execution_count": null,
      "metadata": {
        "id": "2SNxiDKgubhm"
      },
      "outputs": [],
      "source": [
        "%%time\n",
        "sent = y.apply(SentimentAnalyzer)\n",
        "sent"
      ],
      "id": "2SNxiDKgubhm"
    },
    {
      "cell_type": "code",
      "execution_count": null,
      "metadata": {
        "id": "VynWHKX_uwT3"
      },
      "outputs": [],
      "source": [
        "sent.value_counts()"
      ],
      "id": "VynWHKX_uwT3"
    },
    {
      "cell_type": "code",
      "execution_count": null,
      "metadata": {
        "id": "irjDWgfmwKDE"
      },
      "outputs": [],
      "source": [
        "df2 = pd.DataFrame([y, sent]).transpose()\n",
        "df2.columns = ['Text', 'Sentiment']\n",
        "df2.head()"
      ],
      "id": "irjDWgfmwKDE"
    },
    {
      "cell_type": "code",
      "execution_count": null,
      "metadata": {
        "id": "86WoUvoNnqvC"
      },
      "outputs": [],
      "source": [
        "party_names = [i[1] for i in table][1:]"
      ],
      "id": "86WoUvoNnqvC"
    },
    {
      "cell_type": "code",
      "execution_count": null,
      "metadata": {
        "id": "03lYwaxXu91-"
      },
      "outputs": [],
      "source": [
        "%%time\n",
        "O, P= [], []\n",
        "for j in party_names:\n",
        "  print(j)\n",
        "  M = df2[df2['Text'].str.contains(j, case=False)]\n",
        "  try:\n",
        "    q = M.count()[0]\n",
        "    N = M.groupby(\"Sentiment\").Text.count()['Positive']/q\n",
        "  except KeyError:\n",
        "    N = 0\n",
        "    q = 0\n",
        "  O.append(N)\n",
        "  P.append(q)"
      ],
      "id": "03lYwaxXu91-"
    },
    {
      "cell_type": "code",
      "execution_count": null,
      "metadata": {
        "id": "2CQLkbduv5t5"
      },
      "outputs": [],
      "source": [
        "state_sent_positive = pd.DataFrame([O, party_names, P]).transpose().sort_values(by=0, ascending=False).reset_index(drop=True)\n",
        "state_sent_positive.columns = ['Sentiment', 'Party_name', 'Count']\n",
        "state_sent_positive.head()"
      ],
      "id": "2CQLkbduv5t5"
    },
    {
      "cell_type": "code",
      "execution_count": null,
      "metadata": {
        "id": "AVAvOr-8yTra"
      },
      "outputs": [],
      "source": [
        "state_sent_positive.query('Count > 1000')"
      ],
      "id": "AVAvOr-8yTra"
    },
    {
      "cell_type": "code",
      "execution_count": null,
      "metadata": {
        "id": "-SYGpwPuyZHE"
      },
      "outputs": [],
      "source": [
        "%%time\n",
        "scrape['Standard_Views'] = sc.fit_transform(np.array(scrape.Views).reshape(-1, 1))\n",
        "(scrape.groupby('Vader_Sentiment')['Standard_Views'].sum()/scrape.count()[0]) * 100"
      ],
      "id": "-SYGpwPuyZHE"
    },
    {
      "cell_type": "code",
      "execution_count": null,
      "metadata": {
        "id": "mQa25L2GzF2u"
      },
      "outputs": [],
      "source": [
        "scrape['Standard_Post'] = sc.fit_transform(np.array(scrape.Post).reshape(-1, 1))\n",
        "(scrape.groupby('Vader_Sentiment')['Standard_Post'].sum()/scrape.count()[0]) * 100"
      ],
      "id": "mQa25L2GzF2u"
    },
    {
      "cell_type": "code",
      "execution_count": null,
      "metadata": {
        "id": "k92Jz5yN0Vp_"
      },
      "outputs": [],
      "source": [
        "The"
      ],
      "id": "k92Jz5yN0Vp_"
    },
    {
      "cell_type": "code",
      "execution_count": null,
      "metadata": {
        "id": "cHyQ0fuTzQ7W"
      },
      "outputs": [],
      "source": [
        "scrape.query(f\"Post == {scrape.Post.max()}\")"
      ],
      "id": "cHyQ0fuTzQ7W"
    },
    {
      "cell_type": "code",
      "execution_count": null,
      "metadata": {
        "id": "aMIpfAfTzwT4"
      },
      "outputs": [],
      "source": [
        "scrape.query(f\"Views == {scrape.Views.max()}\")"
      ],
      "id": "aMIpfAfTzwT4"
    },
    {
      "cell_type": "code",
      "execution_count": null,
      "metadata": {
        "id": "lDtQpbs6z6MY"
      },
      "outputs": [],
      "source": [],
      "id": "lDtQpbs6z6MY"
    }
  ],
  "metadata": {
    "colab": {
      "provenance": [],
      "include_colab_link": true
    },
    "kernelspec": {
      "display_name": "Python 3 (ipykernel)",
      "language": "python",
      "name": "python3"
    },
    "language_info": {
      "codemirror_mode": {
        "name": "ipython",
        "version": 3
      },
      "file_extension": ".py",
      "mimetype": "text/x-python",
      "name": "python",
      "nbconvert_exporter": "python",
      "pygments_lexer": "ipython3",
      "version": "3.7.5"
    }
  },
  "nbformat": 4,
  "nbformat_minor": 5
}