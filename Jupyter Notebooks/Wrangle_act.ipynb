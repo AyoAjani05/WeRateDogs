{
 "cells": [
  {
   "cell_type": "markdown",
   "id": "9b4cb9fc",
   "metadata": {},
   "source": [
    "# Project: WeRateDogs Data Wrangling\n",
    "## Introduction\n",
    "> In This Project, I will be working with the WeRateDogs rating dataset which will be gathered from the three sources, then cleaned and merged. The Dataset is one that contains a lot of review data from the famous WeRateDogs Twitter archive. It contains so many interesting fields such as the text in the tweet, the time the tweet was released, the rating of the dogs in the tweet, the dog predictions and so much more."
   ]
  },
  {
   "cell_type": "code",
   "execution_count": 1,
   "id": "96469efe",
   "metadata": {},
   "outputs": [],
   "source": [
    "#Loading Required Libraries\n",
    "import tweepy\n",
    "from tweepy import OAuthHandler\n",
    "import json\n",
    "from time import time as timer\n",
    "import pandas as pd\n",
    "from numpy import NaN\n",
    "import requests\n",
    "pd.set_option('display.max_columns', 33)"
   ]
  },
  {
   "cell_type": "markdown",
   "id": "a2274ccf",
   "metadata": {},
   "source": [
    "## Data Gathering.\n",
    "### Importing the given dataset  `Twitter-archive-enhanced.csv`"
   ]
  },
  {
   "cell_type": "code",
   "execution_count": 2,
   "id": "d3c31da1",
   "metadata": {},
   "outputs": [],
   "source": [
    "original_data = pd.read_csv(r'Datasets\\twitter-archive-enhanced.csv')"
   ]
  },
  {
   "cell_type": "markdown",
   "id": "70ba77df",
   "metadata": {},
   "source": [
    "<b>Downloading the second dataset programmatically with the use of web scraping.</b>"
   ]
  },
  {
   "cell_type": "code",
   "execution_count": 3,
   "id": "c93ec113",
   "metadata": {},
   "outputs": [],
   "source": [
    "url = 'https://d17h27t6h515a5.cloudfront.net/topher/2017/August/599fd2ad_image-predictions/image-predictions.tsv'\n",
    "\n",
    "\n",
    "def file_downloader(url, filename):\n",
    "    '''The Function takes in a url and uses web scrapping to download the file\n",
    "    \n",
    "Parameters:\n",
    "url: str\n",
    "    A valid url\n",
    "filename: str\n",
    "    Any valid string is acceptable\n",
    "    '''\n",
    "    r = requests.get(url)\n",
    "\n",
    "    with open('Datasets\\\\' + filename + '.tsv', 'wb') as file:\n",
    "        file.write(r.content)\n",
    "    file.close()\n",
    "    \n",
    "    \n",
    "file_downloader(url, 'image-predictions')"
   ]
  },
  {
   "cell_type": "markdown",
   "id": "dfdb3c08",
   "metadata": {},
   "source": [
    "<b>Querying the Twitter API to get the third dataset.</b>"
   ]
  },
  {
   "cell_type": "code",
   "execution_count": 4,
   "id": "2bf69483",
   "metadata": {},
   "outputs": [],
   "source": [
    "# These are hidden to comply with Twitter's API terms and conditions\n",
    "consumer_key = 'HIDDEN'\n",
    "consumer_secret = 'HIDDEN'\n",
    "access_token = 'HIDDEN'\n",
    "access_secret = 'HIDDEN'\n",
    "\n",
    "\n",
    "def twitter(consumer_key, consumer_secret, access_token, access_secret, df, filename):\n",
    "    '''The function queries the twitter api,downloads the results of the query and solves a given filename.\n",
    "Parameters:\n",
    "consumer_key: str\n",
    "    The consumer key.\n",
    "consumer_secret: str\n",
    "    The consumer secret key.\n",
    "access_token: str\n",
    "    The access token need to access the Api.\n",
    "access_secret: str\n",
    "    The access secret token need to access the Api.\n",
    "df: pandas.Series, list, tuple of elements.\n",
    "    The series used to query the Api.\n",
    "filename: str\n",
    "    Any valid string is acceptable.\n",
    "'''\n",
    "    auth = OAuthHandler(consumer_key, consumer_secret)\n",
    "    auth.set_access_token(access_token, access_secret)\n",
    "\n",
    "    api = tweepy.API(auth, wait_on_rate_limit=True)\n",
    "\n",
    "    tweet_ids = df.tweet_id.values\n",
    "\n",
    "    # Query Twitter's API for JSON data for each tweet ID in the Twitter archive\n",
    "    count = 0\n",
    "    fails_dict = {}\n",
    "    start = timer()\n",
    "    # Save each tweet's returned JSON as a new line in a .txt file\n",
    "    with open('Datasets\\\\' + filename+\".txt\", 'w') as outfile:\n",
    "        for tweet_id in tweet_ids:\n",
    "            count += 1\n",
    "            print(str(count) + \": \" + str(tweet_id))\n",
    "            try:\n",
    "                tweet = api.get_status(tweet_id, tweet_mode='extended')\n",
    "                print(\"Success\")\n",
    "                json.dump(tweet._json, outfile)\n",
    "                outfile.write('\\n')\n",
    "            except tweepy.TweepyException as e:\n",
    "                print(\"Fail\")\n",
    "                fails_dict[tweet_id] = e\n",
    "                pass\n",
    "    end = timer()\n",
    "    print(end - start)\n",
    "    print(fails_dict)\n",
    "    \n",
    "    \n",
    "twitter(consumer_key, consumer_secret, access_token, access_secret, original_data, 'tweet-json_updated')"
   ]
  },
  {
   "cell_type": "markdown",
   "id": "5b561bea",
   "metadata": {},
   "source": [
    "## Data Assessment\n",
    "\n",
    "\n",
    "#### Visual Assessment of the given dataset `twitter-archive-enhanced.csv`"
   ]
  },
  {
   "cell_type": "code",
   "execution_count": 5,
   "id": "4b72d793",
   "metadata": {},
   "outputs": [
    {
     "data": {
      "text/html": [
       "<div>\n",
       "<style scoped>\n",
       "    .dataframe tbody tr th:only-of-type {\n",
       "        vertical-align: middle;\n",
       "    }\n",
       "\n",
       "    .dataframe tbody tr th {\n",
       "        vertical-align: top;\n",
       "    }\n",
       "\n",
       "    .dataframe thead th {\n",
       "        text-align: right;\n",
       "    }\n",
       "</style>\n",
       "<table border=\"1\" class=\"dataframe\">\n",
       "  <thead>\n",
       "    <tr style=\"text-align: right;\">\n",
       "      <th></th>\n",
       "      <th>tweet_id</th>\n",
       "      <th>in_reply_to_status_id</th>\n",
       "      <th>in_reply_to_user_id</th>\n",
       "      <th>timestamp</th>\n",
       "      <th>source</th>\n",
       "      <th>text</th>\n",
       "      <th>retweeted_status_id</th>\n",
       "      <th>retweeted_status_user_id</th>\n",
       "      <th>retweeted_status_timestamp</th>\n",
       "      <th>expanded_urls</th>\n",
       "      <th>rating_numerator</th>\n",
       "      <th>rating_denominator</th>\n",
       "      <th>name</th>\n",
       "      <th>doggo</th>\n",
       "      <th>floofer</th>\n",
       "      <th>pupper</th>\n",
       "      <th>puppo</th>\n",
       "    </tr>\n",
       "  </thead>\n",
       "  <tbody>\n",
       "    <tr>\n",
       "      <th>0</th>\n",
       "      <td>892420643555336193</td>\n",
       "      <td>NaN</td>\n",
       "      <td>NaN</td>\n",
       "      <td>2017-08-01 16:23:56 +0000</td>\n",
       "      <td>&lt;a href=\"http://twitter.com/download/iphone\" r...</td>\n",
       "      <td>This is Phineas. He's a mystical boy. Only eve...</td>\n",
       "      <td>NaN</td>\n",
       "      <td>NaN</td>\n",
       "      <td>NaN</td>\n",
       "      <td>https://twitter.com/dog_rates/status/892420643...</td>\n",
       "      <td>13</td>\n",
       "      <td>10</td>\n",
       "      <td>Phineas</td>\n",
       "      <td>None</td>\n",
       "      <td>None</td>\n",
       "      <td>None</td>\n",
       "      <td>None</td>\n",
       "    </tr>\n",
       "    <tr>\n",
       "      <th>1</th>\n",
       "      <td>892177421306343426</td>\n",
       "      <td>NaN</td>\n",
       "      <td>NaN</td>\n",
       "      <td>2017-08-01 00:17:27 +0000</td>\n",
       "      <td>&lt;a href=\"http://twitter.com/download/iphone\" r...</td>\n",
       "      <td>This is Tilly. She's just checking pup on you....</td>\n",
       "      <td>NaN</td>\n",
       "      <td>NaN</td>\n",
       "      <td>NaN</td>\n",
       "      <td>https://twitter.com/dog_rates/status/892177421...</td>\n",
       "      <td>13</td>\n",
       "      <td>10</td>\n",
       "      <td>Tilly</td>\n",
       "      <td>None</td>\n",
       "      <td>None</td>\n",
       "      <td>None</td>\n",
       "      <td>None</td>\n",
       "    </tr>\n",
       "    <tr>\n",
       "      <th>2</th>\n",
       "      <td>891815181378084864</td>\n",
       "      <td>NaN</td>\n",
       "      <td>NaN</td>\n",
       "      <td>2017-07-31 00:18:03 +0000</td>\n",
       "      <td>&lt;a href=\"http://twitter.com/download/iphone\" r...</td>\n",
       "      <td>This is Archie. He is a rare Norwegian Pouncin...</td>\n",
       "      <td>NaN</td>\n",
       "      <td>NaN</td>\n",
       "      <td>NaN</td>\n",
       "      <td>https://twitter.com/dog_rates/status/891815181...</td>\n",
       "      <td>12</td>\n",
       "      <td>10</td>\n",
       "      <td>Archie</td>\n",
       "      <td>None</td>\n",
       "      <td>None</td>\n",
       "      <td>None</td>\n",
       "      <td>None</td>\n",
       "    </tr>\n",
       "    <tr>\n",
       "      <th>3</th>\n",
       "      <td>891689557279858688</td>\n",
       "      <td>NaN</td>\n",
       "      <td>NaN</td>\n",
       "      <td>2017-07-30 15:58:51 +0000</td>\n",
       "      <td>&lt;a href=\"http://twitter.com/download/iphone\" r...</td>\n",
       "      <td>This is Darla. She commenced a snooze mid meal...</td>\n",
       "      <td>NaN</td>\n",
       "      <td>NaN</td>\n",
       "      <td>NaN</td>\n",
       "      <td>https://twitter.com/dog_rates/status/891689557...</td>\n",
       "      <td>13</td>\n",
       "      <td>10</td>\n",
       "      <td>Darla</td>\n",
       "      <td>None</td>\n",
       "      <td>None</td>\n",
       "      <td>None</td>\n",
       "      <td>None</td>\n",
       "    </tr>\n",
       "    <tr>\n",
       "      <th>4</th>\n",
       "      <td>891327558926688256</td>\n",
       "      <td>NaN</td>\n",
       "      <td>NaN</td>\n",
       "      <td>2017-07-29 16:00:24 +0000</td>\n",
       "      <td>&lt;a href=\"http://twitter.com/download/iphone\" r...</td>\n",
       "      <td>This is Franklin. He would like you to stop ca...</td>\n",
       "      <td>NaN</td>\n",
       "      <td>NaN</td>\n",
       "      <td>NaN</td>\n",
       "      <td>https://twitter.com/dog_rates/status/891327558...</td>\n",
       "      <td>12</td>\n",
       "      <td>10</td>\n",
       "      <td>Franklin</td>\n",
       "      <td>None</td>\n",
       "      <td>None</td>\n",
       "      <td>None</td>\n",
       "      <td>None</td>\n",
       "    </tr>\n",
       "    <tr>\n",
       "      <th>...</th>\n",
       "      <td>...</td>\n",
       "      <td>...</td>\n",
       "      <td>...</td>\n",
       "      <td>...</td>\n",
       "      <td>...</td>\n",
       "      <td>...</td>\n",
       "      <td>...</td>\n",
       "      <td>...</td>\n",
       "      <td>...</td>\n",
       "      <td>...</td>\n",
       "      <td>...</td>\n",
       "      <td>...</td>\n",
       "      <td>...</td>\n",
       "      <td>...</td>\n",
       "      <td>...</td>\n",
       "      <td>...</td>\n",
       "      <td>...</td>\n",
       "    </tr>\n",
       "    <tr>\n",
       "      <th>2351</th>\n",
       "      <td>666049248165822465</td>\n",
       "      <td>NaN</td>\n",
       "      <td>NaN</td>\n",
       "      <td>2015-11-16 00:24:50 +0000</td>\n",
       "      <td>&lt;a href=\"http://twitter.com/download/iphone\" r...</td>\n",
       "      <td>Here we have a 1949 1st generation vulpix. Enj...</td>\n",
       "      <td>NaN</td>\n",
       "      <td>NaN</td>\n",
       "      <td>NaN</td>\n",
       "      <td>https://twitter.com/dog_rates/status/666049248...</td>\n",
       "      <td>5</td>\n",
       "      <td>10</td>\n",
       "      <td>None</td>\n",
       "      <td>None</td>\n",
       "      <td>None</td>\n",
       "      <td>None</td>\n",
       "      <td>None</td>\n",
       "    </tr>\n",
       "    <tr>\n",
       "      <th>2352</th>\n",
       "      <td>666044226329800704</td>\n",
       "      <td>NaN</td>\n",
       "      <td>NaN</td>\n",
       "      <td>2015-11-16 00:04:52 +0000</td>\n",
       "      <td>&lt;a href=\"http://twitter.com/download/iphone\" r...</td>\n",
       "      <td>This is a purebred Piers Morgan. Loves to Netf...</td>\n",
       "      <td>NaN</td>\n",
       "      <td>NaN</td>\n",
       "      <td>NaN</td>\n",
       "      <td>https://twitter.com/dog_rates/status/666044226...</td>\n",
       "      <td>6</td>\n",
       "      <td>10</td>\n",
       "      <td>a</td>\n",
       "      <td>None</td>\n",
       "      <td>None</td>\n",
       "      <td>None</td>\n",
       "      <td>None</td>\n",
       "    </tr>\n",
       "    <tr>\n",
       "      <th>2353</th>\n",
       "      <td>666033412701032449</td>\n",
       "      <td>NaN</td>\n",
       "      <td>NaN</td>\n",
       "      <td>2015-11-15 23:21:54 +0000</td>\n",
       "      <td>&lt;a href=\"http://twitter.com/download/iphone\" r...</td>\n",
       "      <td>Here is a very happy pup. Big fan of well-main...</td>\n",
       "      <td>NaN</td>\n",
       "      <td>NaN</td>\n",
       "      <td>NaN</td>\n",
       "      <td>https://twitter.com/dog_rates/status/666033412...</td>\n",
       "      <td>9</td>\n",
       "      <td>10</td>\n",
       "      <td>a</td>\n",
       "      <td>None</td>\n",
       "      <td>None</td>\n",
       "      <td>None</td>\n",
       "      <td>None</td>\n",
       "    </tr>\n",
       "    <tr>\n",
       "      <th>2354</th>\n",
       "      <td>666029285002620928</td>\n",
       "      <td>NaN</td>\n",
       "      <td>NaN</td>\n",
       "      <td>2015-11-15 23:05:30 +0000</td>\n",
       "      <td>&lt;a href=\"http://twitter.com/download/iphone\" r...</td>\n",
       "      <td>This is a western brown Mitsubishi terrier. Up...</td>\n",
       "      <td>NaN</td>\n",
       "      <td>NaN</td>\n",
       "      <td>NaN</td>\n",
       "      <td>https://twitter.com/dog_rates/status/666029285...</td>\n",
       "      <td>7</td>\n",
       "      <td>10</td>\n",
       "      <td>a</td>\n",
       "      <td>None</td>\n",
       "      <td>None</td>\n",
       "      <td>None</td>\n",
       "      <td>None</td>\n",
       "    </tr>\n",
       "    <tr>\n",
       "      <th>2355</th>\n",
       "      <td>666020888022790149</td>\n",
       "      <td>NaN</td>\n",
       "      <td>NaN</td>\n",
       "      <td>2015-11-15 22:32:08 +0000</td>\n",
       "      <td>&lt;a href=\"http://twitter.com/download/iphone\" r...</td>\n",
       "      <td>Here we have a Japanese Irish Setter. Lost eye...</td>\n",
       "      <td>NaN</td>\n",
       "      <td>NaN</td>\n",
       "      <td>NaN</td>\n",
       "      <td>https://twitter.com/dog_rates/status/666020888...</td>\n",
       "      <td>8</td>\n",
       "      <td>10</td>\n",
       "      <td>None</td>\n",
       "      <td>None</td>\n",
       "      <td>None</td>\n",
       "      <td>None</td>\n",
       "      <td>None</td>\n",
       "    </tr>\n",
       "  </tbody>\n",
       "</table>\n",
       "<p>2356 rows × 17 columns</p>\n",
       "</div>"
      ],
      "text/plain": [
       "                tweet_id  in_reply_to_status_id  in_reply_to_user_id  \\\n",
       "0     892420643555336193                    NaN                  NaN   \n",
       "1     892177421306343426                    NaN                  NaN   \n",
       "2     891815181378084864                    NaN                  NaN   \n",
       "3     891689557279858688                    NaN                  NaN   \n",
       "4     891327558926688256                    NaN                  NaN   \n",
       "...                  ...                    ...                  ...   \n",
       "2351  666049248165822465                    NaN                  NaN   \n",
       "2352  666044226329800704                    NaN                  NaN   \n",
       "2353  666033412701032449                    NaN                  NaN   \n",
       "2354  666029285002620928                    NaN                  NaN   \n",
       "2355  666020888022790149                    NaN                  NaN   \n",
       "\n",
       "                      timestamp  \\\n",
       "0     2017-08-01 16:23:56 +0000   \n",
       "1     2017-08-01 00:17:27 +0000   \n",
       "2     2017-07-31 00:18:03 +0000   \n",
       "3     2017-07-30 15:58:51 +0000   \n",
       "4     2017-07-29 16:00:24 +0000   \n",
       "...                         ...   \n",
       "2351  2015-11-16 00:24:50 +0000   \n",
       "2352  2015-11-16 00:04:52 +0000   \n",
       "2353  2015-11-15 23:21:54 +0000   \n",
       "2354  2015-11-15 23:05:30 +0000   \n",
       "2355  2015-11-15 22:32:08 +0000   \n",
       "\n",
       "                                                 source  \\\n",
       "0     <a href=\"http://twitter.com/download/iphone\" r...   \n",
       "1     <a href=\"http://twitter.com/download/iphone\" r...   \n",
       "2     <a href=\"http://twitter.com/download/iphone\" r...   \n",
       "3     <a href=\"http://twitter.com/download/iphone\" r...   \n",
       "4     <a href=\"http://twitter.com/download/iphone\" r...   \n",
       "...                                                 ...   \n",
       "2351  <a href=\"http://twitter.com/download/iphone\" r...   \n",
       "2352  <a href=\"http://twitter.com/download/iphone\" r...   \n",
       "2353  <a href=\"http://twitter.com/download/iphone\" r...   \n",
       "2354  <a href=\"http://twitter.com/download/iphone\" r...   \n",
       "2355  <a href=\"http://twitter.com/download/iphone\" r...   \n",
       "\n",
       "                                                   text  retweeted_status_id  \\\n",
       "0     This is Phineas. He's a mystical boy. Only eve...                  NaN   \n",
       "1     This is Tilly. She's just checking pup on you....                  NaN   \n",
       "2     This is Archie. He is a rare Norwegian Pouncin...                  NaN   \n",
       "3     This is Darla. She commenced a snooze mid meal...                  NaN   \n",
       "4     This is Franklin. He would like you to stop ca...                  NaN   \n",
       "...                                                 ...                  ...   \n",
       "2351  Here we have a 1949 1st generation vulpix. Enj...                  NaN   \n",
       "2352  This is a purebred Piers Morgan. Loves to Netf...                  NaN   \n",
       "2353  Here is a very happy pup. Big fan of well-main...                  NaN   \n",
       "2354  This is a western brown Mitsubishi terrier. Up...                  NaN   \n",
       "2355  Here we have a Japanese Irish Setter. Lost eye...                  NaN   \n",
       "\n",
       "      retweeted_status_user_id retweeted_status_timestamp  \\\n",
       "0                          NaN                        NaN   \n",
       "1                          NaN                        NaN   \n",
       "2                          NaN                        NaN   \n",
       "3                          NaN                        NaN   \n",
       "4                          NaN                        NaN   \n",
       "...                        ...                        ...   \n",
       "2351                       NaN                        NaN   \n",
       "2352                       NaN                        NaN   \n",
       "2353                       NaN                        NaN   \n",
       "2354                       NaN                        NaN   \n",
       "2355                       NaN                        NaN   \n",
       "\n",
       "                                          expanded_urls  rating_numerator  \\\n",
       "0     https://twitter.com/dog_rates/status/892420643...                13   \n",
       "1     https://twitter.com/dog_rates/status/892177421...                13   \n",
       "2     https://twitter.com/dog_rates/status/891815181...                12   \n",
       "3     https://twitter.com/dog_rates/status/891689557...                13   \n",
       "4     https://twitter.com/dog_rates/status/891327558...                12   \n",
       "...                                                 ...               ...   \n",
       "2351  https://twitter.com/dog_rates/status/666049248...                 5   \n",
       "2352  https://twitter.com/dog_rates/status/666044226...                 6   \n",
       "2353  https://twitter.com/dog_rates/status/666033412...                 9   \n",
       "2354  https://twitter.com/dog_rates/status/666029285...                 7   \n",
       "2355  https://twitter.com/dog_rates/status/666020888...                 8   \n",
       "\n",
       "      rating_denominator      name doggo floofer pupper puppo  \n",
       "0                     10   Phineas  None    None   None  None  \n",
       "1                     10     Tilly  None    None   None  None  \n",
       "2                     10    Archie  None    None   None  None  \n",
       "3                     10     Darla  None    None   None  None  \n",
       "4                     10  Franklin  None    None   None  None  \n",
       "...                  ...       ...   ...     ...    ...   ...  \n",
       "2351                  10      None  None    None   None  None  \n",
       "2352                  10         a  None    None   None  None  \n",
       "2353                  10         a  None    None   None  None  \n",
       "2354                  10         a  None    None   None  None  \n",
       "2355                  10      None  None    None   None  None  \n",
       "\n",
       "[2356 rows x 17 columns]"
      ]
     },
     "execution_count": 5,
     "metadata": {},
     "output_type": "execute_result"
    }
   ],
   "source": [
    "original_data"
   ]
  },
  {
   "cell_type": "markdown",
   "id": "407439d1",
   "metadata": {},
   "source": [
    "#### Programmatic Assessment of the given dataset.\n",
    "\n",
    "<b>A concise summary of the original_data DataFrame</b>"
   ]
  },
  {
   "cell_type": "code",
   "execution_count": 6,
   "id": "8f9fabe8",
   "metadata": {},
   "outputs": [
    {
     "name": "stdout",
     "output_type": "stream",
     "text": [
      "<class 'pandas.core.frame.DataFrame'>\n",
      "RangeIndex: 2356 entries, 0 to 2355\n",
      "Data columns (total 17 columns):\n",
      " #   Column                      Non-Null Count  Dtype  \n",
      "---  ------                      --------------  -----  \n",
      " 0   tweet_id                    2356 non-null   int64  \n",
      " 1   in_reply_to_status_id       78 non-null     float64\n",
      " 2   in_reply_to_user_id         78 non-null     float64\n",
      " 3   timestamp                   2356 non-null   object \n",
      " 4   source                      2356 non-null   object \n",
      " 5   text                        2356 non-null   object \n",
      " 6   retweeted_status_id         181 non-null    float64\n",
      " 7   retweeted_status_user_id    181 non-null    float64\n",
      " 8   retweeted_status_timestamp  181 non-null    object \n",
      " 9   expanded_urls               2297 non-null   object \n",
      " 10  rating_numerator            2356 non-null   int64  \n",
      " 11  rating_denominator          2356 non-null   int64  \n",
      " 12  name                        2356 non-null   object \n",
      " 13  doggo                       2356 non-null   object \n",
      " 14  floofer                     2356 non-null   object \n",
      " 15  pupper                      2356 non-null   object \n",
      " 16  puppo                       2356 non-null   object \n",
      "dtypes: float64(4), int64(3), object(10)\n",
      "memory usage: 313.0+ KB\n"
     ]
    }
   ],
   "source": [
    "original_data.info()"
   ]
  },
  {
   "cell_type": "markdown",
   "id": "d4829c50",
   "metadata": {},
   "source": [
    "`Quality issue`: The timestamp, retweeted_status_timestamp columns have the string datatype(i.e object) instead of the datetime datatype.\n",
    "\n",
    "<b>Checking the percentage of missing values in the original_data DataFrame.</b>"
   ]
  },
  {
   "cell_type": "code",
   "execution_count": 7,
   "id": "cfb362bf",
   "metadata": {},
   "outputs": [
    {
     "data": {
      "text/plain": [
       "in_reply_to_user_id           96.689304\n",
       "in_reply_to_status_id         96.689304\n",
       "retweeted_status_timestamp    92.317487\n",
       "retweeted_status_id           92.317487\n",
       "retweeted_status_user_id      92.317487\n",
       "expanded_urls                  2.504244\n",
       "rating_denominator             0.000000\n",
       "pupper                         0.000000\n",
       "floofer                        0.000000\n",
       "doggo                          0.000000\n",
       "name                           0.000000\n",
       "tweet_id                       0.000000\n",
       "rating_numerator               0.000000\n",
       "text                           0.000000\n",
       "source                         0.000000\n",
       "timestamp                      0.000000\n",
       "puppo                          0.000000\n",
       "dtype: float64"
      ]
     },
     "execution_count": 7,
     "metadata": {},
     "output_type": "execute_result"
    }
   ],
   "source": [
    "(original_data.isnull().sum()/original_data.shape[0]).sort_values(ascending=False) * 100"
   ]
  },
  {
   "cell_type": "markdown",
   "id": "53b8d62c",
   "metadata": {},
   "source": [
    "`Quality issue:` There are alot of missing values in the in_reply_to_user_id,in_reply_to_status_id, retweeted_status_timestamp,\n",
    "retweeted_status_id, retweeted_status_user_id columns.\n",
    "\n",
    "<b>Checking the descriptive statistics of the original_data dataframe.</b>"
   ]
  },
  {
   "cell_type": "code",
   "execution_count": 8,
   "id": "9a0291c2",
   "metadata": {},
   "outputs": [
    {
     "data": {
      "text/html": [
       "<div>\n",
       "<style scoped>\n",
       "    .dataframe tbody tr th:only-of-type {\n",
       "        vertical-align: middle;\n",
       "    }\n",
       "\n",
       "    .dataframe tbody tr th {\n",
       "        vertical-align: top;\n",
       "    }\n",
       "\n",
       "    .dataframe thead th {\n",
       "        text-align: right;\n",
       "    }\n",
       "</style>\n",
       "<table border=\"1\" class=\"dataframe\">\n",
       "  <thead>\n",
       "    <tr style=\"text-align: right;\">\n",
       "      <th></th>\n",
       "      <th>tweet_id</th>\n",
       "      <th>in_reply_to_status_id</th>\n",
       "      <th>in_reply_to_user_id</th>\n",
       "      <th>retweeted_status_id</th>\n",
       "      <th>retweeted_status_user_id</th>\n",
       "      <th>rating_numerator</th>\n",
       "      <th>rating_denominator</th>\n",
       "    </tr>\n",
       "  </thead>\n",
       "  <tbody>\n",
       "    <tr>\n",
       "      <th>count</th>\n",
       "      <td>2.356000e+03</td>\n",
       "      <td>7.800000e+01</td>\n",
       "      <td>7.800000e+01</td>\n",
       "      <td>1.810000e+02</td>\n",
       "      <td>1.810000e+02</td>\n",
       "      <td>2356.000000</td>\n",
       "      <td>2356.000000</td>\n",
       "    </tr>\n",
       "    <tr>\n",
       "      <th>mean</th>\n",
       "      <td>7.427716e+17</td>\n",
       "      <td>7.455079e+17</td>\n",
       "      <td>2.014171e+16</td>\n",
       "      <td>7.720400e+17</td>\n",
       "      <td>1.241698e+16</td>\n",
       "      <td>13.126486</td>\n",
       "      <td>10.455433</td>\n",
       "    </tr>\n",
       "    <tr>\n",
       "      <th>std</th>\n",
       "      <td>6.856705e+16</td>\n",
       "      <td>7.582492e+16</td>\n",
       "      <td>1.252797e+17</td>\n",
       "      <td>6.236928e+16</td>\n",
       "      <td>9.599254e+16</td>\n",
       "      <td>45.876648</td>\n",
       "      <td>6.745237</td>\n",
       "    </tr>\n",
       "    <tr>\n",
       "      <th>min</th>\n",
       "      <td>6.660209e+17</td>\n",
       "      <td>6.658147e+17</td>\n",
       "      <td>1.185634e+07</td>\n",
       "      <td>6.661041e+17</td>\n",
       "      <td>7.832140e+05</td>\n",
       "      <td>0.000000</td>\n",
       "      <td>0.000000</td>\n",
       "    </tr>\n",
       "    <tr>\n",
       "      <th>25%</th>\n",
       "      <td>6.783989e+17</td>\n",
       "      <td>6.757419e+17</td>\n",
       "      <td>3.086374e+08</td>\n",
       "      <td>7.186315e+17</td>\n",
       "      <td>4.196984e+09</td>\n",
       "      <td>10.000000</td>\n",
       "      <td>10.000000</td>\n",
       "    </tr>\n",
       "    <tr>\n",
       "      <th>50%</th>\n",
       "      <td>7.196279e+17</td>\n",
       "      <td>7.038708e+17</td>\n",
       "      <td>4.196984e+09</td>\n",
       "      <td>7.804657e+17</td>\n",
       "      <td>4.196984e+09</td>\n",
       "      <td>11.000000</td>\n",
       "      <td>10.000000</td>\n",
       "    </tr>\n",
       "    <tr>\n",
       "      <th>75%</th>\n",
       "      <td>7.993373e+17</td>\n",
       "      <td>8.257804e+17</td>\n",
       "      <td>4.196984e+09</td>\n",
       "      <td>8.203146e+17</td>\n",
       "      <td>4.196984e+09</td>\n",
       "      <td>12.000000</td>\n",
       "      <td>10.000000</td>\n",
       "    </tr>\n",
       "    <tr>\n",
       "      <th>max</th>\n",
       "      <td>8.924206e+17</td>\n",
       "      <td>8.862664e+17</td>\n",
       "      <td>8.405479e+17</td>\n",
       "      <td>8.874740e+17</td>\n",
       "      <td>7.874618e+17</td>\n",
       "      <td>1776.000000</td>\n",
       "      <td>170.000000</td>\n",
       "    </tr>\n",
       "  </tbody>\n",
       "</table>\n",
       "</div>"
      ],
      "text/plain": [
       "           tweet_id  in_reply_to_status_id  in_reply_to_user_id  \\\n",
       "count  2.356000e+03           7.800000e+01         7.800000e+01   \n",
       "mean   7.427716e+17           7.455079e+17         2.014171e+16   \n",
       "std    6.856705e+16           7.582492e+16         1.252797e+17   \n",
       "min    6.660209e+17           6.658147e+17         1.185634e+07   \n",
       "25%    6.783989e+17           6.757419e+17         3.086374e+08   \n",
       "50%    7.196279e+17           7.038708e+17         4.196984e+09   \n",
       "75%    7.993373e+17           8.257804e+17         4.196984e+09   \n",
       "max    8.924206e+17           8.862664e+17         8.405479e+17   \n",
       "\n",
       "       retweeted_status_id  retweeted_status_user_id  rating_numerator  \\\n",
       "count         1.810000e+02              1.810000e+02       2356.000000   \n",
       "mean          7.720400e+17              1.241698e+16         13.126486   \n",
       "std           6.236928e+16              9.599254e+16         45.876648   \n",
       "min           6.661041e+17              7.832140e+05          0.000000   \n",
       "25%           7.186315e+17              4.196984e+09         10.000000   \n",
       "50%           7.804657e+17              4.196984e+09         11.000000   \n",
       "75%           8.203146e+17              4.196984e+09         12.000000   \n",
       "max           8.874740e+17              7.874618e+17       1776.000000   \n",
       "\n",
       "       rating_denominator  \n",
       "count         2356.000000  \n",
       "mean            10.455433  \n",
       "std              6.745237  \n",
       "min              0.000000  \n",
       "25%             10.000000  \n",
       "50%             10.000000  \n",
       "75%             10.000000  \n",
       "max            170.000000  "
      ]
     },
     "execution_count": 8,
     "metadata": {},
     "output_type": "execute_result"
    }
   ],
   "source": [
    "original_data.describe()"
   ]
  },
  {
   "cell_type": "markdown",
   "id": "7024cd33",
   "metadata": {},
   "source": [
    "<b>The rating_numerator column has a minimum value of 0. A tweet can have a rating numerator of 0.<br>\n",
    "In cases like this, the rating can mean that the tweet was very disappointing.</b>\n",
    "\n",
    "\n",
    "<b>Checking the text of the tweets with a rating numerator of 0.</b>"
   ]
  },
  {
   "cell_type": "code",
   "execution_count": 9,
   "id": "d727c42c",
   "metadata": {},
   "outputs": [
    {
     "name": "stdout",
     "output_type": "stream",
     "text": [
      "When you're so blinded by your systematic plagiarism that you forget what day it is. 0/10 https://t.co/YbEJPkg4Ag\n",
      "PUPDATE: can't see any. Even if I could, I couldn't reach them to pet. 0/10 much disappointment https://t.co/c7WXaB2nqX\n"
     ]
    }
   ],
   "source": [
    "for text in original_data[original_data.rating_numerator == 0]['text']:\n",
    "    print(text)"
   ]
  },
  {
   "cell_type": "markdown",
   "id": "063ca025",
   "metadata": {},
   "source": [
    "`Tidiness issue:` Multiple variables are in a single column. The text column must be separated into three columns (text, rating, and text_link columns).<br>\n",
    "\n",
    "`Quality issue:` Inaccurate data value, the rating_denominator column has a minimum value of 0,  which is not a valid denominator.\n",
    "\n",
    "<b>Checking the text of tweets with a rating denominator of 0.</b>"
   ]
  },
  {
   "cell_type": "code",
   "execution_count": 10,
   "id": "a3e03f4e",
   "metadata": {},
   "outputs": [
    {
     "data": {
      "text/plain": [
       "\"@jonnysun @Lin_Manuel ok jomny I know you're excited but 960/00 isn't a valid rating, 13/10 is tho\""
      ]
     },
     "execution_count": 10,
     "metadata": {},
     "output_type": "execute_result"
    }
   ],
   "source": [
    "original_data[original_data.rating_denominator == 0]['text'][313]"
   ]
  },
  {
   "cell_type": "markdown",
   "id": "714f2ffb",
   "metadata": {},
   "source": [
    "<b>Checking the unique values in the puppo, floofer, pupper, doggo and name columns.</b>"
   ]
  },
  {
   "cell_type": "code",
   "execution_count": 11,
   "id": "3939a7ce",
   "metadata": {},
   "outputs": [
    {
     "data": {
      "text/plain": [
       "array(['None', 'puppo'], dtype=object)"
      ]
     },
     "execution_count": 11,
     "metadata": {},
     "output_type": "execute_result"
    }
   ],
   "source": [
    "original_data.puppo.unique()"
   ]
  },
  {
   "cell_type": "code",
   "execution_count": 12,
   "id": "eb4782a0",
   "metadata": {},
   "outputs": [
    {
     "data": {
      "text/plain": [
       "array(['None', 'floofer'], dtype=object)"
      ]
     },
     "execution_count": 12,
     "metadata": {},
     "output_type": "execute_result"
    }
   ],
   "source": [
    "original_data.floofer.unique()"
   ]
  },
  {
   "cell_type": "code",
   "execution_count": 13,
   "id": "17850c53",
   "metadata": {},
   "outputs": [
    {
     "data": {
      "text/plain": [
       "array(['None', 'pupper'], dtype=object)"
      ]
     },
     "execution_count": 13,
     "metadata": {},
     "output_type": "execute_result"
    }
   ],
   "source": [
    "original_data.pupper.unique()"
   ]
  },
  {
   "cell_type": "code",
   "execution_count": 14,
   "id": "73e81edf",
   "metadata": {},
   "outputs": [
    {
     "data": {
      "text/plain": [
       "array(['None', 'doggo'], dtype=object)"
      ]
     },
     "execution_count": 14,
     "metadata": {},
     "output_type": "execute_result"
    }
   ],
   "source": [
    "original_data.doggo.unique()"
   ]
  },
  {
   "cell_type": "markdown",
   "id": "3a3e578b",
   "metadata": {},
   "source": [
    "`Quality issue:` The puppo, floofer, pupper, name, and doggo columns have the string 'None' representing the missing values.\n",
    "\n",
    "`Tidiness issue:` Column headers are values, not variable names(the doggo, floofer, pupper, puppo columns)\n",
    "\n",
    "<b>Checking the list of unique items in the name column.</b>"
   ]
  },
  {
   "cell_type": "code",
   "execution_count": 16,
   "id": "d9ff33be",
   "metadata": {},
   "outputs": [
    {
     "data": {
      "text/plain": [
       "array(['Phineas', 'Tilly', 'Archie', 'Darla', 'Franklin', 'None', 'Jax',\n",
       "       'Zoey', 'Cassie', 'Koda', 'Bruno', 'Ted', 'Stuart', 'Oliver',\n",
       "       'Jim', 'Zeke', 'Ralphus', 'Canela', 'Gerald', 'Jeffrey', 'such',\n",
       "       'Maya', 'Mingus', 'Derek', 'Roscoe', 'Waffles', 'Jimbo', 'Maisey',\n",
       "       'Lilly', 'Earl', 'Lola', 'Kevin', 'Yogi', 'Noah', 'Bella',\n",
       "       'Grizzwald', 'Rusty', 'Gus', 'Stanley', 'Alfy', 'Koko', 'Rey',\n",
       "       'Gary', 'a', 'Elliot', 'Louis', 'Jesse', 'Romeo', 'Bailey',\n",
       "       'Duddles', 'Jack', 'Emmy', 'Steven', 'Beau', 'Snoopy', 'Shadow',\n",
       "       'Terrance', 'Aja', 'Penny', 'Dante', 'Nelly', 'Ginger', 'Benedict',\n",
       "       'Venti', 'Goose', 'Nugget', 'Cash', 'Coco', 'Jed', 'Sebastian',\n",
       "       'Walter', 'Sierra', 'Monkey', 'Harry', 'Kody', 'Lassie', 'Rover',\n",
       "       'Napolean', 'Dawn', 'Boomer', 'Cody', 'Rumble', 'Clifford',\n",
       "       'quite', 'Dewey', 'Scout', 'Gizmo', 'Cooper', 'Harold', 'Shikha',\n",
       "       'Jamesy', 'Lili', 'Sammy', 'Meatball', 'Paisley', 'Albus',\n",
       "       'Neptune', 'Quinn', 'Belle', 'Zooey', 'Dave', 'Jersey', 'Hobbes',\n",
       "       'Burt', 'Lorenzo', 'Carl', 'Jordy', 'Milky', 'Trooper', 'Winston',\n",
       "       'Sophie', 'Wyatt', 'Rosie', 'Thor', 'Oscar', 'Luna', 'Callie',\n",
       "       'Cermet', 'George', 'Marlee', 'Arya', 'Einstein', 'Alice',\n",
       "       'Rumpole', 'Benny', 'Aspen', 'Jarod', 'Wiggles', 'General',\n",
       "       'Sailor', 'Astrid', 'Iggy', 'Snoop', 'Kyle', 'Leo', 'Riley',\n",
       "       'Gidget', 'Noosh', 'Odin', 'Jerry', 'Charlie', 'Georgie', 'Rontu',\n",
       "       'Cannon', 'Furzey', 'Daisy', 'Tuck', 'Barney', 'Vixen', 'Jarvis',\n",
       "       'Mimosa', 'Pickles', 'Bungalo', 'Brady', 'Margo', 'Sadie', 'Hank',\n",
       "       'Tycho', 'Stephan', 'Indie', 'Winnie', 'Bentley', 'Ken', 'Max',\n",
       "       'Maddie', 'Pipsy', 'Monty', 'Sojourner', 'Odie', 'Arlo', 'Sunny',\n",
       "       'Vincent', 'Lucy', 'Clark', 'Mookie', 'Meera', 'Buddy', 'Ava',\n",
       "       'Rory', 'Eli', 'Ash', 'Tucker', 'Tobi', 'Chester', 'Wilson',\n",
       "       'Sunshine', 'Lipton', 'Gabby', 'Bronte', 'Poppy', 'Rhino',\n",
       "       'Willow', 'not', 'Orion', 'Eevee', 'Smiley', 'Logan', 'Moreton',\n",
       "       'Klein', 'Miguel', 'Emanuel', 'Kuyu', 'Dutch', 'Pete', 'Scooter',\n",
       "       'Reggie', 'Kyro', 'Samson', 'Loki', 'Mia', 'Malcolm', 'Dexter',\n",
       "       'Alfie', 'Fiona', 'one', 'Mutt', 'Bear', 'Doobert', 'Beebop',\n",
       "       'Alexander', 'Sailer', 'Brutus', 'Kona', 'Boots', 'Ralphie',\n",
       "       'Phil', 'Cupid', 'Pawnd', 'Pilot', 'Ike', 'Mo', 'Toby', 'Sweet',\n",
       "       'Pablo', 'Nala', 'Balto', 'Crawford', 'Gabe', 'Mattie', 'Jimison',\n",
       "       'Hercules', 'Duchess', 'Harlso', 'Sampson', 'Sundance', 'Luca',\n",
       "       'Flash', 'Finn', 'Peaches', 'Howie', 'Jazzy', 'Anna', 'Bo',\n",
       "       'Seamus', 'Wafer', 'Chelsea', 'Tom', 'Moose', 'Florence', 'Autumn',\n",
       "       'Dido', 'Eugene', 'Herschel', 'Strudel', 'Tebow', 'Chloe', 'Betty',\n",
       "       'Timber', 'Binky', 'Dudley', 'Comet', 'Larry', 'Levi', 'Akumi',\n",
       "       'Titan', 'Olivia', 'Alf', 'Oshie', 'Bruce', 'Chubbs', 'Sky',\n",
       "       'Atlas', 'Eleanor', 'Layla', 'Rocky', 'Baron', 'Tyr', 'Bauer',\n",
       "       'Swagger', 'Brandi', 'Mary', 'Moe', 'Halo', 'Augie', 'Craig',\n",
       "       'Sam', 'Hunter', 'Pavlov', 'Maximus', 'Wallace', 'Ito', 'Milo',\n",
       "       'Ollie', 'Cali', 'Lennon', 'incredibly', 'Major', 'Duke',\n",
       "       'Reginald', 'Sansa', 'Shooter', 'Django', 'Diogi', 'Sonny',\n",
       "       'Philbert', 'Marley', 'Severus', 'Ronnie', 'Anakin', 'Bones',\n",
       "       'Mauve', 'Chef', 'Doc', 'Sobe', 'Longfellow', 'Mister', 'Iroh',\n",
       "       'Baloo', 'Stubert', 'Paull', 'Timison', 'Davey', 'Pancake',\n",
       "       'Tyrone', 'Snicku', 'Ruby', 'Brody', 'Rizzy', 'Mack', 'Butter',\n",
       "       'Nimbus', 'Laika', 'Dobby', 'Juno', 'Maude', 'Lily', 'Newt',\n",
       "       'Benji', 'Nida', 'Robin', 'Monster', 'BeBe', 'Remus', 'Mabel',\n",
       "       'Misty', 'Happy', 'Mosby', 'Maggie', 'Leela', 'Ralphy', 'Brownie',\n",
       "       'Meyer', 'Stella', 'mad', 'Frank', 'Tonks', 'Lincoln', 'Oakley',\n",
       "       'Dale', 'Rizzo', 'Arnie', 'Pinot', 'Dallas', 'Hero', 'Frankie',\n",
       "       'Stormy', 'Mairi', 'Loomis', 'Godi', 'Kenny', 'Deacon', 'Timmy',\n",
       "       'Harper', 'Chipson', 'Combo', 'Dash', 'Bell', 'Hurley', 'Jay',\n",
       "       'Mya', 'Strider', 'an', 'Wesley', 'Solomon', 'Huck', 'very', 'O',\n",
       "       'Blue', 'Finley', 'Sprinkles', 'Heinrich', 'Shakespeare', 'Fizz',\n",
       "       'Chip', 'Grey', 'Roosevelt', 'Gromit', 'Willem', 'Dakota', 'Dixie',\n",
       "       'Al', 'Jackson', 'just', 'Carbon', 'DonDon', 'Kirby', 'Lou',\n",
       "       'Nollie', 'Chevy', 'Tito', 'Louie', 'Rupert', 'Rufus', 'Brudge',\n",
       "       'Shadoe', 'Colby', 'Angel', 'Brat', 'Tove', 'my', 'Aubie', 'Kota',\n",
       "       'Eve', 'Glenn', 'Shelby', 'Sephie', 'Bonaparte', 'Albert',\n",
       "       'Wishes', 'Rose', 'Theo', 'Rocco', 'Fido', 'Emma', 'Spencer',\n",
       "       'Lilli', 'Boston', 'Brandonald', 'Corey', 'Leonard', 'Chompsky',\n",
       "       'Beckham', 'Devón', 'Gert', 'Watson', 'Rubio', 'Keith', 'Dex',\n",
       "       'Carly', 'Ace', 'Tayzie', 'Grizzie', 'Fred', 'Gilbert', 'Zoe',\n",
       "       'Stewie', 'Calvin', 'Lilah', 'Spanky', 'Jameson', 'Piper',\n",
       "       'Atticus', 'Blu', 'Dietrich', 'Divine', 'Tripp', 'his', 'Cora',\n",
       "       'Huxley', 'Keurig', 'Bookstore', 'Linus', 'Abby', 'Shaggy',\n",
       "       'Shiloh', 'Gustav', 'Arlen', 'Percy', 'Lenox', 'Sugar', 'Harvey',\n",
       "       'Blanket', 'actually', 'Geno', 'Stark', 'Beya', 'Kilo', 'Kayla',\n",
       "       'Maxaroni', 'Doug', 'Edmund', 'Aqua', 'Theodore', 'Chase',\n",
       "       'getting', 'Rorie', 'Simba', 'Charles', 'Bayley', 'Axel',\n",
       "       'Storkson', 'Remy', 'Chadrick', 'Kellogg', 'Buckley', 'Livvie',\n",
       "       'Terry', 'Hermione', 'Ralpher', 'Aldrick', 'this', 'unacceptable',\n",
       "       'Rooney', 'Crystal', 'Ziva', 'Stefan', 'Pupcasso', 'Puff',\n",
       "       'Flurpson', 'Coleman', 'Enchilada', 'Raymond', 'all', 'Rueben',\n",
       "       'Cilantro', 'Karll', 'Sprout', 'Blitz', 'Bloop', 'Lillie',\n",
       "       'Ashleigh', 'Kreggory', 'Sarge', 'Luther', 'Ivar', 'Jangle',\n",
       "       'Schnitzel', 'Panda', 'Berkeley', 'Ralphé', 'Charleson', 'Clyde',\n",
       "       'Harnold', 'Sid', 'Pippa', 'Otis', 'Carper', 'Bowie',\n",
       "       'Alexanderson', 'Suki', 'Barclay', 'Skittle', 'Ebby', 'Flávio',\n",
       "       'Smokey', 'Link', 'Jennifur', 'Ozzy', 'Bluebert', 'Stephanus',\n",
       "       'Bubbles', 'old', 'Zeus', 'Bertson', 'Nico', 'Michelangelope',\n",
       "       'Siba', 'Calbert', 'Curtis', 'Travis', 'Thumas', 'Kanu', 'Lance',\n",
       "       'Opie', 'Kane', 'Olive', 'Chuckles', 'Staniel', 'Sora', 'Beemo',\n",
       "       'Gunner', 'infuriating', 'Lacy', 'Tater', 'Olaf', 'Cecil', 'Vince',\n",
       "       'Karma', 'Billy', 'Walker', 'Rodney', 'Klevin', 'Malikai',\n",
       "       'Bobble', 'River', 'Jebberson', 'Remington', 'Farfle', 'Jiminus',\n",
       "       'Clarkus', 'Finnegus', 'Cupcake', 'Kathmandu', 'Ellie', 'Katie',\n",
       "       'Kara', 'Adele', 'Zara', 'Ambrose', 'Jimothy', 'Bode', 'Terrenth',\n",
       "       'Reese', 'Chesterson', 'Lucia', 'Bisquick', 'Ralphson', 'Socks',\n",
       "       'Rambo', 'Rudy', 'Fiji', 'Rilo', 'Bilbo', 'Coopson', 'Yoda',\n",
       "       'Millie', 'Chet', 'Crouton', 'Daniel', 'Kaia', 'Murphy', 'Dotsy',\n",
       "       'Eazy', 'Coops', 'Fillup', 'Miley', 'Charl', 'Reagan', 'Yukon',\n",
       "       'CeCe', 'Cuddles', 'Claude', 'Jessiga', 'Carter', 'Ole', 'Pherb',\n",
       "       'Blipson', 'Reptar', 'Trevith', 'Berb', 'Bob', 'Colin', 'Brian',\n",
       "       'Oliviér', 'Grady', 'Kobe', 'Freddery', 'Bodie', 'Dunkin', 'Wally',\n",
       "       'Tupawc', 'Amber', 'Edgar', 'Teddy', 'Kingsley', 'Brockly',\n",
       "       'Richie', 'Molly', 'Vinscent', 'Cedrick', 'Hazel', 'Lolo', 'Eriq',\n",
       "       'Phred', 'the', 'Oddie', 'Maxwell', 'Geoff', 'Covach', 'Durg',\n",
       "       'Fynn', 'Ricky', 'Herald', 'Lucky', 'Ferg', 'Trip', 'Clarence',\n",
       "       'Hamrick', 'Brad', 'Pubert', 'Frönq', 'Derby', 'Lizzie', 'Ember',\n",
       "       'Blakely', 'Opal', 'Marq', 'Kramer', 'Barry', 'Gordon', 'Baxter',\n",
       "       'Mona', 'Horace', 'Crimson', 'Birf', 'Hammond', 'Lorelei', 'Marty',\n",
       "       'Brooks', 'Petrick', 'Hubertson', 'Gerbald', 'Oreo', 'Bruiser',\n",
       "       'Perry', 'Bobby', 'Jeph', 'Obi', 'Tino', 'Kulet', 'Sweets', 'Lupe',\n",
       "       'Tiger', 'Jiminy', 'Griffin', 'Banjo', 'Brandy', 'Lulu', 'Darrel',\n",
       "       'Taco', 'Joey', 'Patrick', 'Kreg', 'Todo', 'Tess', 'Ulysses',\n",
       "       'Toffee', 'Apollo', 'Asher', 'Glacier', 'Chuck', 'Champ', 'Ozzie',\n",
       "       'Griswold', 'Cheesy', 'Moofasa', 'Hector', 'Goliath', 'Kawhi',\n",
       "       'by', 'Emmie', 'Penelope', 'Willie', 'Rinna', 'Mike', 'William',\n",
       "       'Dwight', 'Evy', 'officially', 'Rascal', 'Linda', 'Tug', 'Tango',\n",
       "       'Grizz', 'Jerome', 'Crumpet', 'Jessifer', 'Izzy', 'Ralph', 'Sandy',\n",
       "       'Humphrey', 'Tassy', 'Juckson', 'Chuq', 'Tyrus', 'Karl',\n",
       "       'Godzilla', 'Vinnie', 'Kenneth', 'Herm', 'Bert', 'Striker',\n",
       "       'Donny', 'Pepper', 'Bernie', 'Buddah', 'Lenny', 'Arnold', 'Zuzu',\n",
       "       'Mollie', 'Laela', 'Tedders', 'Superpup', 'Rufio', 'Jeb', 'Rodman',\n",
       "       'Jonah', 'Chesney', 'life', 'Henry', 'Bobbay', 'Mitch', 'Kaiya',\n",
       "       'Acro', 'Aiden', 'Obie', 'Dot', 'Shnuggles', 'Kendall', 'Jeffri',\n",
       "       'Steve', 'Mac', 'Fletcher', 'Kenzie', 'Pumpkin', 'Schnozz',\n",
       "       'Gustaf', 'Cheryl', 'Ed', 'Leonidas', 'Norman', 'Caryl', 'Scott',\n",
       "       'Taz', 'Darby', 'Jackie', 'light', 'Jazz', 'Franq', 'Pippin',\n",
       "       'Rolf', 'Snickers', 'Ridley', 'Cal', 'Bradley', 'Bubba', 'Tuco',\n",
       "       'Patch', 'Mojo', 'Batdog', 'Dylan', 'space', 'Mark', 'JD',\n",
       "       'Alejandro', 'Scruffers', 'Pip', 'Julius', 'Tanner', 'Sparky',\n",
       "       'Anthony', 'Holly', 'Jett', 'Amy', 'Sage', 'Andy', 'Mason',\n",
       "       'Trigger', 'Antony', 'Creg', 'Traviss', 'Gin', 'Jeffrie', 'Danny',\n",
       "       'Ester', 'Pluto', 'Bloo', 'Edd', 'Willy', 'Herb', 'Damon',\n",
       "       'Peanut', 'Nigel', 'Butters', 'Sandra', 'Fabio', 'Randall', 'Liam',\n",
       "       'Tommy', 'Ben', 'Raphael', 'Julio', 'Andru', 'Kloey', 'Shawwn',\n",
       "       'Skye', 'Kollin', 'Ronduh', 'Billl', 'Saydee', 'Dug', 'Tessa',\n",
       "       'Sully', 'Kirk', 'Ralf', 'Clarq', 'Jaspers', 'Samsom', 'Harrison',\n",
       "       'Chaz', 'Jeremy', 'Jaycob', 'Lambeau', 'Ruffles', 'Amélie', 'Bobb',\n",
       "       'Banditt', 'Kevon', 'Winifred', 'Hanz', 'Churlie', 'Zeek',\n",
       "       'Timofy', 'Maks', 'Jomathan', 'Kallie', 'Marvin', 'Spark',\n",
       "       'Gòrdón', 'Jo', 'DayZ', 'Jareld', 'Torque', 'Ron', 'Skittles',\n",
       "       'Cleopatricia', 'Erik', 'Stu', 'Tedrick', 'Filup', 'Kial',\n",
       "       'Naphaniel', 'Dook', 'Hall', 'Philippe', 'Biden', 'Fwed',\n",
       "       'Genevieve', 'Joshwa', 'Bradlay', 'Clybe', 'Keet', 'Carll',\n",
       "       'Jockson', 'Josep', 'Lugan', 'Christoper'], dtype=object)"
      ]
     },
     "execution_count": 16,
     "metadata": {},
     "output_type": "execute_result"
    }
   ],
   "source": [
    "original_data.name.unique()"
   ]
  },
  {
   "cell_type": "markdown",
   "id": "f52c7145",
   "metadata": {},
   "source": [
    "`Quality issue:` After visual assessment of the unique elements in the name columns,the words 'a', 'not', 'one', 'an','very', 'O', 'my', 'his', 'this', 'all', 'the', 'by', 'such', 'quite', 'quite', 'quite', 'incredibly', 'mad', 'just', 'actually', 'just', 'getting', 'mad', 'unacceptable', 'old', 'infuriating', 'getting', 'just', 'actually', 'officially', 'life', 'light', 'just', 'space', 'quite' were extracted being invalid names, this are missing values.\n",
    "\n",
    "<b>Checking the first five elements in the source column.</b>"
   ]
  },
  {
   "cell_type": "code",
   "execution_count": 17,
   "id": "eeb17216",
   "metadata": {},
   "outputs": [
    {
     "name": "stdout",
     "output_type": "stream",
     "text": [
      "<a href=\"http://twitter.com/download/iphone\" rel=\"nofollow\">Twitter for iPhone</a>\n",
      "<a href=\"http://twitter.com/download/iphone\" rel=\"nofollow\">Twitter for iPhone</a>\n",
      "<a href=\"http://twitter.com/download/iphone\" rel=\"nofollow\">Twitter for iPhone</a>\n",
      "<a href=\"http://twitter.com/download/iphone\" rel=\"nofollow\">Twitter for iPhone</a>\n",
      "<a href=\"http://twitter.com/download/iphone\" rel=\"nofollow\">Twitter for iPhone</a>\n"
     ]
    }
   ],
   "source": [
    "for link in original_data.source.head():\n",
    "    print(link)"
   ]
  },
  {
   "cell_type": "markdown",
   "id": "429e1766",
   "metadata": {},
   "source": [
    "`Tidiness issue:` Multiple variables in a column. The source column must be separated into two columns (the source link and source text columns).\n",
    "\n",
    "<b>Checking for duplicates in original_data dataframe.</b>"
   ]
  },
  {
   "cell_type": "code",
   "execution_count": 18,
   "id": "0c631d21",
   "metadata": {},
   "outputs": [
    {
     "data": {
      "text/plain": [
       "0"
      ]
     },
     "execution_count": 18,
     "metadata": {},
     "output_type": "execute_result"
    }
   ],
   "source": [
    "sum(original_data.duplicated())"
   ]
  },
  {
   "cell_type": "markdown",
   "id": "e92e0eee",
   "metadata": {},
   "source": [
    "### Importing the file downloaded using web scrapping `image-predictions.tsv`"
   ]
  },
  {
   "cell_type": "code",
   "execution_count": 19,
   "id": "f3acf327",
   "metadata": {},
   "outputs": [],
   "source": [
    "image_data = pd.read_csv(r'Datasets\\image-predictions.tsv', sep='\\t')"
   ]
  },
  {
   "cell_type": "markdown",
   "id": "3992e929",
   "metadata": {},
   "source": [
    "#### Visual Assessment of the dataset downloaded programmatically `image-predictions.tsv`"
   ]
  },
  {
   "cell_type": "code",
   "execution_count": 20,
   "id": "eeab977c",
   "metadata": {},
   "outputs": [
    {
     "data": {
      "text/html": [
       "<div>\n",
       "<style scoped>\n",
       "    .dataframe tbody tr th:only-of-type {\n",
       "        vertical-align: middle;\n",
       "    }\n",
       "\n",
       "    .dataframe tbody tr th {\n",
       "        vertical-align: top;\n",
       "    }\n",
       "\n",
       "    .dataframe thead th {\n",
       "        text-align: right;\n",
       "    }\n",
       "</style>\n",
       "<table border=\"1\" class=\"dataframe\">\n",
       "  <thead>\n",
       "    <tr style=\"text-align: right;\">\n",
       "      <th></th>\n",
       "      <th>tweet_id</th>\n",
       "      <th>jpg_url</th>\n",
       "      <th>img_num</th>\n",
       "      <th>p1</th>\n",
       "      <th>p1_conf</th>\n",
       "      <th>p1_dog</th>\n",
       "      <th>p2</th>\n",
       "      <th>p2_conf</th>\n",
       "      <th>p2_dog</th>\n",
       "      <th>p3</th>\n",
       "      <th>p3_conf</th>\n",
       "      <th>p3_dog</th>\n",
       "    </tr>\n",
       "  </thead>\n",
       "  <tbody>\n",
       "    <tr>\n",
       "      <th>0</th>\n",
       "      <td>666020888022790149</td>\n",
       "      <td>https://pbs.twimg.com/media/CT4udn0WwAA0aMy.jpg</td>\n",
       "      <td>1</td>\n",
       "      <td>Welsh_springer_spaniel</td>\n",
       "      <td>0.465074</td>\n",
       "      <td>True</td>\n",
       "      <td>collie</td>\n",
       "      <td>0.156665</td>\n",
       "      <td>True</td>\n",
       "      <td>Shetland_sheepdog</td>\n",
       "      <td>0.061428</td>\n",
       "      <td>True</td>\n",
       "    </tr>\n",
       "    <tr>\n",
       "      <th>1</th>\n",
       "      <td>666029285002620928</td>\n",
       "      <td>https://pbs.twimg.com/media/CT42GRgUYAA5iDo.jpg</td>\n",
       "      <td>1</td>\n",
       "      <td>redbone</td>\n",
       "      <td>0.506826</td>\n",
       "      <td>True</td>\n",
       "      <td>miniature_pinscher</td>\n",
       "      <td>0.074192</td>\n",
       "      <td>True</td>\n",
       "      <td>Rhodesian_ridgeback</td>\n",
       "      <td>0.072010</td>\n",
       "      <td>True</td>\n",
       "    </tr>\n",
       "    <tr>\n",
       "      <th>2</th>\n",
       "      <td>666033412701032449</td>\n",
       "      <td>https://pbs.twimg.com/media/CT4521TWwAEvMyu.jpg</td>\n",
       "      <td>1</td>\n",
       "      <td>German_shepherd</td>\n",
       "      <td>0.596461</td>\n",
       "      <td>True</td>\n",
       "      <td>malinois</td>\n",
       "      <td>0.138584</td>\n",
       "      <td>True</td>\n",
       "      <td>bloodhound</td>\n",
       "      <td>0.116197</td>\n",
       "      <td>True</td>\n",
       "    </tr>\n",
       "    <tr>\n",
       "      <th>3</th>\n",
       "      <td>666044226329800704</td>\n",
       "      <td>https://pbs.twimg.com/media/CT5Dr8HUEAA-lEu.jpg</td>\n",
       "      <td>1</td>\n",
       "      <td>Rhodesian_ridgeback</td>\n",
       "      <td>0.408143</td>\n",
       "      <td>True</td>\n",
       "      <td>redbone</td>\n",
       "      <td>0.360687</td>\n",
       "      <td>True</td>\n",
       "      <td>miniature_pinscher</td>\n",
       "      <td>0.222752</td>\n",
       "      <td>True</td>\n",
       "    </tr>\n",
       "    <tr>\n",
       "      <th>4</th>\n",
       "      <td>666049248165822465</td>\n",
       "      <td>https://pbs.twimg.com/media/CT5IQmsXIAAKY4A.jpg</td>\n",
       "      <td>1</td>\n",
       "      <td>miniature_pinscher</td>\n",
       "      <td>0.560311</td>\n",
       "      <td>True</td>\n",
       "      <td>Rottweiler</td>\n",
       "      <td>0.243682</td>\n",
       "      <td>True</td>\n",
       "      <td>Doberman</td>\n",
       "      <td>0.154629</td>\n",
       "      <td>True</td>\n",
       "    </tr>\n",
       "    <tr>\n",
       "      <th>...</th>\n",
       "      <td>...</td>\n",
       "      <td>...</td>\n",
       "      <td>...</td>\n",
       "      <td>...</td>\n",
       "      <td>...</td>\n",
       "      <td>...</td>\n",
       "      <td>...</td>\n",
       "      <td>...</td>\n",
       "      <td>...</td>\n",
       "      <td>...</td>\n",
       "      <td>...</td>\n",
       "      <td>...</td>\n",
       "    </tr>\n",
       "    <tr>\n",
       "      <th>2070</th>\n",
       "      <td>891327558926688256</td>\n",
       "      <td>https://pbs.twimg.com/media/DF6hr6BUMAAzZgT.jpg</td>\n",
       "      <td>2</td>\n",
       "      <td>basset</td>\n",
       "      <td>0.555712</td>\n",
       "      <td>True</td>\n",
       "      <td>English_springer</td>\n",
       "      <td>0.225770</td>\n",
       "      <td>True</td>\n",
       "      <td>German_short-haired_pointer</td>\n",
       "      <td>0.175219</td>\n",
       "      <td>True</td>\n",
       "    </tr>\n",
       "    <tr>\n",
       "      <th>2071</th>\n",
       "      <td>891689557279858688</td>\n",
       "      <td>https://pbs.twimg.com/media/DF_q7IAWsAEuuN8.jpg</td>\n",
       "      <td>1</td>\n",
       "      <td>paper_towel</td>\n",
       "      <td>0.170278</td>\n",
       "      <td>False</td>\n",
       "      <td>Labrador_retriever</td>\n",
       "      <td>0.168086</td>\n",
       "      <td>True</td>\n",
       "      <td>spatula</td>\n",
       "      <td>0.040836</td>\n",
       "      <td>False</td>\n",
       "    </tr>\n",
       "    <tr>\n",
       "      <th>2072</th>\n",
       "      <td>891815181378084864</td>\n",
       "      <td>https://pbs.twimg.com/media/DGBdLU1WsAANxJ9.jpg</td>\n",
       "      <td>1</td>\n",
       "      <td>Chihuahua</td>\n",
       "      <td>0.716012</td>\n",
       "      <td>True</td>\n",
       "      <td>malamute</td>\n",
       "      <td>0.078253</td>\n",
       "      <td>True</td>\n",
       "      <td>kelpie</td>\n",
       "      <td>0.031379</td>\n",
       "      <td>True</td>\n",
       "    </tr>\n",
       "    <tr>\n",
       "      <th>2073</th>\n",
       "      <td>892177421306343426</td>\n",
       "      <td>https://pbs.twimg.com/media/DGGmoV4XsAAUL6n.jpg</td>\n",
       "      <td>1</td>\n",
       "      <td>Chihuahua</td>\n",
       "      <td>0.323581</td>\n",
       "      <td>True</td>\n",
       "      <td>Pekinese</td>\n",
       "      <td>0.090647</td>\n",
       "      <td>True</td>\n",
       "      <td>papillon</td>\n",
       "      <td>0.068957</td>\n",
       "      <td>True</td>\n",
       "    </tr>\n",
       "    <tr>\n",
       "      <th>2074</th>\n",
       "      <td>892420643555336193</td>\n",
       "      <td>https://pbs.twimg.com/media/DGKD1-bXoAAIAUK.jpg</td>\n",
       "      <td>1</td>\n",
       "      <td>orange</td>\n",
       "      <td>0.097049</td>\n",
       "      <td>False</td>\n",
       "      <td>bagel</td>\n",
       "      <td>0.085851</td>\n",
       "      <td>False</td>\n",
       "      <td>banana</td>\n",
       "      <td>0.076110</td>\n",
       "      <td>False</td>\n",
       "    </tr>\n",
       "  </tbody>\n",
       "</table>\n",
       "<p>2075 rows × 12 columns</p>\n",
       "</div>"
      ],
      "text/plain": [
       "                tweet_id                                          jpg_url  \\\n",
       "0     666020888022790149  https://pbs.twimg.com/media/CT4udn0WwAA0aMy.jpg   \n",
       "1     666029285002620928  https://pbs.twimg.com/media/CT42GRgUYAA5iDo.jpg   \n",
       "2     666033412701032449  https://pbs.twimg.com/media/CT4521TWwAEvMyu.jpg   \n",
       "3     666044226329800704  https://pbs.twimg.com/media/CT5Dr8HUEAA-lEu.jpg   \n",
       "4     666049248165822465  https://pbs.twimg.com/media/CT5IQmsXIAAKY4A.jpg   \n",
       "...                  ...                                              ...   \n",
       "2070  891327558926688256  https://pbs.twimg.com/media/DF6hr6BUMAAzZgT.jpg   \n",
       "2071  891689557279858688  https://pbs.twimg.com/media/DF_q7IAWsAEuuN8.jpg   \n",
       "2072  891815181378084864  https://pbs.twimg.com/media/DGBdLU1WsAANxJ9.jpg   \n",
       "2073  892177421306343426  https://pbs.twimg.com/media/DGGmoV4XsAAUL6n.jpg   \n",
       "2074  892420643555336193  https://pbs.twimg.com/media/DGKD1-bXoAAIAUK.jpg   \n",
       "\n",
       "      img_num                      p1   p1_conf  p1_dog                  p2  \\\n",
       "0           1  Welsh_springer_spaniel  0.465074    True              collie   \n",
       "1           1                 redbone  0.506826    True  miniature_pinscher   \n",
       "2           1         German_shepherd  0.596461    True            malinois   \n",
       "3           1     Rhodesian_ridgeback  0.408143    True             redbone   \n",
       "4           1      miniature_pinscher  0.560311    True          Rottweiler   \n",
       "...       ...                     ...       ...     ...                 ...   \n",
       "2070        2                  basset  0.555712    True    English_springer   \n",
       "2071        1             paper_towel  0.170278   False  Labrador_retriever   \n",
       "2072        1               Chihuahua  0.716012    True            malamute   \n",
       "2073        1               Chihuahua  0.323581    True            Pekinese   \n",
       "2074        1                  orange  0.097049   False               bagel   \n",
       "\n",
       "       p2_conf  p2_dog                           p3   p3_conf  p3_dog  \n",
       "0     0.156665    True            Shetland_sheepdog  0.061428    True  \n",
       "1     0.074192    True          Rhodesian_ridgeback  0.072010    True  \n",
       "2     0.138584    True                   bloodhound  0.116197    True  \n",
       "3     0.360687    True           miniature_pinscher  0.222752    True  \n",
       "4     0.243682    True                     Doberman  0.154629    True  \n",
       "...        ...     ...                          ...       ...     ...  \n",
       "2070  0.225770    True  German_short-haired_pointer  0.175219    True  \n",
       "2071  0.168086    True                      spatula  0.040836   False  \n",
       "2072  0.078253    True                       kelpie  0.031379    True  \n",
       "2073  0.090647    True                     papillon  0.068957    True  \n",
       "2074  0.085851   False                       banana  0.076110   False  \n",
       "\n",
       "[2075 rows x 12 columns]"
      ]
     },
     "execution_count": 20,
     "metadata": {},
     "output_type": "execute_result"
    }
   ],
   "source": [
    "image_data"
   ]
  },
  {
   "cell_type": "markdown",
   "id": "1bc4cc48",
   "metadata": {},
   "source": [
    "`Observation`: The values in the p1, p2, p3 columns are not case consistent.\n",
    "\n",
    "#### Programmatic Assessment of the image-prediction dataset.\n",
    "\n",
    "<b>A concise summary of the image_data DataFrame.</b>"
   ]
  },
  {
   "cell_type": "code",
   "execution_count": 21,
   "id": "97fb3f38",
   "metadata": {},
   "outputs": [
    {
     "name": "stdout",
     "output_type": "stream",
     "text": [
      "<class 'pandas.core.frame.DataFrame'>\n",
      "RangeIndex: 2075 entries, 0 to 2074\n",
      "Data columns (total 12 columns):\n",
      " #   Column    Non-Null Count  Dtype  \n",
      "---  ------    --------------  -----  \n",
      " 0   tweet_id  2075 non-null   int64  \n",
      " 1   jpg_url   2075 non-null   object \n",
      " 2   img_num   2075 non-null   int64  \n",
      " 3   p1        2075 non-null   object \n",
      " 4   p1_conf   2075 non-null   float64\n",
      " 5   p1_dog    2075 non-null   bool   \n",
      " 6   p2        2075 non-null   object \n",
      " 7   p2_conf   2075 non-null   float64\n",
      " 8   p2_dog    2075 non-null   bool   \n",
      " 9   p3        2075 non-null   object \n",
      " 10  p3_conf   2075 non-null   float64\n",
      " 11  p3_dog    2075 non-null   bool   \n",
      "dtypes: bool(3), float64(3), int64(2), object(4)\n",
      "memory usage: 152.1+ KB\n"
     ]
    }
   ],
   "source": [
    "image_data.info()"
   ]
  },
  {
   "cell_type": "markdown",
   "id": "c1be2273",
   "metadata": {},
   "source": [
    "<b>Checking the percentage of missing values in the image_data DataFrame.</b>"
   ]
  },
  {
   "cell_type": "code",
   "execution_count": 22,
   "id": "c35d727b",
   "metadata": {},
   "outputs": [
    {
     "data": {
      "text/plain": [
       "tweet_id    0.0\n",
       "jpg_url     0.0\n",
       "img_num     0.0\n",
       "p1          0.0\n",
       "p1_conf     0.0\n",
       "p1_dog      0.0\n",
       "p2          0.0\n",
       "p2_conf     0.0\n",
       "p2_dog      0.0\n",
       "p3          0.0\n",
       "p3_conf     0.0\n",
       "p3_dog      0.0\n",
       "dtype: float64"
      ]
     },
     "execution_count": 22,
     "metadata": {},
     "output_type": "execute_result"
    }
   ],
   "source": [
    "(image_data.isnull().sum()/image_data.shape[0]).sort_values(ascending=False) * 100"
   ]
  },
  {
   "cell_type": "markdown",
   "id": "68340e1b",
   "metadata": {},
   "source": [
    "<b>The image_data dataframe has no missing values.</b>\n",
    "\n",
    "<b>Checking the descriptive statistics of the image_data dataframe.</b>"
   ]
  },
  {
   "cell_type": "code",
   "execution_count": 23,
   "id": "9815941b",
   "metadata": {},
   "outputs": [
    {
     "data": {
      "text/html": [
       "<div>\n",
       "<style scoped>\n",
       "    .dataframe tbody tr th:only-of-type {\n",
       "        vertical-align: middle;\n",
       "    }\n",
       "\n",
       "    .dataframe tbody tr th {\n",
       "        vertical-align: top;\n",
       "    }\n",
       "\n",
       "    .dataframe thead th {\n",
       "        text-align: right;\n",
       "    }\n",
       "</style>\n",
       "<table border=\"1\" class=\"dataframe\">\n",
       "  <thead>\n",
       "    <tr style=\"text-align: right;\">\n",
       "      <th></th>\n",
       "      <th>tweet_id</th>\n",
       "      <th>img_num</th>\n",
       "      <th>p1_conf</th>\n",
       "      <th>p2_conf</th>\n",
       "      <th>p3_conf</th>\n",
       "    </tr>\n",
       "  </thead>\n",
       "  <tbody>\n",
       "    <tr>\n",
       "      <th>count</th>\n",
       "      <td>2.075000e+03</td>\n",
       "      <td>2075.000000</td>\n",
       "      <td>2075.000000</td>\n",
       "      <td>2.075000e+03</td>\n",
       "      <td>2.075000e+03</td>\n",
       "    </tr>\n",
       "    <tr>\n",
       "      <th>mean</th>\n",
       "      <td>7.384514e+17</td>\n",
       "      <td>1.203855</td>\n",
       "      <td>0.594548</td>\n",
       "      <td>1.345886e-01</td>\n",
       "      <td>6.032417e-02</td>\n",
       "    </tr>\n",
       "    <tr>\n",
       "      <th>std</th>\n",
       "      <td>6.785203e+16</td>\n",
       "      <td>0.561875</td>\n",
       "      <td>0.271174</td>\n",
       "      <td>1.006657e-01</td>\n",
       "      <td>5.090593e-02</td>\n",
       "    </tr>\n",
       "    <tr>\n",
       "      <th>min</th>\n",
       "      <td>6.660209e+17</td>\n",
       "      <td>1.000000</td>\n",
       "      <td>0.044333</td>\n",
       "      <td>1.011300e-08</td>\n",
       "      <td>1.740170e-10</td>\n",
       "    </tr>\n",
       "    <tr>\n",
       "      <th>25%</th>\n",
       "      <td>6.764835e+17</td>\n",
       "      <td>1.000000</td>\n",
       "      <td>0.364412</td>\n",
       "      <td>5.388625e-02</td>\n",
       "      <td>1.622240e-02</td>\n",
       "    </tr>\n",
       "    <tr>\n",
       "      <th>50%</th>\n",
       "      <td>7.119988e+17</td>\n",
       "      <td>1.000000</td>\n",
       "      <td>0.588230</td>\n",
       "      <td>1.181810e-01</td>\n",
       "      <td>4.944380e-02</td>\n",
       "    </tr>\n",
       "    <tr>\n",
       "      <th>75%</th>\n",
       "      <td>7.932034e+17</td>\n",
       "      <td>1.000000</td>\n",
       "      <td>0.843855</td>\n",
       "      <td>1.955655e-01</td>\n",
       "      <td>9.180755e-02</td>\n",
       "    </tr>\n",
       "    <tr>\n",
       "      <th>max</th>\n",
       "      <td>8.924206e+17</td>\n",
       "      <td>4.000000</td>\n",
       "      <td>1.000000</td>\n",
       "      <td>4.880140e-01</td>\n",
       "      <td>2.734190e-01</td>\n",
       "    </tr>\n",
       "  </tbody>\n",
       "</table>\n",
       "</div>"
      ],
      "text/plain": [
       "           tweet_id      img_num      p1_conf       p2_conf       p3_conf\n",
       "count  2.075000e+03  2075.000000  2075.000000  2.075000e+03  2.075000e+03\n",
       "mean   7.384514e+17     1.203855     0.594548  1.345886e-01  6.032417e-02\n",
       "std    6.785203e+16     0.561875     0.271174  1.006657e-01  5.090593e-02\n",
       "min    6.660209e+17     1.000000     0.044333  1.011300e-08  1.740170e-10\n",
       "25%    6.764835e+17     1.000000     0.364412  5.388625e-02  1.622240e-02\n",
       "50%    7.119988e+17     1.000000     0.588230  1.181810e-01  4.944380e-02\n",
       "75%    7.932034e+17     1.000000     0.843855  1.955655e-01  9.180755e-02\n",
       "max    8.924206e+17     4.000000     1.000000  4.880140e-01  2.734190e-01"
      ]
     },
     "execution_count": 23,
     "metadata": {},
     "output_type": "execute_result"
    }
   ],
   "source": [
    "image_data.describe()"
   ]
  },
  {
   "cell_type": "markdown",
   "id": "47003a51",
   "metadata": {},
   "source": [
    "<b>Checking for duplicates in the image_data dataframe.</b>"
   ]
  },
  {
   "cell_type": "code",
   "execution_count": 24,
   "id": "69c37dba",
   "metadata": {},
   "outputs": [
    {
     "data": {
      "text/plain": [
       "0"
      ]
     },
     "execution_count": 24,
     "metadata": {},
     "output_type": "execute_result"
    }
   ],
   "source": [
    "sum(image_data.duplicated())"
   ]
  },
  {
   "cell_type": "markdown",
   "id": "77f85d62",
   "metadata": {},
   "source": [
    "<b>Checking the unique values in the p1_dog, p2_dog and p3_dog columns.</b>"
   ]
  },
  {
   "cell_type": "code",
   "execution_count": 25,
   "id": "fda7988f",
   "metadata": {},
   "outputs": [
    {
     "data": {
      "text/plain": [
       "array([ True, False])"
      ]
     },
     "execution_count": 25,
     "metadata": {},
     "output_type": "execute_result"
    }
   ],
   "source": [
    "image_data.p1_dog.unique()"
   ]
  },
  {
   "cell_type": "code",
   "execution_count": 26,
   "id": "37e9baa1",
   "metadata": {},
   "outputs": [
    {
     "data": {
      "text/plain": [
       "array([ True, False])"
      ]
     },
     "execution_count": 26,
     "metadata": {},
     "output_type": "execute_result"
    }
   ],
   "source": [
    "image_data.p2_dog.unique()"
   ]
  },
  {
   "cell_type": "code",
   "execution_count": 27,
   "id": "466cdc54",
   "metadata": {},
   "outputs": [
    {
     "data": {
      "text/plain": [
       "array([ True, False])"
      ]
     },
     "execution_count": 27,
     "metadata": {},
     "output_type": "execute_result"
    }
   ],
   "source": [
    "image_data.p3_dog.unique()"
   ]
  },
  {
   "cell_type": "markdown",
   "id": "07dfe887",
   "metadata": {},
   "source": [
    "`Observation:` The jpg_url, img_num, p1, p1_conf, p1_dog, p2, p2_conf, p2_dog, p3, p3_conf, p3_dog columns should be renamed for clarity.\n",
    "\n",
    "#### Opening the file downloaded using the Twitter API <u>`tweet-json.txt`</u>"
   ]
  },
  {
   "cell_type": "code",
   "execution_count": 28,
   "id": "223de81c",
   "metadata": {},
   "outputs": [],
   "source": [
    "tweet_file = open('tweet-json.txt',enconding='utf-8')  # opening and reading the file\n",
    "text = tweet_file.read()\n",
    "tweet_file.close()  # closing the file\n",
    "\n",
    "dictionary = dict()  # making an empty dictionary to store values\n",
    "count = 0\n",
    "for file in text.split(\"\\n\")[:-1]:\n",
    "    count += 1\n",
    "    file = json.loads(file)  # converting strings to dictionaries\n",
    "    dictionary[f'No {count}'] = file  # adding to the dictionary `dictionary`\n",
    "\n",
    "File = open(r'Datasets\\tweet-json_updated.txt', 'w')  # opening a new file\n",
    "json.dump(dictionary, File)  # writing the dictionary object to file\n",
    "File.close()  # closing the file"
   ]
  },
  {
   "cell_type": "markdown",
   "id": "9b12d1bc",
   "metadata": {},
   "source": [
    "### Importing the newly created file `tweet-json_updated.txt`"
   ]
  },
  {
   "cell_type": "code",
   "execution_count": 29,
   "id": "c0456299",
   "metadata": {},
   "outputs": [],
   "source": [
    "api_data = pd.read_json(r'Datasets\\tweet-json_updated.txt').transpose()"
   ]
  },
  {
   "cell_type": "markdown",
   "id": "672c1a6e",
   "metadata": {},
   "source": [
    "#### Visual Assessment of the api_data dataframe `tweet-json_updated.txt`"
   ]
  },
  {
   "cell_type": "code",
   "execution_count": 30,
   "id": "a9a01a74",
   "metadata": {},
   "outputs": [
    {
     "data": {
      "text/html": [
       "<div>\n",
       "<style scoped>\n",
       "    .dataframe tbody tr th:only-of-type {\n",
       "        vertical-align: middle;\n",
       "    }\n",
       "\n",
       "    .dataframe tbody tr th {\n",
       "        vertical-align: top;\n",
       "    }\n",
       "\n",
       "    .dataframe thead th {\n",
       "        text-align: right;\n",
       "    }\n",
       "</style>\n",
       "<table border=\"1\" class=\"dataframe\">\n",
       "  <thead>\n",
       "    <tr style=\"text-align: right;\">\n",
       "      <th></th>\n",
       "      <th>created_at</th>\n",
       "      <th>id</th>\n",
       "      <th>id_str</th>\n",
       "      <th>full_text</th>\n",
       "      <th>truncated</th>\n",
       "      <th>display_text_range</th>\n",
       "      <th>entities</th>\n",
       "      <th>extended_entities</th>\n",
       "      <th>source</th>\n",
       "      <th>in_reply_to_status_id</th>\n",
       "      <th>in_reply_to_status_id_str</th>\n",
       "      <th>in_reply_to_user_id</th>\n",
       "      <th>in_reply_to_user_id_str</th>\n",
       "      <th>in_reply_to_screen_name</th>\n",
       "      <th>user</th>\n",
       "      <th>geo</th>\n",
       "      <th>coordinates</th>\n",
       "      <th>place</th>\n",
       "      <th>contributors</th>\n",
       "      <th>is_quote_status</th>\n",
       "      <th>retweet_count</th>\n",
       "      <th>favorite_count</th>\n",
       "      <th>favorited</th>\n",
       "      <th>retweeted</th>\n",
       "      <th>possibly_sensitive</th>\n",
       "      <th>possibly_sensitive_appealable</th>\n",
       "      <th>lang</th>\n",
       "      <th>retweeted_status</th>\n",
       "      <th>quoted_status_id</th>\n",
       "      <th>quoted_status_id_str</th>\n",
       "      <th>quoted_status</th>\n",
       "    </tr>\n",
       "  </thead>\n",
       "  <tbody>\n",
       "    <tr>\n",
       "      <th>No 1</th>\n",
       "      <td>Tue Aug 01 16:23:56 +0000 2017</td>\n",
       "      <td>892420643555336193</td>\n",
       "      <td>892420643555336193</td>\n",
       "      <td>This is Phineas. He's a mystical boy. Only eve...</td>\n",
       "      <td>False</td>\n",
       "      <td>[0, 85]</td>\n",
       "      <td>{'hashtags': [], 'symbols': [], 'user_mentions...</td>\n",
       "      <td>{'media': [{'id': 892420639486877696, 'id_str'...</td>\n",
       "      <td>&lt;a href=\"http://twitter.com/download/iphone\" r...</td>\n",
       "      <td>None</td>\n",
       "      <td>None</td>\n",
       "      <td>None</td>\n",
       "      <td>None</td>\n",
       "      <td>None</td>\n",
       "      <td>{'id': 4196983835, 'id_str': '4196983835', 'na...</td>\n",
       "      <td>None</td>\n",
       "      <td>None</td>\n",
       "      <td>None</td>\n",
       "      <td>None</td>\n",
       "      <td>False</td>\n",
       "      <td>8853</td>\n",
       "      <td>39467</td>\n",
       "      <td>False</td>\n",
       "      <td>False</td>\n",
       "      <td>False</td>\n",
       "      <td>False</td>\n",
       "      <td>en</td>\n",
       "      <td>NaN</td>\n",
       "      <td>NaN</td>\n",
       "      <td>NaN</td>\n",
       "      <td>NaN</td>\n",
       "    </tr>\n",
       "    <tr>\n",
       "      <th>No 2</th>\n",
       "      <td>Tue Aug 01 00:17:27 +0000 2017</td>\n",
       "      <td>892177421306343426</td>\n",
       "      <td>892177421306343426</td>\n",
       "      <td>This is Tilly. She's just checking pup on you....</td>\n",
       "      <td>False</td>\n",
       "      <td>[0, 138]</td>\n",
       "      <td>{'hashtags': [], 'symbols': [], 'user_mentions...</td>\n",
       "      <td>{'media': [{'id': 892177413194625024, 'id_str'...</td>\n",
       "      <td>&lt;a href=\"http://twitter.com/download/iphone\" r...</td>\n",
       "      <td>None</td>\n",
       "      <td>None</td>\n",
       "      <td>None</td>\n",
       "      <td>None</td>\n",
       "      <td>None</td>\n",
       "      <td>{'id': 4196983835, 'id_str': '4196983835', 'na...</td>\n",
       "      <td>None</td>\n",
       "      <td>None</td>\n",
       "      <td>None</td>\n",
       "      <td>None</td>\n",
       "      <td>False</td>\n",
       "      <td>6514</td>\n",
       "      <td>33819</td>\n",
       "      <td>False</td>\n",
       "      <td>False</td>\n",
       "      <td>False</td>\n",
       "      <td>False</td>\n",
       "      <td>en</td>\n",
       "      <td>NaN</td>\n",
       "      <td>NaN</td>\n",
       "      <td>NaN</td>\n",
       "      <td>NaN</td>\n",
       "    </tr>\n",
       "    <tr>\n",
       "      <th>No 3</th>\n",
       "      <td>Mon Jul 31 00:18:03 +0000 2017</td>\n",
       "      <td>891815181378084864</td>\n",
       "      <td>891815181378084864</td>\n",
       "      <td>This is Archie. He is a rare Norwegian Pouncin...</td>\n",
       "      <td>False</td>\n",
       "      <td>[0, 121]</td>\n",
       "      <td>{'hashtags': [], 'symbols': [], 'user_mentions...</td>\n",
       "      <td>{'media': [{'id': 891815175371796480, 'id_str'...</td>\n",
       "      <td>&lt;a href=\"http://twitter.com/download/iphone\" r...</td>\n",
       "      <td>None</td>\n",
       "      <td>None</td>\n",
       "      <td>None</td>\n",
       "      <td>None</td>\n",
       "      <td>None</td>\n",
       "      <td>{'id': 4196983835, 'id_str': '4196983835', 'na...</td>\n",
       "      <td>None</td>\n",
       "      <td>None</td>\n",
       "      <td>None</td>\n",
       "      <td>None</td>\n",
       "      <td>False</td>\n",
       "      <td>4328</td>\n",
       "      <td>25461</td>\n",
       "      <td>False</td>\n",
       "      <td>False</td>\n",
       "      <td>False</td>\n",
       "      <td>False</td>\n",
       "      <td>en</td>\n",
       "      <td>NaN</td>\n",
       "      <td>NaN</td>\n",
       "      <td>NaN</td>\n",
       "      <td>NaN</td>\n",
       "    </tr>\n",
       "    <tr>\n",
       "      <th>No 4</th>\n",
       "      <td>Sun Jul 30 15:58:51 +0000 2017</td>\n",
       "      <td>891689557279858688</td>\n",
       "      <td>891689557279858688</td>\n",
       "      <td>This is Darla. She commenced a snooze mid meal...</td>\n",
       "      <td>False</td>\n",
       "      <td>[0, 79]</td>\n",
       "      <td>{'hashtags': [], 'symbols': [], 'user_mentions...</td>\n",
       "      <td>{'media': [{'id': 891689552724799489, 'id_str'...</td>\n",
       "      <td>&lt;a href=\"http://twitter.com/download/iphone\" r...</td>\n",
       "      <td>None</td>\n",
       "      <td>None</td>\n",
       "      <td>None</td>\n",
       "      <td>None</td>\n",
       "      <td>None</td>\n",
       "      <td>{'id': 4196983835, 'id_str': '4196983835', 'na...</td>\n",
       "      <td>None</td>\n",
       "      <td>None</td>\n",
       "      <td>None</td>\n",
       "      <td>None</td>\n",
       "      <td>False</td>\n",
       "      <td>8964</td>\n",
       "      <td>42908</td>\n",
       "      <td>False</td>\n",
       "      <td>False</td>\n",
       "      <td>False</td>\n",
       "      <td>False</td>\n",
       "      <td>en</td>\n",
       "      <td>NaN</td>\n",
       "      <td>NaN</td>\n",
       "      <td>NaN</td>\n",
       "      <td>NaN</td>\n",
       "    </tr>\n",
       "    <tr>\n",
       "      <th>No 5</th>\n",
       "      <td>Sat Jul 29 16:00:24 +0000 2017</td>\n",
       "      <td>891327558926688256</td>\n",
       "      <td>891327558926688256</td>\n",
       "      <td>This is Franklin. He would like you to stop ca...</td>\n",
       "      <td>False</td>\n",
       "      <td>[0, 138]</td>\n",
       "      <td>{'hashtags': [{'text': 'BarkWeek', 'indices': ...</td>\n",
       "      <td>{'media': [{'id': 891327551943041024, 'id_str'...</td>\n",
       "      <td>&lt;a href=\"http://twitter.com/download/iphone\" r...</td>\n",
       "      <td>None</td>\n",
       "      <td>None</td>\n",
       "      <td>None</td>\n",
       "      <td>None</td>\n",
       "      <td>None</td>\n",
       "      <td>{'id': 4196983835, 'id_str': '4196983835', 'na...</td>\n",
       "      <td>None</td>\n",
       "      <td>None</td>\n",
       "      <td>None</td>\n",
       "      <td>None</td>\n",
       "      <td>False</td>\n",
       "      <td>9774</td>\n",
       "      <td>41048</td>\n",
       "      <td>False</td>\n",
       "      <td>False</td>\n",
       "      <td>False</td>\n",
       "      <td>False</td>\n",
       "      <td>en</td>\n",
       "      <td>NaN</td>\n",
       "      <td>NaN</td>\n",
       "      <td>NaN</td>\n",
       "      <td>NaN</td>\n",
       "    </tr>\n",
       "    <tr>\n",
       "      <th>...</th>\n",
       "      <td>...</td>\n",
       "      <td>...</td>\n",
       "      <td>...</td>\n",
       "      <td>...</td>\n",
       "      <td>...</td>\n",
       "      <td>...</td>\n",
       "      <td>...</td>\n",
       "      <td>...</td>\n",
       "      <td>...</td>\n",
       "      <td>...</td>\n",
       "      <td>...</td>\n",
       "      <td>...</td>\n",
       "      <td>...</td>\n",
       "      <td>...</td>\n",
       "      <td>...</td>\n",
       "      <td>...</td>\n",
       "      <td>...</td>\n",
       "      <td>...</td>\n",
       "      <td>...</td>\n",
       "      <td>...</td>\n",
       "      <td>...</td>\n",
       "      <td>...</td>\n",
       "      <td>...</td>\n",
       "      <td>...</td>\n",
       "      <td>...</td>\n",
       "      <td>...</td>\n",
       "      <td>...</td>\n",
       "      <td>...</td>\n",
       "      <td>...</td>\n",
       "      <td>...</td>\n",
       "      <td>...</td>\n",
       "    </tr>\n",
       "    <tr>\n",
       "      <th>No 2350</th>\n",
       "      <td>Mon Nov 16 00:24:50 +0000 2015</td>\n",
       "      <td>666049248165822465</td>\n",
       "      <td>666049248165822465</td>\n",
       "      <td>Here we have a 1949 1st generation vulpix. Enj...</td>\n",
       "      <td>False</td>\n",
       "      <td>[0, 120]</td>\n",
       "      <td>{'hashtags': [], 'symbols': [], 'user_mentions...</td>\n",
       "      <td>{'media': [{'id': 666049244999131136, 'id_str'...</td>\n",
       "      <td>&lt;a href=\"http://twitter.com/download/iphone\" r...</td>\n",
       "      <td>None</td>\n",
       "      <td>None</td>\n",
       "      <td>None</td>\n",
       "      <td>None</td>\n",
       "      <td>None</td>\n",
       "      <td>{'id': 4196983835, 'id_str': '4196983835', 'na...</td>\n",
       "      <td>None</td>\n",
       "      <td>None</td>\n",
       "      <td>None</td>\n",
       "      <td>None</td>\n",
       "      <td>False</td>\n",
       "      <td>41</td>\n",
       "      <td>111</td>\n",
       "      <td>False</td>\n",
       "      <td>False</td>\n",
       "      <td>False</td>\n",
       "      <td>False</td>\n",
       "      <td>en</td>\n",
       "      <td>NaN</td>\n",
       "      <td>NaN</td>\n",
       "      <td>NaN</td>\n",
       "      <td>NaN</td>\n",
       "    </tr>\n",
       "    <tr>\n",
       "      <th>No 2351</th>\n",
       "      <td>Mon Nov 16 00:04:52 +0000 2015</td>\n",
       "      <td>666044226329800704</td>\n",
       "      <td>666044226329800704</td>\n",
       "      <td>This is a purebred Piers Morgan. Loves to Netf...</td>\n",
       "      <td>False</td>\n",
       "      <td>[0, 137]</td>\n",
       "      <td>{'hashtags': [], 'symbols': [], 'user_mentions...</td>\n",
       "      <td>{'media': [{'id': 666044217047650304, 'id_str'...</td>\n",
       "      <td>&lt;a href=\"http://twitter.com/download/iphone\" r...</td>\n",
       "      <td>None</td>\n",
       "      <td>None</td>\n",
       "      <td>None</td>\n",
       "      <td>None</td>\n",
       "      <td>None</td>\n",
       "      <td>{'id': 4196983835, 'id_str': '4196983835', 'na...</td>\n",
       "      <td>None</td>\n",
       "      <td>None</td>\n",
       "      <td>None</td>\n",
       "      <td>None</td>\n",
       "      <td>False</td>\n",
       "      <td>147</td>\n",
       "      <td>311</td>\n",
       "      <td>False</td>\n",
       "      <td>False</td>\n",
       "      <td>False</td>\n",
       "      <td>False</td>\n",
       "      <td>en</td>\n",
       "      <td>NaN</td>\n",
       "      <td>NaN</td>\n",
       "      <td>NaN</td>\n",
       "      <td>NaN</td>\n",
       "    </tr>\n",
       "    <tr>\n",
       "      <th>No 2352</th>\n",
       "      <td>Sun Nov 15 23:21:54 +0000 2015</td>\n",
       "      <td>666033412701032449</td>\n",
       "      <td>666033412701032449</td>\n",
       "      <td>Here is a very happy pup. Big fan of well-main...</td>\n",
       "      <td>False</td>\n",
       "      <td>[0, 130]</td>\n",
       "      <td>{'hashtags': [], 'symbols': [], 'user_mentions...</td>\n",
       "      <td>{'media': [{'id': 666033409081393153, 'id_str'...</td>\n",
       "      <td>&lt;a href=\"http://twitter.com/download/iphone\" r...</td>\n",
       "      <td>None</td>\n",
       "      <td>None</td>\n",
       "      <td>None</td>\n",
       "      <td>None</td>\n",
       "      <td>None</td>\n",
       "      <td>{'id': 4196983835, 'id_str': '4196983835', 'na...</td>\n",
       "      <td>None</td>\n",
       "      <td>None</td>\n",
       "      <td>None</td>\n",
       "      <td>None</td>\n",
       "      <td>False</td>\n",
       "      <td>47</td>\n",
       "      <td>128</td>\n",
       "      <td>False</td>\n",
       "      <td>False</td>\n",
       "      <td>False</td>\n",
       "      <td>False</td>\n",
       "      <td>en</td>\n",
       "      <td>NaN</td>\n",
       "      <td>NaN</td>\n",
       "      <td>NaN</td>\n",
       "      <td>NaN</td>\n",
       "    </tr>\n",
       "    <tr>\n",
       "      <th>No 2353</th>\n",
       "      <td>Sun Nov 15 23:05:30 +0000 2015</td>\n",
       "      <td>666029285002620928</td>\n",
       "      <td>666029285002620928</td>\n",
       "      <td>This is a western brown Mitsubishi terrier. Up...</td>\n",
       "      <td>False</td>\n",
       "      <td>[0, 139]</td>\n",
       "      <td>{'hashtags': [], 'symbols': [], 'user_mentions...</td>\n",
       "      <td>{'media': [{'id': 666029276303482880, 'id_str'...</td>\n",
       "      <td>&lt;a href=\"http://twitter.com/download/iphone\" r...</td>\n",
       "      <td>None</td>\n",
       "      <td>None</td>\n",
       "      <td>None</td>\n",
       "      <td>None</td>\n",
       "      <td>None</td>\n",
       "      <td>{'id': 4196983835, 'id_str': '4196983835', 'na...</td>\n",
       "      <td>None</td>\n",
       "      <td>None</td>\n",
       "      <td>None</td>\n",
       "      <td>None</td>\n",
       "      <td>False</td>\n",
       "      <td>48</td>\n",
       "      <td>132</td>\n",
       "      <td>False</td>\n",
       "      <td>False</td>\n",
       "      <td>False</td>\n",
       "      <td>False</td>\n",
       "      <td>en</td>\n",
       "      <td>NaN</td>\n",
       "      <td>NaN</td>\n",
       "      <td>NaN</td>\n",
       "      <td>NaN</td>\n",
       "    </tr>\n",
       "    <tr>\n",
       "      <th>No 2354</th>\n",
       "      <td>Sun Nov 15 22:32:08 +0000 2015</td>\n",
       "      <td>666020888022790149</td>\n",
       "      <td>666020888022790149</td>\n",
       "      <td>Here we have a Japanese Irish Setter. Lost eye...</td>\n",
       "      <td>False</td>\n",
       "      <td>[0, 131]</td>\n",
       "      <td>{'hashtags': [], 'symbols': [], 'user_mentions...</td>\n",
       "      <td>{'media': [{'id': 666020881337073664, 'id_str'...</td>\n",
       "      <td>&lt;a href=\"http://twitter.com/download/iphone\" r...</td>\n",
       "      <td>None</td>\n",
       "      <td>None</td>\n",
       "      <td>None</td>\n",
       "      <td>None</td>\n",
       "      <td>None</td>\n",
       "      <td>{'id': 4196983835, 'id_str': '4196983835', 'na...</td>\n",
       "      <td>None</td>\n",
       "      <td>None</td>\n",
       "      <td>None</td>\n",
       "      <td>None</td>\n",
       "      <td>False</td>\n",
       "      <td>532</td>\n",
       "      <td>2535</td>\n",
       "      <td>False</td>\n",
       "      <td>False</td>\n",
       "      <td>False</td>\n",
       "      <td>False</td>\n",
       "      <td>en</td>\n",
       "      <td>NaN</td>\n",
       "      <td>NaN</td>\n",
       "      <td>NaN</td>\n",
       "      <td>NaN</td>\n",
       "    </tr>\n",
       "  </tbody>\n",
       "</table>\n",
       "<p>2354 rows × 31 columns</p>\n",
       "</div>"
      ],
      "text/plain": [
       "                             created_at                  id  \\\n",
       "No 1     Tue Aug 01 16:23:56 +0000 2017  892420643555336193   \n",
       "No 2     Tue Aug 01 00:17:27 +0000 2017  892177421306343426   \n",
       "No 3     Mon Jul 31 00:18:03 +0000 2017  891815181378084864   \n",
       "No 4     Sun Jul 30 15:58:51 +0000 2017  891689557279858688   \n",
       "No 5     Sat Jul 29 16:00:24 +0000 2017  891327558926688256   \n",
       "...                                 ...                 ...   \n",
       "No 2350  Mon Nov 16 00:24:50 +0000 2015  666049248165822465   \n",
       "No 2351  Mon Nov 16 00:04:52 +0000 2015  666044226329800704   \n",
       "No 2352  Sun Nov 15 23:21:54 +0000 2015  666033412701032449   \n",
       "No 2353  Sun Nov 15 23:05:30 +0000 2015  666029285002620928   \n",
       "No 2354  Sun Nov 15 22:32:08 +0000 2015  666020888022790149   \n",
       "\n",
       "                     id_str  \\\n",
       "No 1     892420643555336193   \n",
       "No 2     892177421306343426   \n",
       "No 3     891815181378084864   \n",
       "No 4     891689557279858688   \n",
       "No 5     891327558926688256   \n",
       "...                     ...   \n",
       "No 2350  666049248165822465   \n",
       "No 2351  666044226329800704   \n",
       "No 2352  666033412701032449   \n",
       "No 2353  666029285002620928   \n",
       "No 2354  666020888022790149   \n",
       "\n",
       "                                                 full_text truncated  \\\n",
       "No 1     This is Phineas. He's a mystical boy. Only eve...     False   \n",
       "No 2     This is Tilly. She's just checking pup on you....     False   \n",
       "No 3     This is Archie. He is a rare Norwegian Pouncin...     False   \n",
       "No 4     This is Darla. She commenced a snooze mid meal...     False   \n",
       "No 5     This is Franklin. He would like you to stop ca...     False   \n",
       "...                                                    ...       ...   \n",
       "No 2350  Here we have a 1949 1st generation vulpix. Enj...     False   \n",
       "No 2351  This is a purebred Piers Morgan. Loves to Netf...     False   \n",
       "No 2352  Here is a very happy pup. Big fan of well-main...     False   \n",
       "No 2353  This is a western brown Mitsubishi terrier. Up...     False   \n",
       "No 2354  Here we have a Japanese Irish Setter. Lost eye...     False   \n",
       "\n",
       "        display_text_range                                           entities  \\\n",
       "No 1               [0, 85]  {'hashtags': [], 'symbols': [], 'user_mentions...   \n",
       "No 2              [0, 138]  {'hashtags': [], 'symbols': [], 'user_mentions...   \n",
       "No 3              [0, 121]  {'hashtags': [], 'symbols': [], 'user_mentions...   \n",
       "No 4               [0, 79]  {'hashtags': [], 'symbols': [], 'user_mentions...   \n",
       "No 5              [0, 138]  {'hashtags': [{'text': 'BarkWeek', 'indices': ...   \n",
       "...                    ...                                                ...   \n",
       "No 2350           [0, 120]  {'hashtags': [], 'symbols': [], 'user_mentions...   \n",
       "No 2351           [0, 137]  {'hashtags': [], 'symbols': [], 'user_mentions...   \n",
       "No 2352           [0, 130]  {'hashtags': [], 'symbols': [], 'user_mentions...   \n",
       "No 2353           [0, 139]  {'hashtags': [], 'symbols': [], 'user_mentions...   \n",
       "No 2354           [0, 131]  {'hashtags': [], 'symbols': [], 'user_mentions...   \n",
       "\n",
       "                                         extended_entities  \\\n",
       "No 1     {'media': [{'id': 892420639486877696, 'id_str'...   \n",
       "No 2     {'media': [{'id': 892177413194625024, 'id_str'...   \n",
       "No 3     {'media': [{'id': 891815175371796480, 'id_str'...   \n",
       "No 4     {'media': [{'id': 891689552724799489, 'id_str'...   \n",
       "No 5     {'media': [{'id': 891327551943041024, 'id_str'...   \n",
       "...                                                    ...   \n",
       "No 2350  {'media': [{'id': 666049244999131136, 'id_str'...   \n",
       "No 2351  {'media': [{'id': 666044217047650304, 'id_str'...   \n",
       "No 2352  {'media': [{'id': 666033409081393153, 'id_str'...   \n",
       "No 2353  {'media': [{'id': 666029276303482880, 'id_str'...   \n",
       "No 2354  {'media': [{'id': 666020881337073664, 'id_str'...   \n",
       "\n",
       "                                                    source  \\\n",
       "No 1     <a href=\"http://twitter.com/download/iphone\" r...   \n",
       "No 2     <a href=\"http://twitter.com/download/iphone\" r...   \n",
       "No 3     <a href=\"http://twitter.com/download/iphone\" r...   \n",
       "No 4     <a href=\"http://twitter.com/download/iphone\" r...   \n",
       "No 5     <a href=\"http://twitter.com/download/iphone\" r...   \n",
       "...                                                    ...   \n",
       "No 2350  <a href=\"http://twitter.com/download/iphone\" r...   \n",
       "No 2351  <a href=\"http://twitter.com/download/iphone\" r...   \n",
       "No 2352  <a href=\"http://twitter.com/download/iphone\" r...   \n",
       "No 2353  <a href=\"http://twitter.com/download/iphone\" r...   \n",
       "No 2354  <a href=\"http://twitter.com/download/iphone\" r...   \n",
       "\n",
       "        in_reply_to_status_id in_reply_to_status_id_str in_reply_to_user_id  \\\n",
       "No 1                     None                      None                None   \n",
       "No 2                     None                      None                None   \n",
       "No 3                     None                      None                None   \n",
       "No 4                     None                      None                None   \n",
       "No 5                     None                      None                None   \n",
       "...                       ...                       ...                 ...   \n",
       "No 2350                  None                      None                None   \n",
       "No 2351                  None                      None                None   \n",
       "No 2352                  None                      None                None   \n",
       "No 2353                  None                      None                None   \n",
       "No 2354                  None                      None                None   \n",
       "\n",
       "        in_reply_to_user_id_str in_reply_to_screen_name  \\\n",
       "No 1                       None                    None   \n",
       "No 2                       None                    None   \n",
       "No 3                       None                    None   \n",
       "No 4                       None                    None   \n",
       "No 5                       None                    None   \n",
       "...                         ...                     ...   \n",
       "No 2350                    None                    None   \n",
       "No 2351                    None                    None   \n",
       "No 2352                    None                    None   \n",
       "No 2353                    None                    None   \n",
       "No 2354                    None                    None   \n",
       "\n",
       "                                                      user   geo coordinates  \\\n",
       "No 1     {'id': 4196983835, 'id_str': '4196983835', 'na...  None        None   \n",
       "No 2     {'id': 4196983835, 'id_str': '4196983835', 'na...  None        None   \n",
       "No 3     {'id': 4196983835, 'id_str': '4196983835', 'na...  None        None   \n",
       "No 4     {'id': 4196983835, 'id_str': '4196983835', 'na...  None        None   \n",
       "No 5     {'id': 4196983835, 'id_str': '4196983835', 'na...  None        None   \n",
       "...                                                    ...   ...         ...   \n",
       "No 2350  {'id': 4196983835, 'id_str': '4196983835', 'na...  None        None   \n",
       "No 2351  {'id': 4196983835, 'id_str': '4196983835', 'na...  None        None   \n",
       "No 2352  {'id': 4196983835, 'id_str': '4196983835', 'na...  None        None   \n",
       "No 2353  {'id': 4196983835, 'id_str': '4196983835', 'na...  None        None   \n",
       "No 2354  {'id': 4196983835, 'id_str': '4196983835', 'na...  None        None   \n",
       "\n",
       "        place contributors is_quote_status retweet_count favorite_count  \\\n",
       "No 1     None         None           False          8853          39467   \n",
       "No 2     None         None           False          6514          33819   \n",
       "No 3     None         None           False          4328          25461   \n",
       "No 4     None         None           False          8964          42908   \n",
       "No 5     None         None           False          9774          41048   \n",
       "...       ...          ...             ...           ...            ...   \n",
       "No 2350  None         None           False            41            111   \n",
       "No 2351  None         None           False           147            311   \n",
       "No 2352  None         None           False            47            128   \n",
       "No 2353  None         None           False            48            132   \n",
       "No 2354  None         None           False           532           2535   \n",
       "\n",
       "        favorited retweeted possibly_sensitive possibly_sensitive_appealable  \\\n",
       "No 1        False     False              False                         False   \n",
       "No 2        False     False              False                         False   \n",
       "No 3        False     False              False                         False   \n",
       "No 4        False     False              False                         False   \n",
       "No 5        False     False              False                         False   \n",
       "...           ...       ...                ...                           ...   \n",
       "No 2350     False     False              False                         False   \n",
       "No 2351     False     False              False                         False   \n",
       "No 2352     False     False              False                         False   \n",
       "No 2353     False     False              False                         False   \n",
       "No 2354     False     False              False                         False   \n",
       "\n",
       "        lang retweeted_status quoted_status_id quoted_status_id_str  \\\n",
       "No 1      en              NaN              NaN                  NaN   \n",
       "No 2      en              NaN              NaN                  NaN   \n",
       "No 3      en              NaN              NaN                  NaN   \n",
       "No 4      en              NaN              NaN                  NaN   \n",
       "No 5      en              NaN              NaN                  NaN   \n",
       "...      ...              ...              ...                  ...   \n",
       "No 2350   en              NaN              NaN                  NaN   \n",
       "No 2351   en              NaN              NaN                  NaN   \n",
       "No 2352   en              NaN              NaN                  NaN   \n",
       "No 2353   en              NaN              NaN                  NaN   \n",
       "No 2354   en              NaN              NaN                  NaN   \n",
       "\n",
       "        quoted_status  \n",
       "No 1              NaN  \n",
       "No 2              NaN  \n",
       "No 3              NaN  \n",
       "No 4              NaN  \n",
       "No 5              NaN  \n",
       "...               ...  \n",
       "No 2350           NaN  \n",
       "No 2351           NaN  \n",
       "No 2352           NaN  \n",
       "No 2353           NaN  \n",
       "No 2354           NaN  \n",
       "\n",
       "[2354 rows x 31 columns]"
      ]
     },
     "execution_count": 30,
     "metadata": {},
     "output_type": "execute_result"
    }
   ],
   "source": [
    "api_data"
   ]
  },
  {
   "cell_type": "markdown",
   "id": "f022678e",
   "metadata": {},
   "source": [
    "`Tidiness issue:` Multiple variables in the display_text_range column.<br>\n",
    "\n",
    "`Tidiness issue:` Multiple variables in the entities, extended_entities, user, place, retweeted_status, and quoted_status columns contained in dictionaries, they should be removed from the dataframe and used to form new tables.<br>"
   ]
  },
  {
   "cell_type": "code",
   "execution_count": 31,
   "id": "fcdbbf89",
   "metadata": {},
   "outputs": [
    {
     "data": {
      "text/plain": [
       "2354"
      ]
     },
     "execution_count": 31,
     "metadata": {},
     "output_type": "execute_result"
    }
   ],
   "source": [
    "sum(api_data.id.astype(str) == api_data.id_str)"
   ]
  },
  {
   "cell_type": "markdown",
   "id": "62961742",
   "metadata": {},
   "source": [
    "`Quality issue:` duplicate columns id, id_str. One needs to be dropped.\n",
    "\n",
    "#### Programmatic Assessment of the Tweeter API dataset.\n",
    "\n",
    "<b>A concise summary of the api_data DataFrame.</b>"
   ]
  },
  {
   "cell_type": "code",
   "execution_count": 32,
   "id": "b26b6a37",
   "metadata": {},
   "outputs": [
    {
     "name": "stdout",
     "output_type": "stream",
     "text": [
      "<class 'pandas.core.frame.DataFrame'>\n",
      "Index: 2354 entries, No 1 to No 2354\n",
      "Data columns (total 31 columns):\n",
      " #   Column                         Non-Null Count  Dtype \n",
      "---  ------                         --------------  ----- \n",
      " 0   created_at                     2354 non-null   object\n",
      " 1   id                             2354 non-null   object\n",
      " 2   id_str                         2354 non-null   object\n",
      " 3   full_text                      2354 non-null   object\n",
      " 4   truncated                      2354 non-null   object\n",
      " 5   display_text_range             2354 non-null   object\n",
      " 6   entities                       2354 non-null   object\n",
      " 7   extended_entities              2073 non-null   object\n",
      " 8   source                         2354 non-null   object\n",
      " 9   in_reply_to_status_id          78 non-null     object\n",
      " 10  in_reply_to_status_id_str      78 non-null     object\n",
      " 11  in_reply_to_user_id            78 non-null     object\n",
      " 12  in_reply_to_user_id_str        78 non-null     object\n",
      " 13  in_reply_to_screen_name        78 non-null     object\n",
      " 14  user                           2354 non-null   object\n",
      " 15  geo                            0 non-null      object\n",
      " 16  coordinates                    0 non-null      object\n",
      " 17  place                          1 non-null      object\n",
      " 18  contributors                   0 non-null      object\n",
      " 19  is_quote_status                2354 non-null   object\n",
      " 20  retweet_count                  2354 non-null   object\n",
      " 21  favorite_count                 2354 non-null   object\n",
      " 22  favorited                      2354 non-null   object\n",
      " 23  retweeted                      2354 non-null   object\n",
      " 24  possibly_sensitive             2211 non-null   object\n",
      " 25  possibly_sensitive_appealable  2211 non-null   object\n",
      " 26  lang                           2354 non-null   object\n",
      " 27  retweeted_status               179 non-null    object\n",
      " 28  quoted_status_id               29 non-null     object\n",
      " 29  quoted_status_id_str           29 non-null     object\n",
      " 30  quoted_status                  28 non-null     object\n",
      "dtypes: object(31)\n",
      "memory usage: 653.0+ KB\n"
     ]
    }
   ],
   "source": [
    "api_data.info()"
   ]
  },
  {
   "cell_type": "markdown",
   "id": "61f32a3e",
   "metadata": {},
   "source": [
    "`Quality issue:` Incorrect Datatype; the created_at column has string datatype(object) instead of the DateTime datatype.\n",
    "\n",
    "`Quality issue:` Incorrect Datatype; the  retweet_count, favorite_count columns have string datatype(object) instead of the integer datatype.\n",
    "\n",
    "`Quality issue:` Incorrect Datatype,the truncated, favorited, retweeted, possibly_sensitive, possibly_sensitive_appealable columns have string datatype(i.e object) instead of boolean datatype.\n",
    "\n",
    "<b>Checking the percentage of missing values in the api_data DataFrame.</b>"
   ]
  },
  {
   "cell_type": "code",
   "execution_count": 33,
   "id": "e3fb0b36",
   "metadata": {},
   "outputs": [
    {
     "data": {
      "text/plain": [
       "geo                              100.000000\n",
       "coordinates                      100.000000\n",
       "contributors                     100.000000\n",
       "place                             99.957519\n",
       "quoted_status                     98.810535\n",
       "quoted_status_id_str              98.768054\n",
       "quoted_status_id                  98.768054\n",
       "in_reply_to_status_id             96.686491\n",
       "in_reply_to_status_id_str         96.686491\n",
       "in_reply_to_user_id               96.686491\n",
       "in_reply_to_user_id_str           96.686491\n",
       "in_reply_to_screen_name           96.686491\n",
       "retweeted_status                  92.395922\n",
       "extended_entities                 11.937128\n",
       "possibly_sensitive_appealable      6.074766\n",
       "possibly_sensitive                 6.074766\n",
       "display_text_range                 0.000000\n",
       "favorite_count                     0.000000\n",
       "lang                               0.000000\n",
       "retweeted                          0.000000\n",
       "favorited                          0.000000\n",
       "id_str                             0.000000\n",
       "retweet_count                      0.000000\n",
       "is_quote_status                    0.000000\n",
       "entities                           0.000000\n",
       "full_text                          0.000000\n",
       "truncated                          0.000000\n",
       "id                                 0.000000\n",
       "user                               0.000000\n",
       "source                             0.000000\n",
       "created_at                         0.000000\n",
       "dtype: float64"
      ]
     },
     "execution_count": 33,
     "metadata": {},
     "output_type": "execute_result"
    }
   ],
   "source": [
    "(api_data.isnull().sum()/api_data.shape[0]).sort_values(ascending=False) * 100"
   ]
  },
  {
   "cell_type": "markdown",
   "id": "87109a73",
   "metadata": {},
   "source": [
    "`Quality issue:` Missing Values in the the coordinates, geo, contributors, place,\n",
    "quoted_status, quoted_status_id_str, quoted_status_id, \n",
    "in_reply_to_status_id, in_reply_to_status_id_str, in_reply_to_user_id, in_reply_to_user_id_str,\n",
    "in_reply_to_screen_name, retweeted_status, extended_entities, possibly_sensitive_appealable,\n",
    "possibly_sensitive columns\n",
    "\n",
    "<b>Checking the descriptive statistics of the api_data dataframe.</b>"
   ]
  },
  {
   "cell_type": "code",
   "execution_count": 34,
   "id": "479a2b01",
   "metadata": {},
   "outputs": [
    {
     "data": {
      "text/html": [
       "<div>\n",
       "<style scoped>\n",
       "    .dataframe tbody tr th:only-of-type {\n",
       "        vertical-align: middle;\n",
       "    }\n",
       "\n",
       "    .dataframe tbody tr th {\n",
       "        vertical-align: top;\n",
       "    }\n",
       "\n",
       "    .dataframe thead th {\n",
       "        text-align: right;\n",
       "    }\n",
       "</style>\n",
       "<table border=\"1\" class=\"dataframe\">\n",
       "  <thead>\n",
       "    <tr style=\"text-align: right;\">\n",
       "      <th></th>\n",
       "      <th>count</th>\n",
       "      <th>unique</th>\n",
       "      <th>top</th>\n",
       "      <th>freq</th>\n",
       "    </tr>\n",
       "  </thead>\n",
       "  <tbody>\n",
       "    <tr>\n",
       "      <th>created_at</th>\n",
       "      <td>2354</td>\n",
       "      <td>2354</td>\n",
       "      <td>Tue Aug 01 16:23:56 +0000 2017</td>\n",
       "      <td>1</td>\n",
       "    </tr>\n",
       "    <tr>\n",
       "      <th>id</th>\n",
       "      <td>2354</td>\n",
       "      <td>2354</td>\n",
       "      <td>892420643555336193</td>\n",
       "      <td>1</td>\n",
       "    </tr>\n",
       "    <tr>\n",
       "      <th>id_str</th>\n",
       "      <td>2354</td>\n",
       "      <td>2354</td>\n",
       "      <td>892420643555336193</td>\n",
       "      <td>1</td>\n",
       "    </tr>\n",
       "    <tr>\n",
       "      <th>full_text</th>\n",
       "      <td>2354</td>\n",
       "      <td>2354</td>\n",
       "      <td>This is Phineas. He's a mystical boy. Only eve...</td>\n",
       "      <td>1</td>\n",
       "    </tr>\n",
       "    <tr>\n",
       "      <th>truncated</th>\n",
       "      <td>2354</td>\n",
       "      <td>1</td>\n",
       "      <td>False</td>\n",
       "      <td>2354</td>\n",
       "    </tr>\n",
       "    <tr>\n",
       "      <th>display_text_range</th>\n",
       "      <td>2354</td>\n",
       "      <td>143</td>\n",
       "      <td>[0, 140]</td>\n",
       "      <td>260</td>\n",
       "    </tr>\n",
       "    <tr>\n",
       "      <th>entities</th>\n",
       "      <td>2354</td>\n",
       "      <td>2253</td>\n",
       "      <td>{'hashtags': [], 'symbols': [], 'user_mentions...</td>\n",
       "      <td>75</td>\n",
       "    </tr>\n",
       "    <tr>\n",
       "      <th>extended_entities</th>\n",
       "      <td>2073</td>\n",
       "      <td>2073</td>\n",
       "      <td>{'media': [{'id': 892420639486877696, 'id_str'...</td>\n",
       "      <td>1</td>\n",
       "    </tr>\n",
       "    <tr>\n",
       "      <th>source</th>\n",
       "      <td>2354</td>\n",
       "      <td>4</td>\n",
       "      <td>&lt;a href=\"http://twitter.com/download/iphone\" r...</td>\n",
       "      <td>2219</td>\n",
       "    </tr>\n",
       "    <tr>\n",
       "      <th>in_reply_to_status_id</th>\n",
       "      <td>78</td>\n",
       "      <td>77</td>\n",
       "      <td>667152164079423490</td>\n",
       "      <td>2</td>\n",
       "    </tr>\n",
       "    <tr>\n",
       "      <th>in_reply_to_status_id_str</th>\n",
       "      <td>78</td>\n",
       "      <td>77</td>\n",
       "      <td>667152164079423490</td>\n",
       "      <td>2</td>\n",
       "    </tr>\n",
       "    <tr>\n",
       "      <th>in_reply_to_user_id</th>\n",
       "      <td>78</td>\n",
       "      <td>31</td>\n",
       "      <td>4196983835</td>\n",
       "      <td>47</td>\n",
       "    </tr>\n",
       "    <tr>\n",
       "      <th>in_reply_to_user_id_str</th>\n",
       "      <td>78</td>\n",
       "      <td>31</td>\n",
       "      <td>4196983835</td>\n",
       "      <td>47</td>\n",
       "    </tr>\n",
       "    <tr>\n",
       "      <th>in_reply_to_screen_name</th>\n",
       "      <td>78</td>\n",
       "      <td>31</td>\n",
       "      <td>dog_rates</td>\n",
       "      <td>47</td>\n",
       "    </tr>\n",
       "    <tr>\n",
       "      <th>user</th>\n",
       "      <td>2354</td>\n",
       "      <td>79</td>\n",
       "      <td>{'id': 4196983835, 'id_str': '4196983835', 'na...</td>\n",
       "      <td>225</td>\n",
       "    </tr>\n",
       "    <tr>\n",
       "      <th>geo</th>\n",
       "      <td>0</td>\n",
       "      <td>0</td>\n",
       "      <td>NaN</td>\n",
       "      <td>NaN</td>\n",
       "    </tr>\n",
       "    <tr>\n",
       "      <th>coordinates</th>\n",
       "      <td>0</td>\n",
       "      <td>0</td>\n",
       "      <td>NaN</td>\n",
       "      <td>NaN</td>\n",
       "    </tr>\n",
       "    <tr>\n",
       "      <th>place</th>\n",
       "      <td>1</td>\n",
       "      <td>1</td>\n",
       "      <td>{'id': '7356b662670b2c31', 'url': 'https://api...</td>\n",
       "      <td>1</td>\n",
       "    </tr>\n",
       "    <tr>\n",
       "      <th>contributors</th>\n",
       "      <td>0</td>\n",
       "      <td>0</td>\n",
       "      <td>NaN</td>\n",
       "      <td>NaN</td>\n",
       "    </tr>\n",
       "    <tr>\n",
       "      <th>is_quote_status</th>\n",
       "      <td>2354</td>\n",
       "      <td>2</td>\n",
       "      <td>False</td>\n",
       "      <td>2323</td>\n",
       "    </tr>\n",
       "    <tr>\n",
       "      <th>retweet_count</th>\n",
       "      <td>2354</td>\n",
       "      <td>1724</td>\n",
       "      <td>1972</td>\n",
       "      <td>5</td>\n",
       "    </tr>\n",
       "    <tr>\n",
       "      <th>favorite_count</th>\n",
       "      <td>2354</td>\n",
       "      <td>2007</td>\n",
       "      <td>0</td>\n",
       "      <td>179</td>\n",
       "    </tr>\n",
       "    <tr>\n",
       "      <th>favorited</th>\n",
       "      <td>2354</td>\n",
       "      <td>2</td>\n",
       "      <td>False</td>\n",
       "      <td>2346</td>\n",
       "    </tr>\n",
       "    <tr>\n",
       "      <th>retweeted</th>\n",
       "      <td>2354</td>\n",
       "      <td>1</td>\n",
       "      <td>False</td>\n",
       "      <td>2354</td>\n",
       "    </tr>\n",
       "    <tr>\n",
       "      <th>possibly_sensitive</th>\n",
       "      <td>2211</td>\n",
       "      <td>1</td>\n",
       "      <td>False</td>\n",
       "      <td>2211</td>\n",
       "    </tr>\n",
       "    <tr>\n",
       "      <th>possibly_sensitive_appealable</th>\n",
       "      <td>2211</td>\n",
       "      <td>1</td>\n",
       "      <td>False</td>\n",
       "      <td>2211</td>\n",
       "    </tr>\n",
       "    <tr>\n",
       "      <th>lang</th>\n",
       "      <td>2354</td>\n",
       "      <td>9</td>\n",
       "      <td>en</td>\n",
       "      <td>2336</td>\n",
       "    </tr>\n",
       "    <tr>\n",
       "      <th>retweeted_status</th>\n",
       "      <td>179</td>\n",
       "      <td>179</td>\n",
       "      <td>{'created_at': 'Sat Jul 15 02:44:07 +0000 2017...</td>\n",
       "      <td>1</td>\n",
       "    </tr>\n",
       "    <tr>\n",
       "      <th>quoted_status_id</th>\n",
       "      <td>29</td>\n",
       "      <td>29</td>\n",
       "      <td>886053434075471873</td>\n",
       "      <td>1</td>\n",
       "    </tr>\n",
       "    <tr>\n",
       "      <th>quoted_status_id_str</th>\n",
       "      <td>29</td>\n",
       "      <td>29</td>\n",
       "      <td>886053434075471873</td>\n",
       "      <td>1</td>\n",
       "    </tr>\n",
       "    <tr>\n",
       "      <th>quoted_status</th>\n",
       "      <td>28</td>\n",
       "      <td>28</td>\n",
       "      <td>{'created_at': 'Thu Jul 13 15:12:47 +0000 2017...</td>\n",
       "      <td>1</td>\n",
       "    </tr>\n",
       "  </tbody>\n",
       "</table>\n",
       "</div>"
      ],
      "text/plain": [
       "                              count unique  \\\n",
       "created_at                     2354   2354   \n",
       "id                             2354   2354   \n",
       "id_str                         2354   2354   \n",
       "full_text                      2354   2354   \n",
       "truncated                      2354      1   \n",
       "display_text_range             2354    143   \n",
       "entities                       2354   2253   \n",
       "extended_entities              2073   2073   \n",
       "source                         2354      4   \n",
       "in_reply_to_status_id            78     77   \n",
       "in_reply_to_status_id_str        78     77   \n",
       "in_reply_to_user_id              78     31   \n",
       "in_reply_to_user_id_str          78     31   \n",
       "in_reply_to_screen_name          78     31   \n",
       "user                           2354     79   \n",
       "geo                               0      0   \n",
       "coordinates                       0      0   \n",
       "place                             1      1   \n",
       "contributors                      0      0   \n",
       "is_quote_status                2354      2   \n",
       "retweet_count                  2354   1724   \n",
       "favorite_count                 2354   2007   \n",
       "favorited                      2354      2   \n",
       "retweeted                      2354      1   \n",
       "possibly_sensitive             2211      1   \n",
       "possibly_sensitive_appealable  2211      1   \n",
       "lang                           2354      9   \n",
       "retweeted_status                179    179   \n",
       "quoted_status_id                 29     29   \n",
       "quoted_status_id_str             29     29   \n",
       "quoted_status                    28     28   \n",
       "\n",
       "                                                                             top  \\\n",
       "created_at                                        Tue Aug 01 16:23:56 +0000 2017   \n",
       "id                                                            892420643555336193   \n",
       "id_str                                                        892420643555336193   \n",
       "full_text                      This is Phineas. He's a mystical boy. Only eve...   \n",
       "truncated                                                                  False   \n",
       "display_text_range                                                      [0, 140]   \n",
       "entities                       {'hashtags': [], 'symbols': [], 'user_mentions...   \n",
       "extended_entities              {'media': [{'id': 892420639486877696, 'id_str'...   \n",
       "source                         <a href=\"http://twitter.com/download/iphone\" r...   \n",
       "in_reply_to_status_id                                         667152164079423490   \n",
       "in_reply_to_status_id_str                                     667152164079423490   \n",
       "in_reply_to_user_id                                                   4196983835   \n",
       "in_reply_to_user_id_str                                               4196983835   \n",
       "in_reply_to_screen_name                                                dog_rates   \n",
       "user                           {'id': 4196983835, 'id_str': '4196983835', 'na...   \n",
       "geo                                                                          NaN   \n",
       "coordinates                                                                  NaN   \n",
       "place                          {'id': '7356b662670b2c31', 'url': 'https://api...   \n",
       "contributors                                                                 NaN   \n",
       "is_quote_status                                                            False   \n",
       "retweet_count                                                               1972   \n",
       "favorite_count                                                                 0   \n",
       "favorited                                                                  False   \n",
       "retweeted                                                                  False   \n",
       "possibly_sensitive                                                         False   \n",
       "possibly_sensitive_appealable                                              False   \n",
       "lang                                                                          en   \n",
       "retweeted_status               {'created_at': 'Sat Jul 15 02:44:07 +0000 2017...   \n",
       "quoted_status_id                                              886053434075471873   \n",
       "quoted_status_id_str                                          886053434075471873   \n",
       "quoted_status                  {'created_at': 'Thu Jul 13 15:12:47 +0000 2017...   \n",
       "\n",
       "                               freq  \n",
       "created_at                        1  \n",
       "id                                1  \n",
       "id_str                            1  \n",
       "full_text                         1  \n",
       "truncated                      2354  \n",
       "display_text_range              260  \n",
       "entities                         75  \n",
       "extended_entities                 1  \n",
       "source                         2219  \n",
       "in_reply_to_status_id             2  \n",
       "in_reply_to_status_id_str         2  \n",
       "in_reply_to_user_id              47  \n",
       "in_reply_to_user_id_str          47  \n",
       "in_reply_to_screen_name          47  \n",
       "user                            225  \n",
       "geo                             NaN  \n",
       "coordinates                     NaN  \n",
       "place                             1  \n",
       "contributors                    NaN  \n",
       "is_quote_status                2323  \n",
       "retweet_count                     5  \n",
       "favorite_count                  179  \n",
       "favorited                      2346  \n",
       "retweeted                      2354  \n",
       "possibly_sensitive             2211  \n",
       "possibly_sensitive_appealable  2211  \n",
       "lang                           2336  \n",
       "retweeted_status                  1  \n",
       "quoted_status_id                  1  \n",
       "quoted_status_id_str              1  \n",
       "quoted_status                     1  "
      ]
     },
     "execution_count": 34,
     "metadata": {},
     "output_type": "execute_result"
    }
   ],
   "source": [
    "api_data.describe().transpose()"
   ]
  },
  {
   "cell_type": "markdown",
   "id": "9e7ce78a",
   "metadata": {},
   "source": [
    "`Observation:` Every element in the truncated, retweeted columns has the value False. These Columns should be dropped, seeing they are too monotonous to offer any insight into our data.\n",
    "\n",
    "<b>Checking the unique values in the lang and source columns.</b>"
   ]
  },
  {
   "cell_type": "code",
   "execution_count": 35,
   "id": "59aac37b",
   "metadata": {},
   "outputs": [
    {
     "data": {
      "text/plain": [
       "array(['en', 'und', 'in', 'eu', 'es', 'nl', 'tl', 'ro', 'et'],\n",
       "      dtype=object)"
      ]
     },
     "execution_count": 35,
     "metadata": {},
     "output_type": "execute_result"
    }
   ],
   "source": [
    "api_data.lang.unique()"
   ]
  },
  {
   "cell_type": "code",
   "execution_count": 36,
   "id": "2fb894ca",
   "metadata": {},
   "outputs": [
    {
     "data": {
      "text/plain": [
       "array(['<a href=\"http://twitter.com/download/iphone\" rel=\"nofollow\">Twitter for iPhone</a>',\n",
       "       '<a href=\"http://twitter.com\" rel=\"nofollow\">Twitter Web Client</a>',\n",
       "       '<a href=\"http://vine.co\" rel=\"nofollow\">Vine - Make a Scene</a>',\n",
       "       '<a href=\"https://about.twitter.com/products/tweetdeck\" rel=\"nofollow\">TweetDeck</a>'],\n",
       "      dtype=object)"
      ]
     },
     "execution_count": 36,
     "metadata": {},
     "output_type": "execute_result"
    }
   ],
   "source": [
    "api_data.source.unique()"
   ]
  },
  {
   "cell_type": "markdown",
   "id": "6537af07",
   "metadata": {},
   "source": [
    "`Tidiness issue:` Multiple variables in the source column should be split into two distinct columns (the source link and source text columns).\n",
    "\n",
    "\n",
    "<b>Checking the first first elements in the full_text column.</b>"
   ]
  },
  {
   "cell_type": "code",
   "execution_count": 37,
   "id": "836a7641",
   "metadata": {},
   "outputs": [
    {
     "name": "stdout",
     "output_type": "stream",
     "text": [
      "This is Phineas. He's a mystical boy. Only ever appears in the hole of a donut. 13/10 https://t.co/MgUWQ76dJU\n",
      "This is Tilly. She's just checking pup on you. Hopes you're doing ok. If not, she's available for pats, snugs, boops, the whole bit. 13/10 https://t.co/0Xxu71qeIV\n",
      "This is Archie. He is a rare Norwegian Pouncing Corgo. Lives in the tall grass. You never know when one may strike. 12/10 https://t.co/wUnZnhtVJB\n",
      "This is Darla. She commenced a snooze mid meal. 13/10 happens to the best of us https://t.co/tD36da7qLQ\n",
      "This is Franklin. He would like you to stop calling him \"cute.\" He is a very fierce shark and should be respected as such. 12/10 #BarkWeek https://t.co/AtUZn91f7f\n"
     ]
    }
   ],
   "source": [
    "for text in api_data.full_text.head():\n",
    "    print(text)"
   ]
  },
  {
   "cell_type": "markdown",
   "id": "5de705dc",
   "metadata": {},
   "source": [
    "`Tidyness Issue:` Multiple variables stored in one column (i.e text). The full_text column should be separated into 3 columns (i.e text, rating and text_link columns).<br>"
   ]
  },
  {
   "cell_type": "markdown",
   "id": "d080c624",
   "metadata": {},
   "source": [
    "## Data Cleaning\n",
    "\n",
    "<b><i><u>Original_data Dataframe Quality Issues</u></i></b>\n",
    "<ol>\n",
    "<li>There are alot of missing values in the in_reply_to_user_id,in_reply_to_status_id, retweeted_status_timestamp, retweeted_status_id, retweeted_status_user_id and expanded_urls columns.</li>\n",
    "<li>The timestamp, retweeted_status_timestamp columns have the string datatype(i.e object) instead of the datetime datatype.</li>\n",
    "<li>Inaccurate data value, the rating_denominator column has a minimum value of 0, which is not a valid denominator.</li>\n",
    "<li>The puppo, floofer, pupper, name, and doggo columns have the string 'None' representing the missing values, they should be replaced with NAN values.</li>\n",
    "<li>After visual assessment of the unique elements in the name columns,the words 'a', 'not', 'one', 'an','very', 'O', 'my', 'his', 'this', 'all', 'the', 'by', 'such', 'quite', 'quite', 'quite', 'incredibly', 'mad', 'just', 'actually', 'just', 'getting', 'mad', 'unacceptable', 'old', 'infuriating', 'getting', 'just', 'actually', 'officially', 'life', 'light', 'just', 'space', 'quite' were extracted being invalid names, this are missing values.</li>\n",
    "</ol>\n",
    "\n",
    "<b>Making a copy of the original_data.</b>"
   ]
  },
  {
   "cell_type": "code",
   "execution_count": 38,
   "id": "b56a7cf6",
   "metadata": {},
   "outputs": [],
   "source": [
    "original_data_copy = original_data.copy()\n",
    "api_data_copy = api_data.copy()\n",
    "image_data_copy = image_data.copy()"
   ]
  },
  {
   "cell_type": "markdown",
   "id": "30869425",
   "metadata": {},
   "source": [
    "**Define**:<br>\n",
    "Missing Values in multiple columns\n",
    "- Drop the columns in_reply_to_user_id,in_reply_to_status_id, retweeted_status_timestamp, retweeted_status_id, retweeted_status_user_id.\n",
    "- Use the dropna method to drop the rows in which in which the expanded_urls column has missing values.\n",
    "\n",
    "**Code**"
   ]
  },
  {
   "cell_type": "code",
   "execution_count": 39,
   "id": "481080d2",
   "metadata": {},
   "outputs": [],
   "source": [
    "# dropping columns with missing values\n",
    "original_data_copy.drop(columns=['in_reply_to_user_id', 'in_reply_to_status_id', 'retweeted_status_timestamp', 'retweeted_status_id', 'retweeted_status_user_id'], inplace=True)\n",
    "original_data_copy.dropna(subset=['expanded_urls'], inplace=True)"
   ]
  },
  {
   "cell_type": "markdown",
   "id": "8dec9804",
   "metadata": {},
   "source": [
    "**Test**"
   ]
  },
  {
   "cell_type": "code",
   "execution_count": 40,
   "id": "9c0e14c3",
   "metadata": {},
   "outputs": [
    {
     "name": "stdout",
     "output_type": "stream",
     "text": [
      "<class 'pandas.core.frame.DataFrame'>\n",
      "Int64Index: 2297 entries, 0 to 2355\n",
      "Data columns (total 12 columns):\n",
      " #   Column              Non-Null Count  Dtype \n",
      "---  ------              --------------  ----- \n",
      " 0   tweet_id            2297 non-null   int64 \n",
      " 1   timestamp           2297 non-null   object\n",
      " 2   source              2297 non-null   object\n",
      " 3   text                2297 non-null   object\n",
      " 4   expanded_urls       2297 non-null   object\n",
      " 5   rating_numerator    2297 non-null   int64 \n",
      " 6   rating_denominator  2297 non-null   int64 \n",
      " 7   name                2297 non-null   object\n",
      " 8   doggo               2297 non-null   object\n",
      " 9   floofer             2297 non-null   object\n",
      " 10  pupper              2297 non-null   object\n",
      " 11  puppo               2297 non-null   object\n",
      "dtypes: int64(3), object(9)\n",
      "memory usage: 233.3+ KB\n"
     ]
    }
   ],
   "source": [
    "original_data_copy.info()"
   ]
  },
  {
   "cell_type": "markdown",
   "id": "1749cb97",
   "metadata": {},
   "source": [
    "**Define** <br>\n",
    "The timestamp, retweeted_status_timestamp columns have the string datatype(i.e object) instead of the datetime datatype.\n",
    "The retweeted_status_timestamp column was dropped due to its high percentage of missing values.<br>\n",
    "- Change the datatype of the timestamp column using the pd.to_datetime function.\n",
    "\n",
    "**Code**"
   ]
  },
  {
   "cell_type": "code",
   "execution_count": 41,
   "id": "acd73162",
   "metadata": {},
   "outputs": [],
   "source": [
    "original_data_copy['timestamp'] = pd.to_datetime(original_data_copy['timestamp'])"
   ]
  },
  {
   "cell_type": "markdown",
   "id": "85a00716",
   "metadata": {},
   "source": [
    "**Test**"
   ]
  },
  {
   "cell_type": "code",
   "execution_count": 42,
   "id": "7ebc1e33",
   "metadata": {},
   "outputs": [
    {
     "data": {
      "text/plain": [
       "datetime64[ns, UTC]"
      ]
     },
     "execution_count": 42,
     "metadata": {},
     "output_type": "execute_result"
    }
   ],
   "source": [
    "# checking the datatype of the timestamp column\n",
    "original_data_copy.timestamp.dtype"
   ]
  },
  {
   "cell_type": "markdown",
   "id": "094cb5bb",
   "metadata": {},
   "source": [
    "**Define**<br>\n",
    "Inaccurate data value; the rating_denominator column has a minimum value of 0 which is not a valid denominator.<br>\n",
    "- Drop the row in which the rating_denominator column has a value of 0.\n",
    "\n",
    "**Code**"
   ]
  },
  {
   "cell_type": "code",
   "execution_count": 43,
   "id": "4c53835a",
   "metadata": {},
   "outputs": [],
   "source": [
    "original_data_copy = original_data_copy[original_data_copy.rating_denominator != 0]"
   ]
  },
  {
   "cell_type": "markdown",
   "id": "e2f3a63f",
   "metadata": {},
   "source": [
    "**Test**"
   ]
  },
  {
   "cell_type": "code",
   "execution_count": 44,
   "id": "e19fb321",
   "metadata": {},
   "outputs": [
    {
     "name": "stdout",
     "output_type": "stream",
     "text": [
      "False\n"
     ]
    }
   ],
   "source": [
    "# checking the rating_denominator column for rows that has the value of zero\n",
    "print(any(original_data_copy.rating_denominator == 0))"
   ]
  },
  {
   "cell_type": "markdown",
   "id": "cd1e35c3",
   "metadata": {},
   "source": [
    "**Define**<br>\n",
    "The puppo, floofer, pupper, name, and doggo columns have the string 'None' representing the missing values, they should be replaced with NAN values.<br>\n",
    "- Use the str.replace to replace the 'None' strings with a NaN values(Not a Number Values).\n",
    "\n",
    "**Code**"
   ]
  },
  {
   "cell_type": "code",
   "execution_count": 45,
   "id": "e458c40d",
   "metadata": {},
   "outputs": [],
   "source": [
    "dog_columns = ['puppo', 'floofer', 'pupper', 'name', 'doggo']\n",
    "for dog_column in dog_columns:\n",
    "    original_data_copy[dog_column] = original_data_copy[dog_column].replace('None', NaN)"
   ]
  },
  {
   "cell_type": "markdown",
   "id": "c84e6c71",
   "metadata": {},
   "source": [
    "**Test**"
   ]
  },
  {
   "cell_type": "code",
   "execution_count": 46,
   "id": "ac0a52e2",
   "metadata": {},
   "outputs": [
    {
     "name": "stdout",
     "output_type": "stream",
     "text": [
      "<class 'pandas.core.frame.DataFrame'>\n",
      "Int64Index: 2297 entries, 0 to 2355\n",
      "Data columns (total 5 columns):\n",
      " #   Column   Non-Null Count  Dtype \n",
      "---  ------   --------------  ----- \n",
      " 0   puppo    29 non-null     object\n",
      " 1   floofer  10 non-null     object\n",
      " 2   pupper   255 non-null    object\n",
      " 3   name     1611 non-null   object\n",
      " 4   doggo    94 non-null     object\n",
      "dtypes: object(5)\n",
      "memory usage: 107.7+ KB\n"
     ]
    }
   ],
   "source": [
    "original_data_copy[['puppo', 'floofer', 'pupper', 'name', 'doggo']].info()"
   ]
  },
  {
   "cell_type": "markdown",
   "id": "ef951947",
   "metadata": {},
   "source": [
    "**Define**<br>\n",
    "After visual assessment of the unique elements in the name columns,the words 'a', 'not', 'one', 'an','very', 'O', 'my', 'his', 'this', 'all', 'the', 'by', 'such', 'quite', 'quite', 'quite', 'incredibly', 'mad', 'just', 'actually', 'just', 'getting', 'mad', 'unacceptable', 'old', 'infuriating', 'getting', 'just', 'actually', 'officially', 'life', 'light', 'just', 'space', 'quite' were extracted being invalid names, this are missing values.<br>\n",
    "- Replace the invalid names with using the replace method NaN values(Not a Number Values).\n",
    "\n",
    "**Code**"
   ]
  },
  {
   "cell_type": "code",
   "execution_count": 47,
   "id": "b57da46e",
   "metadata": {},
   "outputs": [],
   "source": [
    "Invalid_Names = [ 'a', 'not', 'one', 'an','very', 'O', 'my', 'his', 'this', 'all', 'the', 'by', 'such', 'quite', 'quite',\n",
    "                 'quite', 'incredibly', 'mad', 'just', 'actually', 'just', 'getting', 'mad', 'unacceptable', 'old',\n",
    "                 'infuriating', 'getting', 'just', 'actually', 'officially', 'life', 'light', 'just', 'space', 'quite' ]\n",
    "for Invalid_Name in Invalid_Names:\n",
    "    original_data_copy.name = original_data_copy.name.replace(Invalid_Name, NaN)"
   ]
  },
  {
   "cell_type": "markdown",
   "id": "295288aa",
   "metadata": {},
   "source": [
    "**Test**"
   ]
  },
  {
   "cell_type": "code",
   "execution_count": 48,
   "id": "2063fe9e",
   "metadata": {},
   "outputs": [
    {
     "data": {
      "text/plain": [
       "False"
      ]
     },
     "execution_count": 48,
     "metadata": {},
     "output_type": "execute_result"
    }
   ],
   "source": [
    "List = []\n",
    "#checking the name columns for the invalid names and appending false to the list if False\n",
    "for item in Invalid_Names:\n",
    "    if item in original_data_copy.name.unique():\n",
    "        List.append(True)\n",
    "    else:\n",
    "        List.append(False)\n",
    "\n",
    "# There are no items in the invalid name list left in the name column\n",
    "any(List) "
   ]
  },
  {
   "cell_type": "markdown",
   "id": "c452ef45",
   "metadata": {},
   "source": [
    "<b><i><u>Api_data Dataframe Quality Issues</u></i></b>\n",
    "<ol>\n",
    "    <li>duplicate columns id, id_str. One needs to be dropped.</li>\n",
    "    <li>Incorrect Datatype; the created_at column has string datatype(object) instead of the DateTime datatype.</li>\n",
    "    <li>Incorrect Datatype; the truncated, favorited, retweeted, possibly_sensitive, possibly_sensitive_appealable columns have string datatype(i.e object) instead of boolean datatype.</li>\n",
    "    <li>Missing Values in the the coordinates, geo, contributors, place, quoted_status,  quoted_status_id_str, quoted_status_id, in_reply_to_status_id, in_reply_to_status_id_str, in_reply_to_user_id, in_reply_to_user_id_str, in_reply_to_screen_name, retweeted_status, extended_entities, possibly_sensitive_appealable, possibly_sensitive columns.</li>\n",
    "    <li>Incorrect Datatype; the  retweet_count, favorite_count columns have string datatype(object) instead of the integer datatype.</li>\n",
    "</ol>\n",
    "\n",
    "**Define**<br>\n",
    "Duplicate columns id, id_str in the api_data dataframe, one needs to be dropped.<br>\n",
    "- Drop the id_str column.\n",
    "\n",
    "**Code**"
   ]
  },
  {
   "cell_type": "code",
   "execution_count": 49,
   "id": "6423b097",
   "metadata": {},
   "outputs": [],
   "source": [
    "api_data_copy.drop(columns='id_str', inplace=True)"
   ]
  },
  {
   "cell_type": "markdown",
   "id": "d58ef264",
   "metadata": {},
   "source": [
    "**Test**"
   ]
  },
  {
   "cell_type": "code",
   "execution_count": 50,
   "id": "3c905a5e",
   "metadata": {},
   "outputs": [
    {
     "data": {
      "text/plain": [
       "False"
      ]
     },
     "execution_count": 50,
     "metadata": {},
     "output_type": "execute_result"
    }
   ],
   "source": [
    "#checking if the id_str column was removed\n",
    "'id_str' in api_data_copy.columns"
   ]
  },
  {
   "cell_type": "markdown",
   "id": "5cc75709",
   "metadata": {},
   "source": [
    "**Define**<br>\n",
    "Incorrect Datatype; the created_at column has string datatype(object) instead of the DateTime datatype.\n",
    "- Change the datatype of the created_at column using the pd.to_datetime function.\n",
    "\n",
    "**Code**"
   ]
  },
  {
   "cell_type": "code",
   "execution_count": 51,
   "id": "d59a6c68",
   "metadata": {},
   "outputs": [],
   "source": [
    "api_data_copy.created_at = pd.to_datetime(api_data_copy.created_at)"
   ]
  },
  {
   "cell_type": "markdown",
   "id": "7b614a97",
   "metadata": {},
   "source": [
    "**Test**"
   ]
  },
  {
   "cell_type": "code",
   "execution_count": 52,
   "id": "b97669c9",
   "metadata": {},
   "outputs": [
    {
     "data": {
      "text/plain": [
       "datetime64[ns, UTC]"
      ]
     },
     "execution_count": 52,
     "metadata": {},
     "output_type": "execute_result"
    }
   ],
   "source": [
    "#checking the datatype of the created_at column.\n",
    "api_data_copy.created_at.dtype"
   ]
  },
  {
   "cell_type": "markdown",
   "id": "e3dcaca1",
   "metadata": {},
   "source": [
    "**Define**<br>\n",
    "Incorrect Datatype; the truncated, favorited, retweeted, possibly_sensitive, possibly_sensitive_appealable columns have string datatype(i.e object) instead of boolean datatype.<br>\n",
    "- Use the astype method to change the datatype of the truncated, favorited, retweeted, possibly_sensitive, possibly_sensitive_appealable columns.\n",
    "\n",
    "**Code**"
   ]
  },
  {
   "cell_type": "code",
   "execution_count": 53,
   "id": "464126af",
   "metadata": {},
   "outputs": [],
   "source": [
    "Bool_columns = ['truncated', 'favorited', 'retweeted', 'possibly_sensitive', 'possibly_sensitive_appealable']\n",
    "\n",
    "for bool_column in Bool_columns:\n",
    "    api_data_copy[bool_column] = api_data_copy[bool_column].astype(bool)"
   ]
  },
  {
   "cell_type": "markdown",
   "id": "3b7c6c5e",
   "metadata": {},
   "source": [
    "**Test**"
   ]
  },
  {
   "cell_type": "code",
   "execution_count": 54,
   "id": "81f44483",
   "metadata": {},
   "outputs": [
    {
     "data": {
      "text/plain": [
       "truncated                        bool\n",
       "favorited                        bool\n",
       "retweeted                        bool\n",
       "possibly_sensitive               bool\n",
       "possibly_sensitive_appealable    bool\n",
       "dtype: object"
      ]
     },
     "execution_count": 54,
     "metadata": {},
     "output_type": "execute_result"
    }
   ],
   "source": [
    "# checking the datatype of the columns in the bool_columns list\n",
    "api_data_copy[Bool_columns].dtypes"
   ]
  },
  {
   "cell_type": "markdown",
   "id": "5cdf0674",
   "metadata": {},
   "source": [
    "**Define**<br>\n",
    "Missing values in multiple columns.<br>\n",
    "- Drop the the coordinates, geo, contributors, place, quoted_status, quoted_status_permalinks, quoted_status_id_str, quoted_status_id, in_reply_to_status_id, in_reply_to_status_id_str, in_reply_to_user_id, in_reply_to_user_id_str, in_reply_to_screen_name, retweeted_status, extended_entities, possibly_sensitive_appealable, possibly_sensitive columns.\n",
    "- Use the dropna method to drop the rows in which in which the extended_entities, possibly_sensitive_appealable, possibly_sensitive column has missing values.\n",
    "\n",
    "**Code**"
   ]
  },
  {
   "cell_type": "code",
   "execution_count": 55,
   "id": "99cf93fb",
   "metadata": {},
   "outputs": [],
   "source": [
    "columns_drop = ['coordinates', 'geo', 'contributors', 'place', 'quoted_status', 'quoted_status_id_str', 'quoted_status_id', 'in_reply_to_status_id', 'in_reply_to_status_id_str', 'in_reply_to_user_id', 'in_reply_to_user_id_str', 'in_reply_to_screen_name', 'retweeted_status']\n",
    "subset = ['extended_entities', 'possibly_sensitive_appealable', 'possibly_sensitive']\n",
    "\n",
    "api_data_copy.drop(columns=columns_drop, inplace=True)\n",
    "api_data_copy.dropna(subset=subset, inplace=True)"
   ]
  },
  {
   "cell_type": "markdown",
   "id": "6cf1bdf8",
   "metadata": {},
   "source": [
    "**Test**"
   ]
  },
  {
   "cell_type": "code",
   "execution_count": 56,
   "id": "c7790f0a",
   "metadata": {},
   "outputs": [
    {
     "name": "stdout",
     "output_type": "stream",
     "text": [
      "<class 'pandas.core.frame.DataFrame'>\n",
      "Index: 2073 entries, No 1 to No 2354\n",
      "Data columns (total 17 columns):\n",
      " #   Column                         Non-Null Count  Dtype              \n",
      "---  ------                         --------------  -----              \n",
      " 0   created_at                     2073 non-null   datetime64[ns, UTC]\n",
      " 1   id                             2073 non-null   object             \n",
      " 2   full_text                      2073 non-null   object             \n",
      " 3   truncated                      2073 non-null   bool               \n",
      " 4   display_text_range             2073 non-null   object             \n",
      " 5   entities                       2073 non-null   object             \n",
      " 6   extended_entities              2073 non-null   object             \n",
      " 7   source                         2073 non-null   object             \n",
      " 8   user                           2073 non-null   object             \n",
      " 9   is_quote_status                2073 non-null   object             \n",
      " 10  retweet_count                  2073 non-null   object             \n",
      " 11  favorite_count                 2073 non-null   object             \n",
      " 12  favorited                      2073 non-null   bool               \n",
      " 13  retweeted                      2073 non-null   bool               \n",
      " 14  possibly_sensitive             2073 non-null   bool               \n",
      " 15  possibly_sensitive_appealable  2073 non-null   bool               \n",
      " 16  lang                           2073 non-null   object             \n",
      "dtypes: bool(5), datetime64[ns, UTC](1), object(11)\n",
      "memory usage: 220.7+ KB\n"
     ]
    }
   ],
   "source": [
    "#checking the dataframe\n",
    "api_data_copy.info()"
   ]
  },
  {
   "cell_type": "markdown",
   "id": "bde6138d",
   "metadata": {},
   "source": [
    "**Define**<br>\n",
    "Incorrect Datatype; the retweet_count, favorite_count columns have string datatype(object) instead of the integer datatype.<br>\n",
    "- Use the astype method to change the datatype of the retweet_count, favorite_count columns.\n",
    "\n",
    "**Code**"
   ]
  },
  {
   "cell_type": "code",
   "execution_count": 57,
   "id": "3af8397c",
   "metadata": {},
   "outputs": [],
   "source": [
    "Int_columns = ['retweet_count', 'favorite_count']\n",
    "\n",
    "for Int_column in Int_columns:\n",
    "    api_data_copy[Int_column] = api_data_copy[Int_column].astype(int)"
   ]
  },
  {
   "cell_type": "markdown",
   "id": "ef13b05b",
   "metadata": {},
   "source": [
    "**Test**"
   ]
  },
  {
   "cell_type": "code",
   "execution_count": 58,
   "id": "324e5a93",
   "metadata": {},
   "outputs": [
    {
     "data": {
      "text/plain": [
       "retweet_count     int32\n",
       "favorite_count    int32\n",
       "dtype: object"
      ]
     },
     "execution_count": 58,
     "metadata": {},
     "output_type": "execute_result"
    }
   ],
   "source": [
    "# checking the datatype of the columns in the int_columns list\n",
    "api_data_copy[Int_columns].dtypes"
   ]
  },
  {
   "cell_type": "markdown",
   "id": "ddcb2ba0",
   "metadata": {},
   "source": [
    "<b><i><u>Original_data Dataframe Tidyness Issues</u></i></b>\n",
    "<ol>\n",
    "<li>Multiple variables are in a single column. The text column must be split into three columns, the text, rating, and text_link columns.</li>\n",
    "<li>Column headers are values, not variable names (the doggo, floofer, pupper, puppo columns).</li>\n",
    "<li>Multiple variables in the source column should be split into two distinct columns (the source link and source text columns).</li>\n",
    "</ol>\n",
    "\n",
    "**Define**<br>\n",
    "Multiple variables in a column; the text column should be separated into three columns (text, rating, and text_link columns).<br>\n",
    "- Use the str.extract and regular expressions to extract the textlinks and rating.\n",
    "- Use the text_cleaner function to obtain the clean text.\n",
    "\n",
    "**Code**"
   ]
  },
  {
   "cell_type": "code",
   "execution_count": 59,
   "id": "819e0f76",
   "metadata": {},
   "outputs": [],
   "source": [
    "def text_cleaner(df, column, sep1, sep2):\n",
    "    '''The Returns the cleaned text into a column\n",
    "\n",
    "Parameters:\n",
    "df: Pandas DataFrame\n",
    "    The name of the dataframe.\n",
    "column: str\n",
    "    The name of the column to be cleaned.\n",
    "sep1: str\n",
    "    The name of the first column used for cleaning.\n",
    "sep2: str\n",
    "    The name of the second column used for cleaning.\n",
    "    '''\n",
    "    sep1_tuple = tuple(set(df[sep1].to_list() + ['. 1']))\n",
    "    sep2_tuple = tuple(set(df[sep2].to_list() + ['. 1']))\n",
    "    for item1 in sep1_tuple:\n",
    "        df[column] = df[column].str.replace(str(item1), '')\n",
    "    for item2 in sep2_tuple:\n",
    "        df[column] = df[column].str.replace(str(item2), '')"
   ]
  },
  {
   "cell_type": "code",
   "execution_count": 60,
   "id": "0be92e17",
   "metadata": {},
   "outputs": [
    {
     "name": "stderr",
     "output_type": "stream",
     "text": [
      "C:\\Users\\HP\\AppData\\Local\\Temp/ipykernel_6524/2490793743.py:17: FutureWarning: The default value of regex will change from True to False in a future version.\n",
      "  df[column] = df[column].str.replace(str(item1), '')\n",
      "C:\\Users\\HP\\AppData\\Local\\Temp/ipykernel_6524/2490793743.py:19: FutureWarning: The default value of regex will change from True to False in a future version.\n",
      "  df[column] = df[column].str.replace(str(item2), '')\n"
     ]
    }
   ],
   "source": [
    "original_data_copy['text_rating'] = original_data_copy.text.str.extract(r'(\\d+/\\d+)')\n",
    "original_data_copy['text_link'] = original_data_copy.text.str.extract(r'(https:/.*$|htt.*$)')\n",
    "text_cleaner(original_data_copy, 'text', 'text_rating', 'text_link')\n",
    "original_data_copy['text'] = original_data_copy['text'].apply(lambda x: x[:-1])"
   ]
  },
  {
   "cell_type": "markdown",
   "id": "4f063bf1",
   "metadata": {},
   "source": [
    "**Test**"
   ]
  },
  {
   "cell_type": "code",
   "execution_count": 61,
   "id": "5540ed6f",
   "metadata": {},
   "outputs": [
    {
     "data": {
      "text/plain": [
       "\"This is Phineas. He's a mystical boy. Only ever appears in the hole of a donut\""
      ]
     },
     "execution_count": 61,
     "metadata": {},
     "output_type": "execute_result"
    }
   ],
   "source": [
    "original_data_copy.text[0]"
   ]
  },
  {
   "cell_type": "code",
   "execution_count": 62,
   "id": "51b7a80d",
   "metadata": {},
   "outputs": [
    {
     "name": "stdout",
     "output_type": "stream",
     "text": [
      "<class 'pandas.core.frame.DataFrame'>\n",
      "Int64Index: 2297 entries, 0 to 2355\n",
      "Data columns (total 14 columns):\n",
      " #   Column              Non-Null Count  Dtype              \n",
      "---  ------              --------------  -----              \n",
      " 0   tweet_id            2297 non-null   int64              \n",
      " 1   timestamp           2297 non-null   datetime64[ns, UTC]\n",
      " 2   source              2297 non-null   object             \n",
      " 3   text                2297 non-null   object             \n",
      " 4   expanded_urls       2297 non-null   object             \n",
      " 5   rating_numerator    2297 non-null   int64              \n",
      " 6   rating_denominator  2297 non-null   int64              \n",
      " 7   name                1501 non-null   object             \n",
      " 8   doggo               94 non-null     object             \n",
      " 9   floofer             10 non-null     object             \n",
      " 10  pupper              255 non-null    object             \n",
      " 11  puppo               29 non-null     object             \n",
      " 12  text_rating         2297 non-null   object             \n",
      " 13  text_link           2287 non-null   object             \n",
      "dtypes: datetime64[ns, UTC](1), int64(3), object(10)\n",
      "memory usage: 333.7+ KB\n"
     ]
    }
   ],
   "source": [
    "original_data_copy.info()"
   ]
  },
  {
   "cell_type": "markdown",
   "id": "e041bdb0",
   "metadata": {},
   "source": [
    "**Define**<br>\n",
    "Column headers are values, not variable names; the doggo, floofer, pupper, puppo columns.\n",
    "- Merge the doggo, floofer, pupper and puppo columns to form a new column named dog_type.\n",
    "- Drop the doggo, floofer, pupper and puppo columns\n",
    "\n",
    "**Code**"
   ]
  },
  {
   "cell_type": "code",
   "execution_count": 63,
   "id": "448cfab3",
   "metadata": {},
   "outputs": [],
   "source": [
    "#merging the four columns into one\n",
    "original_data_copy['dog_type'] = original_data_copy['doggo'].fillna('') + original_data_copy['floofer'].fillna('') + original_data_copy['pupper'].fillna('') + original_data_copy['puppo'].fillna('')\n",
    "original_data_copy.dog_type = original_data_copy.dog_type.replace('', NaN)\n",
    "# dropping the four columns\n",
    "original_data_copy.drop(columns=['doggo', 'floofer', 'pupper', 'puppo'], inplace=True)"
   ]
  },
  {
   "cell_type": "markdown",
   "id": "b1d5c0a6",
   "metadata": {},
   "source": [
    "**Test**"
   ]
  },
  {
   "cell_type": "code",
   "execution_count": 64,
   "id": "066f8f2b",
   "metadata": {},
   "outputs": [
    {
     "name": "stdout",
     "output_type": "stream",
     "text": [
      "<class 'pandas.core.frame.DataFrame'>\n",
      "Int64Index: 2297 entries, 0 to 2355\n",
      "Data columns (total 11 columns):\n",
      " #   Column              Non-Null Count  Dtype              \n",
      "---  ------              --------------  -----              \n",
      " 0   tweet_id            2297 non-null   int64              \n",
      " 1   timestamp           2297 non-null   datetime64[ns, UTC]\n",
      " 2   source              2297 non-null   object             \n",
      " 3   text                2297 non-null   object             \n",
      " 4   expanded_urls       2297 non-null   object             \n",
      " 5   rating_numerator    2297 non-null   int64              \n",
      " 6   rating_denominator  2297 non-null   int64              \n",
      " 7   name                1501 non-null   object             \n",
      " 8   text_rating         2297 non-null   object             \n",
      " 9   text_link           2287 non-null   object             \n",
      " 10  dog_type            374 non-null    object             \n",
      "dtypes: datetime64[ns, UTC](1), int64(3), object(7)\n",
      "memory usage: 279.9+ KB\n"
     ]
    }
   ],
   "source": [
    "original_data_copy.info()"
   ]
  },
  {
   "cell_type": "markdown",
   "id": "71c6f56d",
   "metadata": {},
   "source": [
    "**Define**<br>\n",
    "Multiple variables in the source column should be split into two distinct columns (the source link and source text columns).<br>\n",
    "- Use the str.extract and regular expressions to extract the sourcelinks, and sourcetext from the source columns.\n",
    "- Use the apply function to edit the string in the columns.\n",
    "\n",
    "**Code**"
   ]
  },
  {
   "cell_type": "code",
   "execution_count": 65,
   "id": "69b535d2",
   "metadata": {},
   "outputs": [],
   "source": [
    "#extracting the link in the source column and assigning it to a new column; the source link column\n",
    "original_data_copy['source_link'] = original_data_copy.source.str.extract(r'(http.*\"\\s)')\n",
    "original_data_copy.source_link = original_data_copy.source_link.apply(lambda x: x[:-2])\n",
    "\n",
    "#extracting the text in the source column and assigning it to a new column; the source text column\n",
    "original_data_copy['source_text'] = original_data_copy.source.str.extract(r'(>.*<)')\n",
    "original_data_copy.source_text = original_data_copy.source_text.apply(lambda x: x[1:-1])\n",
    "\n",
    "#dropping the source column.\n",
    "original_data_copy.drop(columns=['source'],inplace=True)"
   ]
  },
  {
   "cell_type": "markdown",
   "id": "4692956a",
   "metadata": {},
   "source": [
    "**Test**"
   ]
  },
  {
   "cell_type": "code",
   "execution_count": 66,
   "id": "210c373e",
   "metadata": {},
   "outputs": [
    {
     "name": "stdout",
     "output_type": "stream",
     "text": [
      "<class 'pandas.core.frame.DataFrame'>\n",
      "Int64Index: 2297 entries, 0 to 2355\n",
      "Data columns (total 12 columns):\n",
      " #   Column              Non-Null Count  Dtype              \n",
      "---  ------              --------------  -----              \n",
      " 0   tweet_id            2297 non-null   int64              \n",
      " 1   timestamp           2297 non-null   datetime64[ns, UTC]\n",
      " 2   text                2297 non-null   object             \n",
      " 3   expanded_urls       2297 non-null   object             \n",
      " 4   rating_numerator    2297 non-null   int64              \n",
      " 5   rating_denominator  2297 non-null   int64              \n",
      " 6   name                1501 non-null   object             \n",
      " 7   text_rating         2297 non-null   object             \n",
      " 8   text_link           2287 non-null   object             \n",
      " 9   dog_type            374 non-null    object             \n",
      " 10  source_link         2297 non-null   object             \n",
      " 11  source_text         2297 non-null   object             \n",
      "dtypes: datetime64[ns, UTC](1), int64(3), object(8)\n",
      "memory usage: 297.8+ KB\n"
     ]
    }
   ],
   "source": [
    "original_data_copy.info()"
   ]
  },
  {
   "cell_type": "markdown",
   "id": "d6d26c62",
   "metadata": {},
   "source": [
    "<b><i><u>Api_data Dataframe Tidyness Issues</u></i></b>\n",
    "<ol>\n",
    "<li>Multiple variables in a column; the full_text column should be separated into three columns (text, rating, and text_link columns).</li>\n",
    "<li>Multiple variables in a column; the display_text_range column.\n",
    "    </li>\n",
    "<li>Multiple variables in a column; the entities, extended_entities, user, place, retweeted_status, and quoted_status columns contained in dictionaries, should be removed from the data frame and used to form new tables.</li>\n",
    "<li>Multiple variables in a column; the source column should be split into two distinct columns (the source link and source text columns).</li>\n",
    "</ol>\n",
    "\n",
    "**Define**<br>\n",
    "Multiple variables in a column; the full_text column should be separated into three columns (full_text, full_text_rating, and full_text_link columns).\n",
    "- Use the str.extract and regular expressions to extract the full_text_rating, and full_text_link.\n",
    "- Use the text_cleaner function to obtain the clean full_text.\n",
    "\n",
    "**Code**"
   ]
  },
  {
   "cell_type": "code",
   "execution_count": 67,
   "id": "e64ab894",
   "metadata": {},
   "outputs": [
    {
     "name": "stderr",
     "output_type": "stream",
     "text": [
      "C:\\Users\\HP\\AppData\\Local\\Temp/ipykernel_6524/2490793743.py:17: FutureWarning: The default value of regex will change from True to False in a future version.\n",
      "  df[column] = df[column].str.replace(str(item1), '')\n",
      "C:\\Users\\HP\\AppData\\Local\\Temp/ipykernel_6524/2490793743.py:19: FutureWarning: The default value of regex will change from True to False in a future version.\n",
      "  df[column] = df[column].str.replace(str(item2), '')\n"
     ]
    }
   ],
   "source": [
    "api_data_copy['full_text_rating'] = api_data_copy.full_text.str.extract(r'(\\d+/\\d+0)')\n",
    "api_data_copy['full_text_link'] = api_data_copy.full_text.str.extract(r'(https:/.*$|htt.*$)')\n",
    "text_cleaner(api_data_copy, 'full_text', 'full_text_rating', 'full_text_link')\n",
    "api_data_copy['full_text'] = api_data_copy['full_text'].apply(lambda x: x[:-1])"
   ]
  },
  {
   "cell_type": "markdown",
   "id": "f37e9295",
   "metadata": {},
   "source": [
    "**Test**"
   ]
  },
  {
   "cell_type": "code",
   "execution_count": 68,
   "id": "ee4e57e7",
   "metadata": {},
   "outputs": [
    {
     "data": {
      "text/plain": [
       "\"This is Phineas. He's a mystical boy. Only ever appears in the hole of a donut\""
      ]
     },
     "execution_count": 68,
     "metadata": {},
     "output_type": "execute_result"
    }
   ],
   "source": [
    "api_data_copy['full_text'][0]"
   ]
  },
  {
   "cell_type": "markdown",
   "id": "e1c35661",
   "metadata": {},
   "source": [
    "**Define**<br>\n",
    "Multiple variables in a column; the display_text_range column.<br>\n",
    "- Extract the second item in the list using the apply method and assign to a new column called display_text_length.\n",
    "- Drop the display_text_range column.\n",
    "\n",
    "**Code**"
   ]
  },
  {
   "cell_type": "code",
   "execution_count": 69,
   "id": "67b64c1f",
   "metadata": {},
   "outputs": [],
   "source": [
    "api_data_copy['display_text_length'] = api_data_copy['display_text_range'].apply(lambda x: x[1])\n",
    "api_data_copy.drop(columns=['display_text_range'], inplace=True)"
   ]
  },
  {
   "cell_type": "markdown",
   "id": "8b6ebbc9",
   "metadata": {},
   "source": [
    "**Test**"
   ]
  },
  {
   "cell_type": "code",
   "execution_count": 70,
   "id": "f43aa4e9",
   "metadata": {},
   "outputs": [
    {
     "data": {
      "text/plain": [
       "No 1     85\n",
       "No 2    138\n",
       "No 3    121\n",
       "No 4     79\n",
       "No 5    138\n",
       "Name: display_text_length, dtype: int64"
      ]
     },
     "execution_count": 70,
     "metadata": {},
     "output_type": "execute_result"
    }
   ],
   "source": [
    "api_data_copy.display_text_length.head()"
   ]
  },
  {
   "cell_type": "markdown",
   "id": "258e761f",
   "metadata": {},
   "source": [
    "**Define**<br>\n",
    "Multiple variables in a column; the entities, extended_entities, user, place, retweeted_status, and quoted_status columns contained in dictionaries, should be removed from the data frame and used to form new tables.<br>\n",
    "The place, quoted_status and retweeted_status were dropped early.<br>\n",
    "- Use the open function to save the entities, extended_entities, and user dictionaries as flat files\n",
    "- Remove the entities, extended_entities, and user from the dataframe.\n",
    "\n",
    "**Code**"
   ]
  },
  {
   "cell_type": "code",
   "execution_count": 71,
   "id": "20fb5e72",
   "metadata": {},
   "outputs": [],
   "source": [
    "entities = api_data_copy['entities'].to_dict()\n",
    "extended_entities = api_data_copy['extended_entities'].to_dict()\n",
    "user = api_data_copy['user'].to_dict()\n",
    "\n",
    "file1 = open('Datasets/entities.txt', 'w', encoding='utf-8')\n",
    "file2 = open('Datasets/extended_entities.txt', 'w', encoding='utf-8')\n",
    "file3 = open('Datasets/user.txt', 'w', encoding='utf-8')\n",
    "\n",
    "file1.write(str(entities))\n",
    "file2.write(str(extended_entities))\n",
    "file3.write(str(user))\n",
    "\n",
    "file1.close()\n",
    "file2.close()\n",
    "file3.close()\n",
    "\n",
    "api_data_copy.drop(columns=['entities', 'extended_entities', 'user'], inplace=True)"
   ]
  },
  {
   "cell_type": "markdown",
   "id": "b3a46921",
   "metadata": {},
   "source": [
    "**Test**"
   ]
  },
  {
   "cell_type": "code",
   "execution_count": 72,
   "id": "17b4f804",
   "metadata": {},
   "outputs": [
    {
     "name": "stdout",
     "output_type": "stream",
     "text": [
      "<class 'pandas.core.frame.DataFrame'>\n",
      "Index: 2073 entries, No 1 to No 2354\n",
      "Data columns (total 16 columns):\n",
      " #   Column                         Non-Null Count  Dtype              \n",
      "---  ------                         --------------  -----              \n",
      " 0   created_at                     2073 non-null   datetime64[ns, UTC]\n",
      " 1   id                             2073 non-null   object             \n",
      " 2   full_text                      2073 non-null   object             \n",
      " 3   truncated                      2073 non-null   bool               \n",
      " 4   source                         2073 non-null   object             \n",
      " 5   is_quote_status                2073 non-null   object             \n",
      " 6   retweet_count                  2073 non-null   int32              \n",
      " 7   favorite_count                 2073 non-null   int32              \n",
      " 8   favorited                      2073 non-null   bool               \n",
      " 9   retweeted                      2073 non-null   bool               \n",
      " 10  possibly_sensitive             2073 non-null   bool               \n",
      " 11  possibly_sensitive_appealable  2073 non-null   bool               \n",
      " 12  lang                           2073 non-null   object             \n",
      " 13  full_text_rating               2072 non-null   object             \n",
      " 14  full_text_link                 2073 non-null   object             \n",
      " 15  display_text_length            2073 non-null   int64              \n",
      "dtypes: bool(5), datetime64[ns, UTC](1), int32(2), int64(1), object(7)\n",
      "memory usage: 188.3+ KB\n"
     ]
    }
   ],
   "source": [
    "api_data_copy.info()"
   ]
  },
  {
   "cell_type": "markdown",
   "id": "ef6859ba",
   "metadata": {},
   "source": [
    "**Define**<br>\n",
    "Multiple variables in a column; the source column should be split into two distinct columns (the source link and source text columns).\n",
    "- Use the str.extract and regular expressions to extract the sourcelinks, and sourcetext from the source columns.\n",
    "- Use the apply function to edit the string in the columns.\n",
    "\n",
    "**Code**"
   ]
  },
  {
   "cell_type": "code",
   "execution_count": 73,
   "id": "a84feab1",
   "metadata": {},
   "outputs": [],
   "source": [
    "#extracting the link in the source column and assigning it to a new column; the source link column\n",
    "api_data_copy['source_link'] = api_data_copy.source.str.extract(r'(http.*\"\\s)')\n",
    "api_data_copy.source_link = api_data_copy.source_link.apply(lambda x: x[:-2])\n",
    "\n",
    "#extracting the text in the source column and assigning it to a new column; the source text column\n",
    "api_data_copy['source_text'] = api_data_copy.source.str.extract(r'(>.*<)')\n",
    "api_data_copy.source_text = api_data_copy.source_text.apply(lambda x: x[1:-1])\n",
    "\n",
    "#dropping the source column.\n",
    "api_data_copy.drop(columns=['source'],inplace=True)"
   ]
  },
  {
   "cell_type": "markdown",
   "id": "c5d6a434",
   "metadata": {},
   "source": [
    "**Test**"
   ]
  },
  {
   "cell_type": "code",
   "execution_count": 74,
   "id": "fb3aba1a",
   "metadata": {},
   "outputs": [
    {
     "data": {
      "text/html": [
       "<div>\n",
       "<style scoped>\n",
       "    .dataframe tbody tr th:only-of-type {\n",
       "        vertical-align: middle;\n",
       "    }\n",
       "\n",
       "    .dataframe tbody tr th {\n",
       "        vertical-align: top;\n",
       "    }\n",
       "\n",
       "    .dataframe thead th {\n",
       "        text-align: right;\n",
       "    }\n",
       "</style>\n",
       "<table border=\"1\" class=\"dataframe\">\n",
       "  <thead>\n",
       "    <tr style=\"text-align: right;\">\n",
       "      <th></th>\n",
       "      <th>source_text</th>\n",
       "      <th>source_link</th>\n",
       "    </tr>\n",
       "  </thead>\n",
       "  <tbody>\n",
       "    <tr>\n",
       "      <th>No 1</th>\n",
       "      <td>Twitter for iPhone</td>\n",
       "      <td>http://twitter.com/download/iphone</td>\n",
       "    </tr>\n",
       "    <tr>\n",
       "      <th>No 2</th>\n",
       "      <td>Twitter for iPhone</td>\n",
       "      <td>http://twitter.com/download/iphone</td>\n",
       "    </tr>\n",
       "    <tr>\n",
       "      <th>No 3</th>\n",
       "      <td>Twitter for iPhone</td>\n",
       "      <td>http://twitter.com/download/iphone</td>\n",
       "    </tr>\n",
       "    <tr>\n",
       "      <th>No 4</th>\n",
       "      <td>Twitter for iPhone</td>\n",
       "      <td>http://twitter.com/download/iphone</td>\n",
       "    </tr>\n",
       "    <tr>\n",
       "      <th>No 5</th>\n",
       "      <td>Twitter for iPhone</td>\n",
       "      <td>http://twitter.com/download/iphone</td>\n",
       "    </tr>\n",
       "  </tbody>\n",
       "</table>\n",
       "</div>"
      ],
      "text/plain": [
       "             source_text                         source_link\n",
       "No 1  Twitter for iPhone  http://twitter.com/download/iphone\n",
       "No 2  Twitter for iPhone  http://twitter.com/download/iphone\n",
       "No 3  Twitter for iPhone  http://twitter.com/download/iphone\n",
       "No 4  Twitter for iPhone  http://twitter.com/download/iphone\n",
       "No 5  Twitter for iPhone  http://twitter.com/download/iphone"
      ]
     },
     "execution_count": 74,
     "metadata": {},
     "output_type": "execute_result"
    }
   ],
   "source": [
    "api_data_copy[['source_text', 'source_link']].head()"
   ]
  },
  {
   "cell_type": "markdown",
   "id": "fd3cd01a",
   "metadata": {},
   "source": [
    "<b><i><u>Observations</u></i></b>\n",
    "<ol>\n",
    "<li>The jpg_url, img_num, p1, p1_conf, p1_dog, p2, p2_conf, p2_dog, p3, p3_conf, p3_dog columns should be renamed for clarity.</li>\n",
    "<li>Every element in the truncated, retweeted columns in the api_data dataframe has the value False.<br>\n",
    "These Columns should be dropped, seeing they are too monotonous to offer any insight into our data.</li>\n",
    "<li>The values in the p1, p2, p3 columns are not case consistent.</li>\n",
    "</ol>\n",
    "\n",
    "**Define**<br>\n",
    "The jpg_url, img_num, p1, p1_conf, p1_dog, p2, p2_conf, p2_dog, p3, p3_conf, p3_dog columns in the image_data dataframe should be renamed for clarity.<br>\n",
    "- Use the rename method to rename the columns.\n",
    "\n",
    "**Code**"
   ]
  },
  {
   "cell_type": "code",
   "execution_count": 75,
   "id": "d94f1f20",
   "metadata": {},
   "outputs": [],
   "source": [
    "image_data_copy.rename(columns=dict(p1='prediction_1', p2='prediction_2', p3='prediction_3',  p1_conf='prediction_1_confidence',\n",
    "                               p2_conf='prediction_2_confidence', p3_conf='prediction_3_confidence',\n",
    "                               p1_dog='prediction_1_dog', p2_dog='prediction_2_dog', p3_dog='prediction_3_dog', jpg_url='image_url', img_num='image_num'),\n",
    "                  inplace=True)"
   ]
  },
  {
   "cell_type": "markdown",
   "id": "64d5fd3e",
   "metadata": {},
   "source": [
    "**Test**"
   ]
  },
  {
   "cell_type": "code",
   "execution_count": 76,
   "id": "785dc4ce",
   "metadata": {},
   "outputs": [
    {
     "name": "stdout",
     "output_type": "stream",
     "text": [
      "<class 'pandas.core.frame.DataFrame'>\n",
      "RangeIndex: 2075 entries, 0 to 2074\n",
      "Data columns (total 12 columns):\n",
      " #   Column                   Non-Null Count  Dtype  \n",
      "---  ------                   --------------  -----  \n",
      " 0   tweet_id                 2075 non-null   int64  \n",
      " 1   image_url                2075 non-null   object \n",
      " 2   image_num                2075 non-null   int64  \n",
      " 3   prediction_1             2075 non-null   object \n",
      " 4   prediction_1_confidence  2075 non-null   float64\n",
      " 5   prediction_1_dog         2075 non-null   bool   \n",
      " 6   prediction_2             2075 non-null   object \n",
      " 7   prediction_2_confidence  2075 non-null   float64\n",
      " 8   prediction_2_dog         2075 non-null   bool   \n",
      " 9   prediction_3             2075 non-null   object \n",
      " 10  prediction_3_confidence  2075 non-null   float64\n",
      " 11  prediction_3_dog         2075 non-null   bool   \n",
      "dtypes: bool(3), float64(3), int64(2), object(4)\n",
      "memory usage: 152.1+ KB\n"
     ]
    }
   ],
   "source": [
    "#The columns have been renamed.\n",
    "image_data_copy.info()"
   ]
  },
  {
   "cell_type": "markdown",
   "id": "f2fc895a",
   "metadata": {},
   "source": [
    "**Define**<br>\n",
    "Every element in the truncated, retweeted columns in the api_data dataframe has the value False.<br>\n",
    "These Columns should be dropped, seeing they are too monotonous to offer any insight into our data.<br>\n",
    "- Use the drop method to drop the truncated and retweeted columns.\n",
    "\n",
    "**Code**"
   ]
  },
  {
   "cell_type": "code",
   "execution_count": 77,
   "id": "4f718c16",
   "metadata": {},
   "outputs": [],
   "source": [
    "api_data_copy.drop(columns=['truncated', 'retweeted'], inplace=True)"
   ]
  },
  {
   "cell_type": "markdown",
   "id": "2cfd8852",
   "metadata": {},
   "source": [
    "**Test**"
   ]
  },
  {
   "cell_type": "code",
   "execution_count": 78,
   "id": "b73c4937",
   "metadata": {},
   "outputs": [
    {
     "data": {
      "text/plain": [
       "Index(['created_at', 'id', 'full_text', 'is_quote_status', 'retweet_count',\n",
       "       'favorite_count', 'favorited', 'possibly_sensitive',\n",
       "       'possibly_sensitive_appealable', 'lang', 'full_text_rating',\n",
       "       'full_text_link', 'display_text_length', 'source_link', 'source_text'],\n",
       "      dtype='object')"
      ]
     },
     "execution_count": 78,
     "metadata": {},
     "output_type": "execute_result"
    }
   ],
   "source": [
    "# the columns were dropped.\n",
    "api_data_copy.columns"
   ]
  },
  {
   "cell_type": "markdown",
   "id": "4b244acd",
   "metadata": {},
   "source": [
    "**Define**<br>\n",
    "The values in the p1, p2, p3 columns are not case consistent.\n",
    "- Use the apply function to do some string formatting.\n",
    "\n",
    "**Code**"
   ]
  },
  {
   "cell_type": "code",
   "execution_count": 79,
   "id": "c30a65f1",
   "metadata": {},
   "outputs": [],
   "source": [
    "image_data_copy['prediction_1'] = image_data_copy['prediction_1'].apply(lambda x: x.title())\n",
    "image_data_copy['prediction_2'] = image_data_copy['prediction_2'].apply(lambda x: x.title())\n",
    "image_data_copy['prediction_3'] = image_data_copy['prediction_3'].apply(lambda x: x.title())"
   ]
  },
  {
   "cell_type": "markdown",
   "id": "ebc8b0cd",
   "metadata": {},
   "source": [
    "**Test**"
   ]
  },
  {
   "cell_type": "code",
   "execution_count": 80,
   "id": "6517156b",
   "metadata": {},
   "outputs": [
    {
     "data": {
      "text/html": [
       "<div>\n",
       "<style scoped>\n",
       "    .dataframe tbody tr th:only-of-type {\n",
       "        vertical-align: middle;\n",
       "    }\n",
       "\n",
       "    .dataframe tbody tr th {\n",
       "        vertical-align: top;\n",
       "    }\n",
       "\n",
       "    .dataframe thead th {\n",
       "        text-align: right;\n",
       "    }\n",
       "</style>\n",
       "<table border=\"1\" class=\"dataframe\">\n",
       "  <thead>\n",
       "    <tr style=\"text-align: right;\">\n",
       "      <th></th>\n",
       "      <th>prediction_1</th>\n",
       "      <th>prediction_2</th>\n",
       "      <th>prediction_3</th>\n",
       "    </tr>\n",
       "  </thead>\n",
       "  <tbody>\n",
       "    <tr>\n",
       "      <th>0</th>\n",
       "      <td>Welsh_Springer_Spaniel</td>\n",
       "      <td>Collie</td>\n",
       "      <td>Shetland_Sheepdog</td>\n",
       "    </tr>\n",
       "    <tr>\n",
       "      <th>1</th>\n",
       "      <td>Redbone</td>\n",
       "      <td>Miniature_Pinscher</td>\n",
       "      <td>Rhodesian_Ridgeback</td>\n",
       "    </tr>\n",
       "    <tr>\n",
       "      <th>2</th>\n",
       "      <td>German_Shepherd</td>\n",
       "      <td>Malinois</td>\n",
       "      <td>Bloodhound</td>\n",
       "    </tr>\n",
       "    <tr>\n",
       "      <th>3</th>\n",
       "      <td>Rhodesian_Ridgeback</td>\n",
       "      <td>Redbone</td>\n",
       "      <td>Miniature_Pinscher</td>\n",
       "    </tr>\n",
       "    <tr>\n",
       "      <th>4</th>\n",
       "      <td>Miniature_Pinscher</td>\n",
       "      <td>Rottweiler</td>\n",
       "      <td>Doberman</td>\n",
       "    </tr>\n",
       "  </tbody>\n",
       "</table>\n",
       "</div>"
      ],
      "text/plain": [
       "             prediction_1        prediction_2         prediction_3\n",
       "0  Welsh_Springer_Spaniel              Collie    Shetland_Sheepdog\n",
       "1                 Redbone  Miniature_Pinscher  Rhodesian_Ridgeback\n",
       "2         German_Shepherd            Malinois           Bloodhound\n",
       "3     Rhodesian_Ridgeback             Redbone   Miniature_Pinscher\n",
       "4      Miniature_Pinscher          Rottweiler             Doberman"
      ]
     },
     "execution_count": 80,
     "metadata": {},
     "output_type": "execute_result"
    }
   ],
   "source": [
    "image_data_copy[['prediction_1', 'prediction_2', 'prediction_3']].head()"
   ]
  },
  {
   "cell_type": "markdown",
   "id": "3f857fe5",
   "metadata": {},
   "source": [
    "<b>Reassessing the cleaned original_data dataframe.</b>"
   ]
  },
  {
   "cell_type": "code",
   "execution_count": 81,
   "id": "258d5eda",
   "metadata": {},
   "outputs": [
    {
     "name": "stdout",
     "output_type": "stream",
     "text": [
      "<class 'pandas.core.frame.DataFrame'>\n",
      "Int64Index: 2297 entries, 0 to 2355\n",
      "Data columns (total 12 columns):\n",
      " #   Column              Non-Null Count  Dtype              \n",
      "---  ------              --------------  -----              \n",
      " 0   tweet_id            2297 non-null   int64              \n",
      " 1   timestamp           2297 non-null   datetime64[ns, UTC]\n",
      " 2   text                2297 non-null   object             \n",
      " 3   expanded_urls       2297 non-null   object             \n",
      " 4   rating_numerator    2297 non-null   int64              \n",
      " 5   rating_denominator  2297 non-null   int64              \n",
      " 6   name                1501 non-null   object             \n",
      " 7   text_rating         2297 non-null   object             \n",
      " 8   text_link           2287 non-null   object             \n",
      " 9   dog_type            374 non-null    object             \n",
      " 10  source_link         2297 non-null   object             \n",
      " 11  source_text         2297 non-null   object             \n",
      "dtypes: datetime64[ns, UTC](1), int64(3), object(8)\n",
      "memory usage: 297.8+ KB\n"
     ]
    }
   ],
   "source": [
    "original_data_copy.info()"
   ]
  },
  {
   "cell_type": "markdown",
   "id": "594eb8cd",
   "metadata": {},
   "source": [
    "<b>The dog_type column still has too many missing values, it has to be dropped.</b>"
   ]
  },
  {
   "cell_type": "code",
   "execution_count": 82,
   "id": "5fbfc9f9",
   "metadata": {},
   "outputs": [],
   "source": [
    "original_data_copy.drop(columns=['dog_type'], inplace=True)"
   ]
  },
  {
   "cell_type": "markdown",
   "id": "2a1e58e3",
   "metadata": {},
   "source": [
    "<b>The name column also has too many missing values and does not offer any insight into our data, it can also be dropped.</b>\n"
   ]
  },
  {
   "cell_type": "code",
   "execution_count": 83,
   "id": "466310e0",
   "metadata": {},
   "outputs": [],
   "source": [
    "original_data_copy.drop(columns=['name'], inplace=True)"
   ]
  },
  {
   "cell_type": "markdown",
   "id": "b21fd578",
   "metadata": {},
   "source": [
    "<b>The text_link columns has low percentage of missing values, the rows containing the missing values should be dropped.</b>"
   ]
  },
  {
   "cell_type": "code",
   "execution_count": 84,
   "id": "e8d24514",
   "metadata": {},
   "outputs": [],
   "source": [
    "original_data_copy.dropna(subset=['text_link'], inplace=True)"
   ]
  },
  {
   "cell_type": "code",
   "execution_count": 85,
   "id": "e301f6d4",
   "metadata": {},
   "outputs": [
    {
     "name": "stdout",
     "output_type": "stream",
     "text": [
      "<class 'pandas.core.frame.DataFrame'>\n",
      "Int64Index: 2287 entries, 0 to 2355\n",
      "Data columns (total 10 columns):\n",
      " #   Column              Non-Null Count  Dtype              \n",
      "---  ------              --------------  -----              \n",
      " 0   tweet_id            2287 non-null   int64              \n",
      " 1   timestamp           2287 non-null   datetime64[ns, UTC]\n",
      " 2   text                2287 non-null   object             \n",
      " 3   expanded_urls       2287 non-null   object             \n",
      " 4   rating_numerator    2287 non-null   int64              \n",
      " 5   rating_denominator  2287 non-null   int64              \n",
      " 6   text_rating         2287 non-null   object             \n",
      " 7   text_link           2287 non-null   object             \n",
      " 8   source_link         2287 non-null   object             \n",
      " 9   source_text         2287 non-null   object             \n",
      "dtypes: datetime64[ns, UTC](1), int64(3), object(6)\n",
      "memory usage: 196.5+ KB\n"
     ]
    }
   ],
   "source": [
    "#checking the cleaned dataframe\n",
    "original_data_copy.info()"
   ]
  },
  {
   "cell_type": "markdown",
   "id": "c839109e",
   "metadata": {},
   "source": [
    "<b>Reassessing the cleaned image_data dataframe.</b>"
   ]
  },
  {
   "cell_type": "code",
   "execution_count": 86,
   "id": "bb631329",
   "metadata": {},
   "outputs": [
    {
     "name": "stdout",
     "output_type": "stream",
     "text": [
      "<class 'pandas.core.frame.DataFrame'>\n",
      "RangeIndex: 2075 entries, 0 to 2074\n",
      "Data columns (total 12 columns):\n",
      " #   Column                   Non-Null Count  Dtype  \n",
      "---  ------                   --------------  -----  \n",
      " 0   tweet_id                 2075 non-null   int64  \n",
      " 1   image_url                2075 non-null   object \n",
      " 2   image_num                2075 non-null   int64  \n",
      " 3   prediction_1             2075 non-null   object \n",
      " 4   prediction_1_confidence  2075 non-null   float64\n",
      " 5   prediction_1_dog         2075 non-null   bool   \n",
      " 6   prediction_2             2075 non-null   object \n",
      " 7   prediction_2_confidence  2075 non-null   float64\n",
      " 8   prediction_2_dog         2075 non-null   bool   \n",
      " 9   prediction_3             2075 non-null   object \n",
      " 10  prediction_3_confidence  2075 non-null   float64\n",
      " 11  prediction_3_dog         2075 non-null   bool   \n",
      "dtypes: bool(3), float64(3), int64(2), object(4)\n",
      "memory usage: 152.1+ KB\n"
     ]
    }
   ],
   "source": [
    "image_data_copy.info()"
   ]
  },
  {
   "cell_type": "markdown",
   "id": "eb9e5cc9",
   "metadata": {},
   "source": [
    "<b>Reassessing the cleaned api_data dataframe.</b>"
   ]
  },
  {
   "cell_type": "code",
   "execution_count": 87,
   "id": "8ea58bf2",
   "metadata": {},
   "outputs": [
    {
     "name": "stdout",
     "output_type": "stream",
     "text": [
      "<class 'pandas.core.frame.DataFrame'>\n",
      "Index: 2073 entries, No 1 to No 2354\n",
      "Data columns (total 15 columns):\n",
      " #   Column                         Non-Null Count  Dtype              \n",
      "---  ------                         --------------  -----              \n",
      " 0   created_at                     2073 non-null   datetime64[ns, UTC]\n",
      " 1   id                             2073 non-null   object             \n",
      " 2   full_text                      2073 non-null   object             \n",
      " 3   is_quote_status                2073 non-null   object             \n",
      " 4   retweet_count                  2073 non-null   int32              \n",
      " 5   favorite_count                 2073 non-null   int32              \n",
      " 6   favorited                      2073 non-null   bool               \n",
      " 7   possibly_sensitive             2073 non-null   bool               \n",
      " 8   possibly_sensitive_appealable  2073 non-null   bool               \n",
      " 9   lang                           2073 non-null   object             \n",
      " 10  full_text_rating               2072 non-null   object             \n",
      " 11  full_text_link                 2073 non-null   object             \n",
      " 12  display_text_length            2073 non-null   int64              \n",
      " 13  source_link                    2073 non-null   object             \n",
      " 14  source_text                    2073 non-null   object             \n",
      "dtypes: bool(3), datetime64[ns, UTC](1), int32(2), int64(1), object(8)\n",
      "memory usage: 200.4+ KB\n"
     ]
    }
   ],
   "source": [
    "api_data_copy.info()"
   ]
  },
  {
   "cell_type": "markdown",
   "id": "bbf1928e",
   "metadata": {},
   "source": [
    "<b>The full_text_rating columns has low percentage of missing values, the rows containing the missing values should be dropped.</b>"
   ]
  },
  {
   "cell_type": "code",
   "execution_count": 88,
   "id": "c3112559",
   "metadata": {},
   "outputs": [],
   "source": [
    "api_data_copy.dropna(subset=['full_text_rating'], inplace=True)"
   ]
  },
  {
   "cell_type": "code",
   "execution_count": 89,
   "id": "8155f016",
   "metadata": {},
   "outputs": [
    {
     "name": "stdout",
     "output_type": "stream",
     "text": [
      "<class 'pandas.core.frame.DataFrame'>\n",
      "Index: 2072 entries, No 1 to No 2354\n",
      "Data columns (total 15 columns):\n",
      " #   Column                         Non-Null Count  Dtype              \n",
      "---  ------                         --------------  -----              \n",
      " 0   created_at                     2072 non-null   datetime64[ns, UTC]\n",
      " 1   id                             2072 non-null   object             \n",
      " 2   full_text                      2072 non-null   object             \n",
      " 3   is_quote_status                2072 non-null   object             \n",
      " 4   retweet_count                  2072 non-null   int32              \n",
      " 5   favorite_count                 2072 non-null   int32              \n",
      " 6   favorited                      2072 non-null   bool               \n",
      " 7   possibly_sensitive             2072 non-null   bool               \n",
      " 8   possibly_sensitive_appealable  2072 non-null   bool               \n",
      " 9   lang                           2072 non-null   object             \n",
      " 10  full_text_rating               2072 non-null   object             \n",
      " 11  full_text_link                 2072 non-null   object             \n",
      " 12  display_text_length            2072 non-null   int64              \n",
      " 13  source_link                    2072 non-null   object             \n",
      " 14  source_text                    2072 non-null   object             \n",
      "dtypes: bool(3), datetime64[ns, UTC](1), int32(2), int64(1), object(8)\n",
      "memory usage: 200.3+ KB\n"
     ]
    }
   ],
   "source": [
    "#checking the cleaned dataframe\n",
    "api_data_copy.info()"
   ]
  },
  {
   "cell_type": "markdown",
   "id": "8e893811",
   "metadata": {},
   "source": [
    "<b>The three dataframes have been cleaned and tidied and now need to be merged</b>"
   ]
  },
  {
   "cell_type": "code",
   "execution_count": 90,
   "id": "49ca56b0",
   "metadata": {},
   "outputs": [],
   "source": [
    "merged_data = pd.merge(original_data_copy,image_data_copy, on='tweet_id')"
   ]
  },
  {
   "cell_type": "markdown",
   "id": "eb72d29e",
   "metadata": {},
   "source": [
    "<b>Making a new column with the Image Prediction Data</b>"
   ]
  },
  {
   "cell_type": "code",
   "execution_count": 91,
   "id": "0d806ee5",
   "metadata": {},
   "outputs": [],
   "source": [
    "List = []\n",
    "for index, p in enumerate(merged_data[['prediction_1_confidence', 'prediction_2_confidence', 'prediction_3_confidence']].values):\n",
    "    p1, p2, p3 = p\n",
    "    if max(p1,p2,p3) == p1:\n",
    "        value = merged_data['prediction_1'].iloc[index]\n",
    "        List.append(value)\n",
    "    elif max(p1,p2,p3) == p2:\n",
    "        value = merged_data['prediction_2'].iloc[index]\n",
    "        List.append(value)\n",
    "    else:\n",
    "        value = merged_data['prediction_3'].iloc[index]\n",
    "        List.append(value)\n",
    "        \n",
    "merged_data['predicted_breed'] = List"
   ]
  },
  {
   "cell_type": "code",
   "execution_count": 92,
   "id": "ed3725ad",
   "metadata": {},
   "outputs": [],
   "source": [
    "master_data = pd.merge(merged_data, api_data_copy, left_on=['tweet_id'], right_on=['id'])"
   ]
  },
  {
   "cell_type": "markdown",
   "id": "ca9b12c4",
   "metadata": {},
   "source": [
    "<b>Assessing the master_data Dataframe</b>"
   ]
  },
  {
   "cell_type": "code",
   "execution_count": 93,
   "id": "7273ba6c",
   "metadata": {},
   "outputs": [
    {
     "name": "stdout",
     "output_type": "stream",
     "text": [
      "<class 'pandas.core.frame.DataFrame'>\n",
      "Int64Index: 2072 entries, 0 to 2071\n",
      "Data columns (total 37 columns):\n",
      " #   Column                         Non-Null Count  Dtype              \n",
      "---  ------                         --------------  -----              \n",
      " 0   tweet_id                       2072 non-null   object             \n",
      " 1   timestamp                      2072 non-null   datetime64[ns, UTC]\n",
      " 2   text                           2072 non-null   object             \n",
      " 3   expanded_urls                  2072 non-null   object             \n",
      " 4   rating_numerator               2072 non-null   int64              \n",
      " 5   rating_denominator             2072 non-null   int64              \n",
      " 6   text_rating                    2072 non-null   object             \n",
      " 7   text_link                      2072 non-null   object             \n",
      " 8   source_link_x                  2072 non-null   object             \n",
      " 9   source_text_x                  2072 non-null   object             \n",
      " 10  image_url                      2072 non-null   object             \n",
      " 11  image_num                      2072 non-null   int64              \n",
      " 12  prediction_1                   2072 non-null   object             \n",
      " 13  prediction_1_confidence        2072 non-null   float64            \n",
      " 14  prediction_1_dog               2072 non-null   bool               \n",
      " 15  prediction_2                   2072 non-null   object             \n",
      " 16  prediction_2_confidence        2072 non-null   float64            \n",
      " 17  prediction_2_dog               2072 non-null   bool               \n",
      " 18  prediction_3                   2072 non-null   object             \n",
      " 19  prediction_3_confidence        2072 non-null   float64            \n",
      " 20  prediction_3_dog               2072 non-null   bool               \n",
      " 21  predicted_breed                2072 non-null   object             \n",
      " 22  created_at                     2072 non-null   datetime64[ns, UTC]\n",
      " 23  id                             2072 non-null   object             \n",
      " 24  full_text                      2072 non-null   object             \n",
      " 25  is_quote_status                2072 non-null   object             \n",
      " 26  retweet_count                  2072 non-null   int32              \n",
      " 27  favorite_count                 2072 non-null   int32              \n",
      " 28  favorited                      2072 non-null   bool               \n",
      " 29  possibly_sensitive             2072 non-null   bool               \n",
      " 30  possibly_sensitive_appealable  2072 non-null   bool               \n",
      " 31  lang                           2072 non-null   object             \n",
      " 32  full_text_rating               2072 non-null   object             \n",
      " 33  full_text_link                 2072 non-null   object             \n",
      " 34  display_text_length            2072 non-null   int64              \n",
      " 35  source_link_y                  2072 non-null   object             \n",
      " 36  source_text_y                  2072 non-null   object             \n",
      "dtypes: bool(6), datetime64[ns, UTC](2), float64(3), int32(2), int64(4), object(20)\n",
      "memory usage: 514.0+ KB\n"
     ]
    }
   ],
   "source": [
    "master_data.info()"
   ]
  },
  {
   "cell_type": "markdown",
   "id": "b4040cce",
   "metadata": {},
   "source": [
    "<b>The full_text, full_text_rating, full_text_link, tweet_id, created_at, source_text_x, source_link_x,  and \n",
    "the text, text_rating, text_link, id, timestamp, source_text_y, source_link_y columns respectively are identical in terms of values, one of these identical columns in each case needs to be dropped.</b>"
   ]
  },
  {
   "cell_type": "code",
   "execution_count": 94,
   "id": "3d8c3fe8",
   "metadata": {},
   "outputs": [],
   "source": [
    "master_data.drop(columns=['text', 'text_rating', 'text_link', 'id', 'timestamp', 'source_text_y', 'source_link_y'],\n",
    "                 inplace=True)"
   ]
  },
  {
   "cell_type": "markdown",
   "id": "626da945",
   "metadata": {},
   "source": [
    "<b>Resetting the order of the columns in the master_data dataframe.</b>"
   ]
  },
  {
   "cell_type": "code",
   "execution_count": 95,
   "id": "bfcf1560",
   "metadata": {},
   "outputs": [],
   "source": [
    "list_of_columns = ['tweet_id', 'created_at', 'full_text', 'full_text_link', 'full_text_rating', 'rating_denominator', 'rating_numerator',\n",
    "     'display_text_length','lang', 'retweet_count', 'favorite_count', 'favorited', 'possibly_sensitive',\n",
    "     'possibly_sensitive_appealable', 'is_quote_status', 'source_text_x', 'source_link_x', 'expanded_urls', 'image_url',\n",
    "     'image_num', 'prediction_1', 'prediction_1_confidence', 'prediction_1_dog', 'prediction_2', 'prediction_2_confidence',\n",
    "     'prediction_2_dog', 'prediction_3', 'prediction_3_confidence', 'prediction_3_dog', 'predicted_breed']\n",
    "\n",
    "master_data = master_data.reindex(columns=list_of_columns)"
   ]
  },
  {
   "cell_type": "markdown",
   "id": "1d56d8a6",
   "metadata": {},
   "source": [
    "<b>The full_text_rating is the combination of the rating_denominator and rating_numerator columns. The rating_denominator and rating_numerator columns need to be dropped to avoid data redundancy.</b>"
   ]
  },
  {
   "cell_type": "code",
   "execution_count": 96,
   "id": "688955cd",
   "metadata": {},
   "outputs": [],
   "source": [
    "master_data.drop(columns=['rating_denominator', 'rating_numerator'], inplace=True)"
   ]
  },
  {
   "cell_type": "markdown",
   "id": "0fc65c75",
   "metadata": {},
   "source": [
    "<b>The source_text_x and the source_link_x need to be renamed for clarity.</b>"
   ]
  },
  {
   "cell_type": "code",
   "execution_count": 97,
   "id": "f2b1bdf0",
   "metadata": {},
   "outputs": [],
   "source": [
    "master_data.rename(columns=dict(source_text_x = 'source_text', source_link_x = 'source_link'), inplace=True)"
   ]
  },
  {
   "cell_type": "markdown",
   "id": "86e894f4",
   "metadata": {},
   "source": [
    "<b><u>The cleaned Master_data dataframe</u></b>"
   ]
  },
  {
   "cell_type": "code",
   "execution_count": 98,
   "id": "1570c20f",
   "metadata": {},
   "outputs": [
    {
     "data": {
      "text/html": [
       "<div>\n",
       "<style scoped>\n",
       "    .dataframe tbody tr th:only-of-type {\n",
       "        vertical-align: middle;\n",
       "    }\n",
       "\n",
       "    .dataframe tbody tr th {\n",
       "        vertical-align: top;\n",
       "    }\n",
       "\n",
       "    .dataframe thead th {\n",
       "        text-align: right;\n",
       "    }\n",
       "</style>\n",
       "<table border=\"1\" class=\"dataframe\">\n",
       "  <thead>\n",
       "    <tr style=\"text-align: right;\">\n",
       "      <th></th>\n",
       "      <th>tweet_id</th>\n",
       "      <th>created_at</th>\n",
       "      <th>full_text</th>\n",
       "      <th>full_text_link</th>\n",
       "      <th>full_text_rating</th>\n",
       "      <th>display_text_length</th>\n",
       "      <th>lang</th>\n",
       "      <th>retweet_count</th>\n",
       "      <th>favorite_count</th>\n",
       "      <th>favorited</th>\n",
       "      <th>possibly_sensitive</th>\n",
       "      <th>possibly_sensitive_appealable</th>\n",
       "      <th>is_quote_status</th>\n",
       "      <th>source_text</th>\n",
       "      <th>source_link</th>\n",
       "      <th>expanded_urls</th>\n",
       "      <th>image_url</th>\n",
       "      <th>image_num</th>\n",
       "      <th>prediction_1</th>\n",
       "      <th>prediction_1_confidence</th>\n",
       "      <th>prediction_1_dog</th>\n",
       "      <th>prediction_2</th>\n",
       "      <th>prediction_2_confidence</th>\n",
       "      <th>prediction_2_dog</th>\n",
       "      <th>prediction_3</th>\n",
       "      <th>prediction_3_confidence</th>\n",
       "      <th>prediction_3_dog</th>\n",
       "      <th>predicted_breed</th>\n",
       "    </tr>\n",
       "  </thead>\n",
       "  <tbody>\n",
       "    <tr>\n",
       "      <th>0</th>\n",
       "      <td>892420643555336193</td>\n",
       "      <td>2017-08-01 16:23:56+00:00</td>\n",
       "      <td>This is Phineas. He's a mystical boy. Only eve...</td>\n",
       "      <td>https://t.co/MgUWQ76dJU</td>\n",
       "      <td>13/10</td>\n",
       "      <td>85</td>\n",
       "      <td>en</td>\n",
       "      <td>8853</td>\n",
       "      <td>39467</td>\n",
       "      <td>False</td>\n",
       "      <td>False</td>\n",
       "      <td>False</td>\n",
       "      <td>False</td>\n",
       "      <td>Twitter for iPhone</td>\n",
       "      <td>http://twitter.com/download/iphone</td>\n",
       "      <td>https://twitter.com/dog_rates/status/892420643...</td>\n",
       "      <td>https://pbs.twimg.com/media/DGKD1-bXoAAIAUK.jpg</td>\n",
       "      <td>1</td>\n",
       "      <td>Orange</td>\n",
       "      <td>0.097049</td>\n",
       "      <td>False</td>\n",
       "      <td>Bagel</td>\n",
       "      <td>0.085851</td>\n",
       "      <td>False</td>\n",
       "      <td>Banana</td>\n",
       "      <td>0.076110</td>\n",
       "      <td>False</td>\n",
       "      <td>Orange</td>\n",
       "    </tr>\n",
       "    <tr>\n",
       "      <th>1</th>\n",
       "      <td>892177421306343426</td>\n",
       "      <td>2017-08-01 00:17:27+00:00</td>\n",
       "      <td>This is Tilly. She's just checking pup on you....</td>\n",
       "      <td>https://t.co/0Xxu71qeIV</td>\n",
       "      <td>13/10</td>\n",
       "      <td>138</td>\n",
       "      <td>en</td>\n",
       "      <td>6514</td>\n",
       "      <td>33819</td>\n",
       "      <td>False</td>\n",
       "      <td>False</td>\n",
       "      <td>False</td>\n",
       "      <td>False</td>\n",
       "      <td>Twitter for iPhone</td>\n",
       "      <td>http://twitter.com/download/iphone</td>\n",
       "      <td>https://twitter.com/dog_rates/status/892177421...</td>\n",
       "      <td>https://pbs.twimg.com/media/DGGmoV4XsAAUL6n.jpg</td>\n",
       "      <td>1</td>\n",
       "      <td>Chihuahua</td>\n",
       "      <td>0.323581</td>\n",
       "      <td>True</td>\n",
       "      <td>Pekinese</td>\n",
       "      <td>0.090647</td>\n",
       "      <td>True</td>\n",
       "      <td>Papillon</td>\n",
       "      <td>0.068957</td>\n",
       "      <td>True</td>\n",
       "      <td>Chihuahua</td>\n",
       "    </tr>\n",
       "    <tr>\n",
       "      <th>2</th>\n",
       "      <td>891815181378084864</td>\n",
       "      <td>2017-07-31 00:18:03+00:00</td>\n",
       "      <td>This is Archie. He is a rare Norwegian Pouncin...</td>\n",
       "      <td>https://t.co/wUnZnhtVJB</td>\n",
       "      <td>12/10</td>\n",
       "      <td>121</td>\n",
       "      <td>en</td>\n",
       "      <td>4328</td>\n",
       "      <td>25461</td>\n",
       "      <td>False</td>\n",
       "      <td>False</td>\n",
       "      <td>False</td>\n",
       "      <td>False</td>\n",
       "      <td>Twitter for iPhone</td>\n",
       "      <td>http://twitter.com/download/iphone</td>\n",
       "      <td>https://twitter.com/dog_rates/status/891815181...</td>\n",
       "      <td>https://pbs.twimg.com/media/DGBdLU1WsAANxJ9.jpg</td>\n",
       "      <td>1</td>\n",
       "      <td>Chihuahua</td>\n",
       "      <td>0.716012</td>\n",
       "      <td>True</td>\n",
       "      <td>Malamute</td>\n",
       "      <td>0.078253</td>\n",
       "      <td>True</td>\n",
       "      <td>Kelpie</td>\n",
       "      <td>0.031379</td>\n",
       "      <td>True</td>\n",
       "      <td>Chihuahua</td>\n",
       "    </tr>\n",
       "    <tr>\n",
       "      <th>3</th>\n",
       "      <td>891689557279858688</td>\n",
       "      <td>2017-07-30 15:58:51+00:00</td>\n",
       "      <td>This is Darla. She commenced a snooze mid meal...</td>\n",
       "      <td>https://t.co/tD36da7qLQ</td>\n",
       "      <td>13/10</td>\n",
       "      <td>79</td>\n",
       "      <td>en</td>\n",
       "      <td>8964</td>\n",
       "      <td>42908</td>\n",
       "      <td>False</td>\n",
       "      <td>False</td>\n",
       "      <td>False</td>\n",
       "      <td>False</td>\n",
       "      <td>Twitter for iPhone</td>\n",
       "      <td>http://twitter.com/download/iphone</td>\n",
       "      <td>https://twitter.com/dog_rates/status/891689557...</td>\n",
       "      <td>https://pbs.twimg.com/media/DF_q7IAWsAEuuN8.jpg</td>\n",
       "      <td>1</td>\n",
       "      <td>Paper_Towel</td>\n",
       "      <td>0.170278</td>\n",
       "      <td>False</td>\n",
       "      <td>Labrador_Retriever</td>\n",
       "      <td>0.168086</td>\n",
       "      <td>True</td>\n",
       "      <td>Spatula</td>\n",
       "      <td>0.040836</td>\n",
       "      <td>False</td>\n",
       "      <td>Paper_Towel</td>\n",
       "    </tr>\n",
       "    <tr>\n",
       "      <th>4</th>\n",
       "      <td>891327558926688256</td>\n",
       "      <td>2017-07-29 16:00:24+00:00</td>\n",
       "      <td>This is Franklin. He would like you to stop ca...</td>\n",
       "      <td>https://t.co/AtUZn91f7f</td>\n",
       "      <td>12/10</td>\n",
       "      <td>138</td>\n",
       "      <td>en</td>\n",
       "      <td>9774</td>\n",
       "      <td>41048</td>\n",
       "      <td>False</td>\n",
       "      <td>False</td>\n",
       "      <td>False</td>\n",
       "      <td>False</td>\n",
       "      <td>Twitter for iPhone</td>\n",
       "      <td>http://twitter.com/download/iphone</td>\n",
       "      <td>https://twitter.com/dog_rates/status/891327558...</td>\n",
       "      <td>https://pbs.twimg.com/media/DF6hr6BUMAAzZgT.jpg</td>\n",
       "      <td>2</td>\n",
       "      <td>Basset</td>\n",
       "      <td>0.555712</td>\n",
       "      <td>True</td>\n",
       "      <td>English_Springer</td>\n",
       "      <td>0.225770</td>\n",
       "      <td>True</td>\n",
       "      <td>German_Short-Haired_Pointer</td>\n",
       "      <td>0.175219</td>\n",
       "      <td>True</td>\n",
       "      <td>Basset</td>\n",
       "    </tr>\n",
       "  </tbody>\n",
       "</table>\n",
       "</div>"
      ],
      "text/plain": [
       "             tweet_id                created_at  \\\n",
       "0  892420643555336193 2017-08-01 16:23:56+00:00   \n",
       "1  892177421306343426 2017-08-01 00:17:27+00:00   \n",
       "2  891815181378084864 2017-07-31 00:18:03+00:00   \n",
       "3  891689557279858688 2017-07-30 15:58:51+00:00   \n",
       "4  891327558926688256 2017-07-29 16:00:24+00:00   \n",
       "\n",
       "                                           full_text           full_text_link  \\\n",
       "0  This is Phineas. He's a mystical boy. Only eve...  https://t.co/MgUWQ76dJU   \n",
       "1  This is Tilly. She's just checking pup on you....  https://t.co/0Xxu71qeIV   \n",
       "2  This is Archie. He is a rare Norwegian Pouncin...  https://t.co/wUnZnhtVJB   \n",
       "3  This is Darla. She commenced a snooze mid meal...  https://t.co/tD36da7qLQ   \n",
       "4  This is Franklin. He would like you to stop ca...  https://t.co/AtUZn91f7f   \n",
       "\n",
       "  full_text_rating  display_text_length lang  retweet_count  favorite_count  \\\n",
       "0            13/10                   85   en           8853           39467   \n",
       "1            13/10                  138   en           6514           33819   \n",
       "2            12/10                  121   en           4328           25461   \n",
       "3            13/10                   79   en           8964           42908   \n",
       "4            12/10                  138   en           9774           41048   \n",
       "\n",
       "   favorited  possibly_sensitive  possibly_sensitive_appealable  \\\n",
       "0      False               False                          False   \n",
       "1      False               False                          False   \n",
       "2      False               False                          False   \n",
       "3      False               False                          False   \n",
       "4      False               False                          False   \n",
       "\n",
       "  is_quote_status         source_text                         source_link  \\\n",
       "0           False  Twitter for iPhone  http://twitter.com/download/iphone   \n",
       "1           False  Twitter for iPhone  http://twitter.com/download/iphone   \n",
       "2           False  Twitter for iPhone  http://twitter.com/download/iphone   \n",
       "3           False  Twitter for iPhone  http://twitter.com/download/iphone   \n",
       "4           False  Twitter for iPhone  http://twitter.com/download/iphone   \n",
       "\n",
       "                                       expanded_urls  \\\n",
       "0  https://twitter.com/dog_rates/status/892420643...   \n",
       "1  https://twitter.com/dog_rates/status/892177421...   \n",
       "2  https://twitter.com/dog_rates/status/891815181...   \n",
       "3  https://twitter.com/dog_rates/status/891689557...   \n",
       "4  https://twitter.com/dog_rates/status/891327558...   \n",
       "\n",
       "                                         image_url  image_num prediction_1  \\\n",
       "0  https://pbs.twimg.com/media/DGKD1-bXoAAIAUK.jpg          1       Orange   \n",
       "1  https://pbs.twimg.com/media/DGGmoV4XsAAUL6n.jpg          1    Chihuahua   \n",
       "2  https://pbs.twimg.com/media/DGBdLU1WsAANxJ9.jpg          1    Chihuahua   \n",
       "3  https://pbs.twimg.com/media/DF_q7IAWsAEuuN8.jpg          1  Paper_Towel   \n",
       "4  https://pbs.twimg.com/media/DF6hr6BUMAAzZgT.jpg          2       Basset   \n",
       "\n",
       "   prediction_1_confidence  prediction_1_dog        prediction_2  \\\n",
       "0                 0.097049             False               Bagel   \n",
       "1                 0.323581              True            Pekinese   \n",
       "2                 0.716012              True            Malamute   \n",
       "3                 0.170278             False  Labrador_Retriever   \n",
       "4                 0.555712              True    English_Springer   \n",
       "\n",
       "   prediction_2_confidence  prediction_2_dog                 prediction_3  \\\n",
       "0                 0.085851             False                       Banana   \n",
       "1                 0.090647              True                     Papillon   \n",
       "2                 0.078253              True                       Kelpie   \n",
       "3                 0.168086              True                      Spatula   \n",
       "4                 0.225770              True  German_Short-Haired_Pointer   \n",
       "\n",
       "   prediction_3_confidence  prediction_3_dog predicted_breed  \n",
       "0                 0.076110             False          Orange  \n",
       "1                 0.068957              True       Chihuahua  \n",
       "2                 0.031379              True       Chihuahua  \n",
       "3                 0.040836             False     Paper_Towel  \n",
       "4                 0.175219              True          Basset  "
      ]
     },
     "execution_count": 98,
     "metadata": {},
     "output_type": "execute_result"
    }
   ],
   "source": [
    "master_data.head()"
   ]
  },
  {
   "cell_type": "markdown",
   "id": "ff3b1d13",
   "metadata": {},
   "source": [
    "<b>Saving the master_data Dataframe</b>"
   ]
  },
  {
   "cell_type": "code",
   "execution_count": 99,
   "id": "2c6c5503",
   "metadata": {},
   "outputs": [],
   "source": [
    "master_data.to_csv('Datasets/twitter_archive_master.csv',index=False)"
   ]
  }
 ],
 "metadata": {
  "kernelspec": {
   "display_name": "Python 3 (ipykernel)",
   "language": "python",
   "name": "python3"
  },
  "language_info": {
   "codemirror_mode": {
    "name": "ipython",
    "version": 3
   },
   "file_extension": ".py",
   "mimetype": "text/x-python",
   "name": "python",
   "nbconvert_exporter": "python",
   "pygments_lexer": "ipython3",
   "version": "3.9.7"
  }
 },
 "nbformat": 4,
 "nbformat_minor": 5
}
